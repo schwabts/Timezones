{
 "cells": [
  {
   "cell_type": "markdown",
   "id": "712b21aa",
   "metadata": {},
   "source": [
    "# [Python Programming Foundation Course](https://practice.geeksforgeeks.org/courses/Python-Foundation?utm_source=geeksforgeeks&utm_medium=article&utm_campaign=GFG_Article_Bottom_Python_Foundation)\n",
    "\n",
    "by GeeksForGeeks \n",
    "\n",
    "\n",
    "<a id='toc'></a>\n",
    "## Table of Contents\n",
    "\n",
    "<a id='toc1'></a>\n",
    "1. [Python | Pandas dataframe.aggregate()](#section1)\n",
    "1. [Pandas GroupBy](#section2)\n",
    "1. [Combining multiple columns in Pandas groupby with dictionary](#section3)\n",
    "1. [How to combine Groupby and Multiple Aggregate Functions in Pandas?](#section4)\n",
    "1. [Pandas – Groupby multiple values and plotting results](#section5)\n",
    "1. [Pandas – GroupBy One Column and Get Mean, Min, and Max values](#section6)\n",
    "1. [Select row with maximum and minimum value in Pandas dataframe](#section7)\n",
    "1. [Find maximum values & position in columns and rows of a Dataframe in Pandas](#section8)\n",
    "1. [Python | Pandas dataframe.max()](#section9)\n",
    "1. [Python | Pandas dataframe.idxmax()](#section10)\n",
    "1. [Get the index of maximum value in DataFrame column](#section11)\n",
    "1. [How to get rows/index names in Pandas dataframe](#section12)\n",
    "1. [Decimal Functions in Python | Set 2 (logical_and(), normalize(), quantize(), rotate() … )](#section13)\n",
    "1. [NetworkX : Python software package for study of complex networks](#section14)\n",
    "1. [Directed Graphs, Multigraphs and Visualization in Networkx](#section15)\n",
    "1. [Python | Visualize graphs generated in NetworkX using Matplotlib](#section16)\n",
    "1. [Visualize Graphs in Python](#section17)\n",
    "1. [Graph Plotting in Python | Set 1](#section18)\n",
    "1. [Graph Plotting in Python | Set 2](#section19)\n",
    "1. [Graph Plotting in Python | Set 3](#section20)\n",
    "1. [Plotting graph using Seaborn | Python](#section21)\n",
    "1. [Box plot visualization with Pandas and Seaborn](#section22)\n",
    "1. [Box Plot in Python using Matplotlib](#section23)\n",
    "1. [How to get column names in Pandas dataframe](#section24)\n",
    "1. [Python | Pandas dataframe.groupby()](#section25)\n",
    "1. [Adding new column to existing DataFrame in Pandas](#section26)\n",
    "1. [Python map() function](#section27)\n",
    "1. [Taking input in Python](#section28)\n",
    "1. [Iterate over a list in Python](#section29)\n",
    "1. [Python program to convert a list to string](#section30)\n"
   ]
  },
  {
   "cell_type": "markdown",
   "id": "5519e6b8",
   "metadata": {},
   "source": [
    "<a id='section1'></a>\n",
    "## 1. [Python | Pandas dataframe.aggregate()](https://www.geeksforgeeks.org/python-pandas-dataframe-aggregate/)"
   ]
  },
  {
   "cell_type": "markdown",
   "id": "ab25a008",
   "metadata": {},
   "source": [
    "Python is a great language for doing data analysis, primarily because of the fantastic ecosystem of data-centric Python packages. Pandas is one of those packages and makes importing and analyzing data much easier.\n",
    "\n",
    "Dataframe.aggregate() function is used to apply some aggregation across one or more column. Aggregate using callable, string, dict, or list of string/callables. Most frequently used aggregations are:\n",
    "\n",
    "| | |\n",
    "| --- | --- |\n",
    "| **sum:** | Return the sum of the values for the requested axis |\n",
    "| **min:** | Return the minimum of the values for the requested axis |\n",
    "| **max:** | Return the maximum of the values for the requested axis |\n",
    "\n",
    "\n",
    "\n",
    "| **Syntax:** | `DataFrame.aggregate(func, axis=0, *args, **kwargs)`  |\n",
    "| --- | --- |\n",
    "| **Parameters :** | |\n",
    "| **func :** | callable, string, dictionary, or list of string/callables. Function to use for aggregating the data. |\n",
    "| | If a function, must either work when passed a DataFrame or when passed to DataFrame.apply. |\n",
    "| | For a DataFrame, can pass a dict, if the keys are DataFrame column names. |\n",
    "| **axis :** {0 or ‘index’ (default), 1 or ‘columns’} | 0 or ‘index’:   apply function to each column. |\n",
    "|                                                     | 1 or ‘columns’: apply function to each row.    |\n",
    "| **Returns :** | Aggregated DataFrame |\n",
    "\n",
    "\n"
   ]
  },
  {
   "cell_type": "markdown",
   "id": "b733a2ae",
   "metadata": {},
   "source": [
    "For link to CSV file Used in Code, click [here](https://media.geeksforgeeks.org/wp-content/uploads/nba.csv)\n",
    "\n",
    "**Example #1:** Aggregate ‘sum’ and ‘min’ function across all the columns in data frame."
   ]
  },
  {
   "cell_type": "code",
   "execution_count": 20,
   "id": "dd2f86a8",
   "metadata": {},
   "outputs": [
    {
     "data": {
      "text/html": [
       "<div>\n",
       "<style scoped>\n",
       "    .dataframe tbody tr th:only-of-type {\n",
       "        vertical-align: middle;\n",
       "    }\n",
       "\n",
       "    .dataframe tbody tr th {\n",
       "        vertical-align: top;\n",
       "    }\n",
       "\n",
       "    .dataframe thead th {\n",
       "        text-align: right;\n",
       "    }\n",
       "</style>\n",
       "<table border=\"1\" class=\"dataframe\">\n",
       "  <thead>\n",
       "    <tr style=\"text-align: right;\">\n",
       "      <th></th>\n",
       "      <th>Name</th>\n",
       "      <th>Team</th>\n",
       "      <th>Number</th>\n",
       "      <th>Position</th>\n",
       "      <th>Age</th>\n",
       "      <th>Height</th>\n",
       "      <th>Weight</th>\n",
       "      <th>College</th>\n",
       "      <th>Salary</th>\n",
       "    </tr>\n",
       "  </thead>\n",
       "  <tbody>\n",
       "    <tr>\n",
       "      <th>0</th>\n",
       "      <td>Avery Bradley</td>\n",
       "      <td>Boston Celtics</td>\n",
       "      <td>0.0</td>\n",
       "      <td>PG</td>\n",
       "      <td>25.0</td>\n",
       "      <td>6-2</td>\n",
       "      <td>180.0</td>\n",
       "      <td>Texas</td>\n",
       "      <td>7730337.0</td>\n",
       "    </tr>\n",
       "    <tr>\n",
       "      <th>1</th>\n",
       "      <td>Jae Crowder</td>\n",
       "      <td>Boston Celtics</td>\n",
       "      <td>99.0</td>\n",
       "      <td>SF</td>\n",
       "      <td>25.0</td>\n",
       "      <td>6-6</td>\n",
       "      <td>235.0</td>\n",
       "      <td>Marquette</td>\n",
       "      <td>6796117.0</td>\n",
       "    </tr>\n",
       "    <tr>\n",
       "      <th>2</th>\n",
       "      <td>John Holland</td>\n",
       "      <td>Boston Celtics</td>\n",
       "      <td>30.0</td>\n",
       "      <td>SG</td>\n",
       "      <td>27.0</td>\n",
       "      <td>6-5</td>\n",
       "      <td>205.0</td>\n",
       "      <td>Boston University</td>\n",
       "      <td>NaN</td>\n",
       "    </tr>\n",
       "    <tr>\n",
       "      <th>3</th>\n",
       "      <td>R.J. Hunter</td>\n",
       "      <td>Boston Celtics</td>\n",
       "      <td>28.0</td>\n",
       "      <td>SG</td>\n",
       "      <td>22.0</td>\n",
       "      <td>6-5</td>\n",
       "      <td>185.0</td>\n",
       "      <td>Georgia State</td>\n",
       "      <td>1148640.0</td>\n",
       "    </tr>\n",
       "    <tr>\n",
       "      <th>4</th>\n",
       "      <td>Jonas Jerebko</td>\n",
       "      <td>Boston Celtics</td>\n",
       "      <td>8.0</td>\n",
       "      <td>PF</td>\n",
       "      <td>29.0</td>\n",
       "      <td>6-10</td>\n",
       "      <td>231.0</td>\n",
       "      <td>NaN</td>\n",
       "      <td>5000000.0</td>\n",
       "    </tr>\n",
       "    <tr>\n",
       "      <th>5</th>\n",
       "      <td>Amir Johnson</td>\n",
       "      <td>Boston Celtics</td>\n",
       "      <td>90.0</td>\n",
       "      <td>PF</td>\n",
       "      <td>29.0</td>\n",
       "      <td>6-9</td>\n",
       "      <td>240.0</td>\n",
       "      <td>NaN</td>\n",
       "      <td>12000000.0</td>\n",
       "    </tr>\n",
       "    <tr>\n",
       "      <th>6</th>\n",
       "      <td>Jordan Mickey</td>\n",
       "      <td>Boston Celtics</td>\n",
       "      <td>55.0</td>\n",
       "      <td>PF</td>\n",
       "      <td>21.0</td>\n",
       "      <td>6-8</td>\n",
       "      <td>235.0</td>\n",
       "      <td>LSU</td>\n",
       "      <td>1170960.0</td>\n",
       "    </tr>\n",
       "    <tr>\n",
       "      <th>7</th>\n",
       "      <td>Kelly Olynyk</td>\n",
       "      <td>Boston Celtics</td>\n",
       "      <td>41.0</td>\n",
       "      <td>C</td>\n",
       "      <td>25.0</td>\n",
       "      <td>7-0</td>\n",
       "      <td>238.0</td>\n",
       "      <td>Gonzaga</td>\n",
       "      <td>2165160.0</td>\n",
       "    </tr>\n",
       "    <tr>\n",
       "      <th>8</th>\n",
       "      <td>Terry Rozier</td>\n",
       "      <td>Boston Celtics</td>\n",
       "      <td>12.0</td>\n",
       "      <td>PG</td>\n",
       "      <td>22.0</td>\n",
       "      <td>6-2</td>\n",
       "      <td>190.0</td>\n",
       "      <td>Louisville</td>\n",
       "      <td>1824360.0</td>\n",
       "    </tr>\n",
       "    <tr>\n",
       "      <th>9</th>\n",
       "      <td>Marcus Smart</td>\n",
       "      <td>Boston Celtics</td>\n",
       "      <td>36.0</td>\n",
       "      <td>PG</td>\n",
       "      <td>22.0</td>\n",
       "      <td>6-4</td>\n",
       "      <td>220.0</td>\n",
       "      <td>Oklahoma State</td>\n",
       "      <td>3431040.0</td>\n",
       "    </tr>\n",
       "  </tbody>\n",
       "</table>\n",
       "</div>"
      ],
      "text/plain": [
       "            Name            Team  Number Position   Age Height  Weight  \\\n",
       "0  Avery Bradley  Boston Celtics     0.0       PG  25.0    6-2   180.0   \n",
       "1    Jae Crowder  Boston Celtics    99.0       SF  25.0    6-6   235.0   \n",
       "2   John Holland  Boston Celtics    30.0       SG  27.0    6-5   205.0   \n",
       "3    R.J. Hunter  Boston Celtics    28.0       SG  22.0    6-5   185.0   \n",
       "4  Jonas Jerebko  Boston Celtics     8.0       PF  29.0   6-10   231.0   \n",
       "5   Amir Johnson  Boston Celtics    90.0       PF  29.0    6-9   240.0   \n",
       "6  Jordan Mickey  Boston Celtics    55.0       PF  21.0    6-8   235.0   \n",
       "7   Kelly Olynyk  Boston Celtics    41.0        C  25.0    7-0   238.0   \n",
       "8   Terry Rozier  Boston Celtics    12.0       PG  22.0    6-2   190.0   \n",
       "9   Marcus Smart  Boston Celtics    36.0       PG  22.0    6-4   220.0   \n",
       "\n",
       "             College      Salary  \n",
       "0              Texas   7730337.0  \n",
       "1          Marquette   6796117.0  \n",
       "2  Boston University         NaN  \n",
       "3      Georgia State   1148640.0  \n",
       "4                NaN   5000000.0  \n",
       "5                NaN  12000000.0  \n",
       "6                LSU   1170960.0  \n",
       "7            Gonzaga   2165160.0  \n",
       "8         Louisville   1824360.0  \n",
       "9     Oklahoma State   3431040.0  "
      ]
     },
     "execution_count": 20,
     "metadata": {},
     "output_type": "execute_result"
    }
   ],
   "source": [
    "# importing pandas package\n",
    "import pandas as pd\n",
    "  \n",
    "# making data frame from csv file\n",
    "df = pd.read_csv(\"https://media.geeksforgeeks.org/wp-content/uploads/nba.csv\")\n",
    "  \n",
    "# printing the first 10 rows of the dataframe\n",
    "df[:10]"
   ]
  },
  {
   "cell_type": "markdown",
   "id": "d056a80d",
   "metadata": {},
   "source": [
    "Aggregation works with only numeric type columns.\n",
    "\n",
    "**Output of following code:**\n",
    "\n",
    "For each column which are having numeric values, minimum and sum of all values has been found. For dataframe df , we have four such columns Number, Age, Weight, Salary."
   ]
  },
  {
   "cell_type": "code",
   "execution_count": 21,
   "id": "c16d6f6a",
   "metadata": {},
   "outputs": [
    {
     "data": {
      "text/html": [
       "<div>\n",
       "<style scoped>\n",
       "    .dataframe tbody tr th:only-of-type {\n",
       "        vertical-align: middle;\n",
       "    }\n",
       "\n",
       "    .dataframe tbody tr th {\n",
       "        vertical-align: top;\n",
       "    }\n",
       "\n",
       "    .dataframe thead th {\n",
       "        text-align: right;\n",
       "    }\n",
       "</style>\n",
       "<table border=\"1\" class=\"dataframe\">\n",
       "  <thead>\n",
       "    <tr style=\"text-align: right;\">\n",
       "      <th></th>\n",
       "      <th>Number</th>\n",
       "      <th>Age</th>\n",
       "      <th>Weight</th>\n",
       "      <th>Salary</th>\n",
       "    </tr>\n",
       "  </thead>\n",
       "  <tbody>\n",
       "    <tr>\n",
       "      <th>sum</th>\n",
       "      <td>8079.0</td>\n",
       "      <td>12311.0</td>\n",
       "      <td>101236.0</td>\n",
       "      <td>2.159837e+09</td>\n",
       "    </tr>\n",
       "    <tr>\n",
       "      <th>min</th>\n",
       "      <td>0.0</td>\n",
       "      <td>19.0</td>\n",
       "      <td>161.0</td>\n",
       "      <td>3.088800e+04</td>\n",
       "    </tr>\n",
       "  </tbody>\n",
       "</table>\n",
       "</div>"
      ],
      "text/plain": [
       "     Number      Age    Weight        Salary\n",
       "sum  8079.0  12311.0  101236.0  2.159837e+09\n",
       "min     0.0     19.0     161.0  3.088800e+04"
      ]
     },
     "execution_count": 21,
     "metadata": {},
     "output_type": "execute_result"
    }
   ],
   "source": [
    "# Applying aggregation across all the columns \n",
    "# sum and min will be found for each \n",
    "# numeric type column in df dataframe\n",
    "  \n",
    "df.aggregate(['sum', 'min'])"
   ]
  },
  {
   "cell_type": "markdown",
   "id": "63712984",
   "metadata": {},
   "source": [
    "**Example #2:** \n",
    "\n",
    "In Pandas, we can also apply different aggregation functions across different columns. For that, we need to pass a dictionary with key containing the column names and values containing the list of aggregation functions for any specific column.\n",
    "\n",
    "**Output of following code:**\n",
    "\n",
    "Separate aggregation has been applied to each column, if any specific aggregation is not applied on a column then it has NaN value corresponding to it."
   ]
  },
  {
   "cell_type": "code",
   "execution_count": 23,
   "id": "2ae196f7",
   "metadata": {},
   "outputs": [
    {
     "data": {
      "text/html": [
       "<div>\n",
       "<style scoped>\n",
       "    .dataframe tbody tr th:only-of-type {\n",
       "        vertical-align: middle;\n",
       "    }\n",
       "\n",
       "    .dataframe tbody tr th {\n",
       "        vertical-align: top;\n",
       "    }\n",
       "\n",
       "    .dataframe thead th {\n",
       "        text-align: right;\n",
       "    }\n",
       "</style>\n",
       "<table border=\"1\" class=\"dataframe\">\n",
       "  <thead>\n",
       "    <tr style=\"text-align: right;\">\n",
       "      <th></th>\n",
       "      <th>Number</th>\n",
       "      <th>Age</th>\n",
       "      <th>Weight</th>\n",
       "      <th>Salary</th>\n",
       "    </tr>\n",
       "  </thead>\n",
       "  <tbody>\n",
       "    <tr>\n",
       "      <th>sum</th>\n",
       "      <td>8079.0</td>\n",
       "      <td>NaN</td>\n",
       "      <td>101236.0</td>\n",
       "      <td>2.159837e+09</td>\n",
       "    </tr>\n",
       "    <tr>\n",
       "      <th>min</th>\n",
       "      <td>0.0</td>\n",
       "      <td>19.0</td>\n",
       "      <td>161.0</td>\n",
       "      <td>NaN</td>\n",
       "    </tr>\n",
       "    <tr>\n",
       "      <th>max</th>\n",
       "      <td>NaN</td>\n",
       "      <td>40.0</td>\n",
       "      <td>NaN</td>\n",
       "      <td>NaN</td>\n",
       "    </tr>\n",
       "  </tbody>\n",
       "</table>\n",
       "</div>"
      ],
      "text/plain": [
       "     Number   Age    Weight        Salary\n",
       "sum  8079.0   NaN  101236.0  2.159837e+09\n",
       "min     0.0  19.0     161.0           NaN\n",
       "max     NaN  40.0       NaN           NaN"
      ]
     },
     "execution_count": 23,
     "metadata": {},
     "output_type": "execute_result"
    }
   ],
   "source": [
    "# importing pandas package\n",
    "import pandas as pd\n",
    "  \n",
    "# making data frame from csv file\n",
    "df = pd.read_csv(\"https://media.geeksforgeeks.org/wp-content/uploads/nba.csv\")\n",
    "  \n",
    "# We are going to find aggregation for these columns\n",
    "df.aggregate({\"Number\":['sum', 'min'],\n",
    "              \"Age\":['max', 'min'],\n",
    "              \"Weight\":['min', 'sum'], \n",
    "              \"Salary\":['sum']})"
   ]
  },
  {
   "cell_type": "markdown",
   "id": "60373a76",
   "metadata": {},
   "source": [
    "<a id='section2'></a>\n",
    "## 2. [Pandas GroupBy](https://www.geeksforgeeks.org/pandas-groupby/?ref=lbp)"
   ]
  },
  {
   "cell_type": "markdown",
   "id": "8cb63ddd",
   "metadata": {},
   "source": [
    "Groupby is a pretty simple concept. We can create a grouping of categories and apply a function to the categories. It’s a simple concept but it’s an extremely valuable technique that’s widely used in data science. In real data science projects, you’ll be dealing with large amounts of data and trying things over and over, so for efficiency, we use Groupby concept. Groupby concept is really important because it’s ability to aggregate data efficiently, both in performance and the amount code is magnificent. Groupby mainly refers to a process involving one or more of the following steps they are:\n",
    "\n",
    "* Splitting : It is a process in which we split data into group by applying some conditions on datasets.\n",
    "* Applying : It is a process in which we apply a function to each group independently\n",
    "* Combining : It is a process in which we combine different datasets after applying groupby and results into a data structure"
   ]
  },
  {
   "cell_type": "markdown",
   "id": "4e40b28a",
   "metadata": {},
   "source": [
    "The following image will help in understanding a process involve in Groupby concept.\n",
    "1. Group the unique values from the Team column <img src=\"https://media.geeksforgeeks.org/wp-content/uploads/groupby1.png\" alt=\"\" width=\"1000\" height=\"484\" class=\"alignnone size-full wp-image-873011\">\n",
    "1. Now there’s a bucket for each group <img src=\"https://media.geeksforgeeks.org/wp-content/uploads/groupby3.png\" alt=\"\" width=\"1000\" height=\"717\" class=\"alignnone size-full wp-image-873014\">\n",
    "1. Toss the other data into the buckets <img src=\"https://media.geeksforgeeks.org/wp-content/uploads/groupby2.png\" alt=\"\" width=\"1000\" height=\"458\" class=\"alignnone size-full wp-image-873013\">\n",
    "1.  Apply a function on the weight column of each bucket. <img src=\"https://media.geeksforgeeks.org/wp-content/uploads/groupby4.png\" alt=\"\" width=\"1000\" height=\"779\" class=\"alignnone size-full wp-image-873021\">"
   ]
  },
  {
   "cell_type": "markdown",
   "id": "07b8e609",
   "metadata": {},
   "source": [
    "### Splitting Data into Groups"
   ]
  },
  {
   "cell_type": "markdown",
   "id": "8ba8d6dc",
   "metadata": {},
   "source": [
    "Splitting is a process in which we split data into a group by applying some conditions on datasets. In order to split the data, we apply certain conditions on datasets. In order to split the data, we use `groupby()` function this function is used to split the data into groups based on some criteria. Pandas objects can be split on any of their axes. The abstract definition of grouping is to provide a mapping of labels to group names. Pandas datasets can be split into any of their objects. There are multiple ways to split data like:\n",
    "\n",
    "* `obj.groupby(key)`\n",
    "* `obj.groupby(key, axis=1)`\n",
    "* `obj.groupby([key1, key2])`\n",
    "\n",
    "**Note :** In this we refer to the grouping objects as the keys."
   ]
  },
  {
   "cell_type": "markdown",
   "id": "e83b8337",
   "metadata": {},
   "source": [
    "### Grouping data with one key:\n"
   ]
  },
  {
   "cell_type": "markdown",
   "id": "0d0ebe0f",
   "metadata": {},
   "source": [
    "In order to group data with one key, we pass only one key as an argument in groupby function."
   ]
  },
  {
   "cell_type": "code",
   "execution_count": 12,
   "id": "a2368421",
   "metadata": {},
   "outputs": [
    {
     "name": "stdout",
     "output_type": "stream",
     "text": [
      "     Name  Age    Address Qualification\n",
      "0     Jai   27     Nagpur           Msc\n",
      "1    Anuj   24     Kanpur            MA\n",
      "2     Jai   22  Allahabad           MCA\n",
      "3  Princi   32    Kannuaj           Phd\n",
      "4  Gaurav   33    Jaunpur        B.Tech\n",
      "5    Anuj   36     Kanpur         B.com\n",
      "6  Princi   27  Allahabad           Msc\n",
      "7    Abhi   32    Aligarh            MA\n"
     ]
    }
   ],
   "source": [
    "# importing pandas module\n",
    "import pandas as pd \n",
    "   \n",
    "# Define a dictionary containing employee data \n",
    "data1 = {'Name':['Jai', 'Anuj', 'Jai', 'Princi', \n",
    "                 'Gaurav', 'Anuj', 'Princi', 'Abhi'], \n",
    "        'Age':[27, 24, 22, 32, \n",
    "               33, 36, 27, 32], \n",
    "        'Address':['Nagpur', 'Kanpur', 'Allahabad', 'Kannuaj',\n",
    "                   'Jaunpur', 'Kanpur', 'Allahabad', 'Aligarh'], \n",
    "        'Qualification':['Msc', 'MA', 'MCA', 'Phd',\n",
    "                         'B.Tech', 'B.com', 'Msc', 'MA']} \n",
    "     \n",
    "   \n",
    "# Convert the dictionary into DataFrame  \n",
    "df = pd.DataFrame(data1)\n",
    "   \n",
    "print(df) "
   ]
  },
  {
   "cell_type": "markdown",
   "id": "aec29676",
   "metadata": {},
   "source": [
    "Now we group a data of `Name` using `groupby()` function."
   ]
  },
  {
   "cell_type": "code",
   "execution_count": 15,
   "id": "04ecdeb4",
   "metadata": {},
   "outputs": [
    {
     "name": "stdout",
     "output_type": "stream",
     "text": [
      "{'Abhi': [7], 'Anuj': [1, 5], 'Gaurav': [4], 'Jai': [0, 2], 'Princi': [3, 6]}\n"
     ]
    }
   ],
   "source": [
    "# using groupby function\n",
    "# with one key\n",
    "  \n",
    "df.groupby('Name')\n",
    "print(df.groupby('Name').groups)"
   ]
  },
  {
   "cell_type": "markdown",
   "id": "bc3ec355",
   "metadata": {},
   "source": [
    "**Output :**\n",
    "\n",
    "<img src=\"https://media.geeksforgeeks.org/wp-content/uploads/ser23.jpg\" alt=\"\" width=\"982\" height=\"41\" class=\"alignnone size-full wp-image-840328\">"
   ]
  },
  {
   "cell_type": "markdown",
   "id": "cad69c20",
   "metadata": {},
   "source": [
    "Now we print the first entries in all the groups formed."
   ]
  },
  {
   "cell_type": "code",
   "execution_count": 16,
   "id": "12f0c57e",
   "metadata": {},
   "outputs": [
    {
     "data": {
      "text/html": [
       "<div>\n",
       "<style scoped>\n",
       "    .dataframe tbody tr th:only-of-type {\n",
       "        vertical-align: middle;\n",
       "    }\n",
       "\n",
       "    .dataframe tbody tr th {\n",
       "        vertical-align: top;\n",
       "    }\n",
       "\n",
       "    .dataframe thead th {\n",
       "        text-align: right;\n",
       "    }\n",
       "</style>\n",
       "<table border=\"1\" class=\"dataframe\">\n",
       "  <thead>\n",
       "    <tr style=\"text-align: right;\">\n",
       "      <th></th>\n",
       "      <th>Age</th>\n",
       "      <th>Address</th>\n",
       "      <th>Qualification</th>\n",
       "    </tr>\n",
       "    <tr>\n",
       "      <th>Name</th>\n",
       "      <th></th>\n",
       "      <th></th>\n",
       "      <th></th>\n",
       "    </tr>\n",
       "  </thead>\n",
       "  <tbody>\n",
       "    <tr>\n",
       "      <th>Abhi</th>\n",
       "      <td>32</td>\n",
       "      <td>Aligarh</td>\n",
       "      <td>MA</td>\n",
       "    </tr>\n",
       "    <tr>\n",
       "      <th>Anuj</th>\n",
       "      <td>24</td>\n",
       "      <td>Kanpur</td>\n",
       "      <td>MA</td>\n",
       "    </tr>\n",
       "    <tr>\n",
       "      <th>Gaurav</th>\n",
       "      <td>33</td>\n",
       "      <td>Jaunpur</td>\n",
       "      <td>B.Tech</td>\n",
       "    </tr>\n",
       "    <tr>\n",
       "      <th>Jai</th>\n",
       "      <td>27</td>\n",
       "      <td>Nagpur</td>\n",
       "      <td>Msc</td>\n",
       "    </tr>\n",
       "    <tr>\n",
       "      <th>Princi</th>\n",
       "      <td>32</td>\n",
       "      <td>Kannuaj</td>\n",
       "      <td>Phd</td>\n",
       "    </tr>\n",
       "  </tbody>\n",
       "</table>\n",
       "</div>"
      ],
      "text/plain": [
       "        Age  Address Qualification\n",
       "Name                              \n",
       "Abhi     32  Aligarh            MA\n",
       "Anuj     24   Kanpur            MA\n",
       "Gaurav   33  Jaunpur        B.Tech\n",
       "Jai      27   Nagpur           Msc\n",
       "Princi   32  Kannuaj           Phd"
      ]
     },
     "execution_count": 16,
     "metadata": {},
     "output_type": "execute_result"
    }
   ],
   "source": [
    "# applying groupby() function to \n",
    "# group the data on Name value. \n",
    "gk = df.groupby('Name') \n",
    "    \n",
    "# Let's print the first entries \n",
    "# in all the groups formed. \n",
    "gk.first() "
   ]
  },
  {
   "cell_type": "markdown",
   "id": "826eaf23",
   "metadata": {},
   "source": [
    "### Grouping data with multiple keys :"
   ]
  },
  {
   "cell_type": "markdown",
   "id": "90e93058",
   "metadata": {},
   "source": [
    "In order to group data with multiple keys, we pass multiple keys in `groupby` function."
   ]
  },
  {
   "cell_type": "code",
   "execution_count": 8,
   "id": "3f0da272",
   "metadata": {},
   "outputs": [
    {
     "name": "stdout",
     "output_type": "stream",
     "text": [
      "     Name  Age    Address Qualification\n",
      "0     Jai   27     Nagpur           Msc\n",
      "1    Anuj   24     Kanpur            MA\n",
      "2     Jai   22  Allahabad           MCA\n",
      "3  Princi   32    Kannuaj           Phd\n",
      "4  Gaurav   33    Jaunpur        B.Tech\n",
      "5    Anuj   36     Kanpur         B.com\n",
      "6  Princi   27  Allahabad           Msc\n",
      "7    Abhi   32    Aligarh            MA\n"
     ]
    }
   ],
   "source": [
    "# importing pandas module\n",
    "import pandas as pd \n",
    "   \n",
    "# Define a dictionary containing employee data \n",
    "data1 = {'Name':['Jai', 'Anuj', 'Jai', 'Princi', \n",
    "                 'Gaurav', 'Anuj', 'Princi', 'Abhi'], \n",
    "        'Age':[27, 24, 22, 32, \n",
    "               33, 36, 27, 32], \n",
    "        'Address':['Nagpur', 'Kanpur', 'Allahabad', 'Kannuaj',\n",
    "                   'Jaunpur', 'Kanpur', 'Allahabad', 'Aligarh'], \n",
    "        'Qualification':['Msc', 'MA', 'MCA', 'Phd',\n",
    "                         'B.Tech', 'B.com', 'Msc', 'MA']} \n",
    "     \n",
    "   \n",
    "# Convert the dictionary into DataFrame  \n",
    "df = pd.DataFrame(data1)\n",
    "   \n",
    "print(df) "
   ]
  },
  {
   "cell_type": "markdown",
   "id": "5668e939",
   "metadata": {},
   "source": [
    "Now we group a data of “Name” and “Qualification” together using multiple keys in groupby function."
   ]
  },
  {
   "cell_type": "code",
   "execution_count": 11,
   "id": "205ef73c",
   "metadata": {},
   "outputs": [
    {
     "name": "stdout",
     "output_type": "stream",
     "text": [
      "{('Abhi', 'MA'): [7], ('Anuj', 'B.com'): [5], ('Anuj', 'MA'): [1], ('Gaurav', 'B.Tech'): [4], ('Jai', 'MCA'): [2], ('Jai', 'Msc'): [0], ('Princi', 'Msc'): [6], ('Princi', 'Phd'): [3]}\n"
     ]
    }
   ],
   "source": [
    "# Using multiple keys in\n",
    "# groupby() function\n",
    "df.groupby(['Name', 'Qualification'])\n",
    "\n",
    "print(df.groupby(['Name', 'Qualification']).groups)"
   ]
  },
  {
   "cell_type": "markdown",
   "id": "7cfe06b2",
   "metadata": {},
   "source": [
    "### Grouping data by sorting keys :"
   ]
  },
  {
   "cell_type": "markdown",
   "id": "bd44bd2d",
   "metadata": {},
   "source": [
    "Group keys are sorted by default uring the groupby operation. User can pass `sort=False` for potential speedups."
   ]
  },
  {
   "cell_type": "code",
   "execution_count": 2,
   "id": "1c49c360",
   "metadata": {},
   "outputs": [
    {
     "name": "stdout",
     "output_type": "stream",
     "text": [
      "     Name  Age\n",
      "0     Jai   27\n",
      "1    Anuj   24\n",
      "2     Jai   22\n",
      "3  Princi   32\n",
      "4  Gaurav   33\n",
      "5    Anuj   36\n",
      "6  Princi   27\n",
      "7    Abhi   32\n"
     ]
    }
   ],
   "source": [
    "# importing pandas module\n",
    "import pandas as pd \n",
    "\n",
    "# Define a dictionary containing employee data \n",
    "data1 = {'Name':['Jai', 'Anuj', 'Jai', 'Princi', \n",
    "                 'Gaurav', 'Anuj', 'Princi', 'Abhi'], \n",
    "        'Age':[27, 24, 22, 32, \n",
    "               33, 36, 27, 32], } \n",
    "\n",
    "\n",
    "# Convert the dictionary into DataFrame  \n",
    "df = pd.DataFrame(data1)\n",
    "\n",
    "print(df) "
   ]
  },
  {
   "cell_type": "markdown",
   "id": "effb6e0d",
   "metadata": {},
   "source": [
    "Now we apply `groupby()` without `sort`"
   ]
  },
  {
   "cell_type": "code",
   "execution_count": 3,
   "id": "b9ae1a13",
   "metadata": {},
   "outputs": [
    {
     "data": {
      "text/html": [
       "<div>\n",
       "<style scoped>\n",
       "    .dataframe tbody tr th:only-of-type {\n",
       "        vertical-align: middle;\n",
       "    }\n",
       "\n",
       "    .dataframe tbody tr th {\n",
       "        vertical-align: top;\n",
       "    }\n",
       "\n",
       "    .dataframe thead th {\n",
       "        text-align: right;\n",
       "    }\n",
       "</style>\n",
       "<table border=\"1\" class=\"dataframe\">\n",
       "  <thead>\n",
       "    <tr style=\"text-align: right;\">\n",
       "      <th></th>\n",
       "      <th>Age</th>\n",
       "    </tr>\n",
       "    <tr>\n",
       "      <th>Name</th>\n",
       "      <th></th>\n",
       "    </tr>\n",
       "  </thead>\n",
       "  <tbody>\n",
       "    <tr>\n",
       "      <th>Abhi</th>\n",
       "      <td>32</td>\n",
       "    </tr>\n",
       "    <tr>\n",
       "      <th>Anuj</th>\n",
       "      <td>60</td>\n",
       "    </tr>\n",
       "    <tr>\n",
       "      <th>Gaurav</th>\n",
       "      <td>33</td>\n",
       "    </tr>\n",
       "    <tr>\n",
       "      <th>Jai</th>\n",
       "      <td>49</td>\n",
       "    </tr>\n",
       "    <tr>\n",
       "      <th>Princi</th>\n",
       "      <td>59</td>\n",
       "    </tr>\n",
       "  </tbody>\n",
       "</table>\n",
       "</div>"
      ],
      "text/plain": [
       "        Age\n",
       "Name       \n",
       "Abhi     32\n",
       "Anuj     60\n",
       "Gaurav   33\n",
       "Jai      49\n",
       "Princi   59"
      ]
     },
     "execution_count": 3,
     "metadata": {},
     "output_type": "execute_result"
    }
   ],
   "source": [
    "# using groupby function\n",
    "# without using sort\n",
    "  \n",
    "df.groupby(['Name']).sum()"
   ]
  },
  {
   "cell_type": "markdown",
   "id": "dfbd8c91",
   "metadata": {},
   "source": [
    "Now we apply `groupby()` using sort in order to attain potential speedups"
   ]
  },
  {
   "cell_type": "code",
   "execution_count": 6,
   "id": "f944faab",
   "metadata": {},
   "outputs": [
    {
     "data": {
      "text/html": [
       "<div>\n",
       "<style scoped>\n",
       "    .dataframe tbody tr th:only-of-type {\n",
       "        vertical-align: middle;\n",
       "    }\n",
       "\n",
       "    .dataframe tbody tr th {\n",
       "        vertical-align: top;\n",
       "    }\n",
       "\n",
       "    .dataframe thead th {\n",
       "        text-align: right;\n",
       "    }\n",
       "</style>\n",
       "<table border=\"1\" class=\"dataframe\">\n",
       "  <thead>\n",
       "    <tr style=\"text-align: right;\">\n",
       "      <th></th>\n",
       "      <th>Age</th>\n",
       "    </tr>\n",
       "    <tr>\n",
       "      <th>Name</th>\n",
       "      <th></th>\n",
       "    </tr>\n",
       "  </thead>\n",
       "  <tbody>\n",
       "    <tr>\n",
       "      <th>Jai</th>\n",
       "      <td>49</td>\n",
       "    </tr>\n",
       "    <tr>\n",
       "      <th>Anuj</th>\n",
       "      <td>60</td>\n",
       "    </tr>\n",
       "    <tr>\n",
       "      <th>Princi</th>\n",
       "      <td>59</td>\n",
       "    </tr>\n",
       "    <tr>\n",
       "      <th>Gaurav</th>\n",
       "      <td>33</td>\n",
       "    </tr>\n",
       "    <tr>\n",
       "      <th>Abhi</th>\n",
       "      <td>32</td>\n",
       "    </tr>\n",
       "  </tbody>\n",
       "</table>\n",
       "</div>"
      ],
      "text/plain": [
       "        Age\n",
       "Name       \n",
       "Jai      49\n",
       "Anuj     60\n",
       "Princi   59\n",
       "Gaurav   33\n",
       "Abhi     32"
      ]
     },
     "execution_count": 6,
     "metadata": {},
     "output_type": "execute_result"
    }
   ],
   "source": [
    "# using groupby function\n",
    "# with sort\n",
    "  \n",
    "df.groupby(['Name'], sort = False).sum()"
   ]
  },
  {
   "cell_type": "markdown",
   "id": "1f48b4fe",
   "metadata": {},
   "source": [
    "### Grouping data with object attributes :"
   ]
  },
  {
   "cell_type": "markdown",
   "id": "77f6d7e7",
   "metadata": {},
   "source": [
    "Groups attribute is like dictionary whose keys are the computed unique groups and corresponding values being the axis labels belonging to each group."
   ]
  },
  {
   "cell_type": "code",
   "execution_count": 17,
   "id": "f3f4af78",
   "metadata": {},
   "outputs": [
    {
     "name": "stdout",
     "output_type": "stream",
     "text": [
      "     Name  Age    Address Qualification\n",
      "0     Jai   27     Nagpur           Msc\n",
      "1    Anuj   24     Kanpur            MA\n",
      "2     Jai   22  Allahabad           MCA\n",
      "3  Princi   32    Kannuaj           Phd\n",
      "4  Gaurav   33    Jaunpur        B.Tech\n",
      "5    Anuj   36     Kanpur         B.com\n",
      "6  Princi   27  Allahabad           Msc\n",
      "7    Abhi   32    Aligarh            MA\n"
     ]
    }
   ],
   "source": [
    "# importing pandas module\n",
    "import pandas as pd \n",
    "   \n",
    "# Define a dictionary containing employee data \n",
    "data1 = {'Name':['Jai', 'Anuj', 'Jai', 'Princi', \n",
    "                 'Gaurav', 'Anuj', 'Princi', 'Abhi'], \n",
    "        'Age':[27, 24, 22, 32, \n",
    "               33, 36, 27, 32], \n",
    "        'Address':['Nagpur', 'Kanpur', 'Allahabad', 'Kannuaj',\n",
    "                   'Jaunpur', 'Kanpur', 'Allahabad', 'Aligarh'], \n",
    "        'Qualification':['Msc', 'MA', 'MCA', 'Phd',\n",
    "                         'B.Tech', 'B.com', 'Msc', 'MA']} \n",
    "     \n",
    "   \n",
    "# Convert the dictionary into DataFrame  \n",
    "df = pd.DataFrame(data1)\n",
    "   \n",
    "print(df) "
   ]
  },
  {
   "cell_type": "markdown",
   "id": "3c4439af",
   "metadata": {},
   "source": [
    "Now we group data like we do in a dictionary using keys."
   ]
  },
  {
   "cell_type": "code",
   "execution_count": 18,
   "id": "b8bd8a1a",
   "metadata": {},
   "outputs": [
    {
     "data": {
      "text/plain": [
       "{'Abhi': [7], 'Anuj': [1, 5], 'Gaurav': [4], 'Jai': [0, 2], 'Princi': [3, 6]}"
      ]
     },
     "execution_count": 18,
     "metadata": {},
     "output_type": "execute_result"
    }
   ],
   "source": [
    "# using keys for grouping\n",
    "# data\n",
    "  \n",
    "df.groupby('Name').groups"
   ]
  },
  {
   "cell_type": "markdown",
   "id": "9958589c",
   "metadata": {},
   "source": [
    "### Iterating through groups"
   ]
  },
  {
   "cell_type": "markdown",
   "id": "e25e779d",
   "metadata": {},
   "source": [
    "In order to iterate an element of groups, we can iterate through the object similar to `itertools.obj`."
   ]
  },
  {
   "cell_type": "code",
   "execution_count": 19,
   "id": "da4e3055",
   "metadata": {},
   "outputs": [
    {
     "name": "stdout",
     "output_type": "stream",
     "text": [
      "     Name  Age    Address Qualification\n",
      "0     Jai   27     Nagpur           Msc\n",
      "1    Anuj   24     Kanpur            MA\n",
      "2     Jai   22  Allahabad           MCA\n",
      "3  Princi   32    Kannuaj           Phd\n",
      "4  Gaurav   33    Jaunpur        B.Tech\n",
      "5    Anuj   36     Kanpur         B.com\n",
      "6  Princi   27  Allahabad           Msc\n",
      "7    Abhi   32    Aligarh            MA\n"
     ]
    }
   ],
   "source": [
    "# importing pandas module\n",
    "import pandas as pd \n",
    "   \n",
    "# Define a dictionary containing employee data \n",
    "data1 = {'Name':['Jai', 'Anuj', 'Jai', 'Princi', \n",
    "                 'Gaurav', 'Anuj', 'Princi', 'Abhi'], \n",
    "        'Age':[27, 24, 22, 32, \n",
    "               33, 36, 27, 32], \n",
    "        'Address':['Nagpur', 'Kanpur', 'Allahabad', 'Kannuaj',\n",
    "                   'Jaunpur', 'Kanpur', 'Allahabad', 'Aligarh'], \n",
    "        'Qualification':['Msc', 'MA', 'MCA', 'Phd',\n",
    "                         'B.Tech', 'B.com', 'Msc', 'MA']} \n",
    "     \n",
    "   \n",
    "# Convert the dictionary into DataFrame  \n",
    "df = pd.DataFrame(data1)\n",
    "   \n",
    "print(df) "
   ]
  },
  {
   "cell_type": "markdown",
   "id": "f41601af",
   "metadata": {},
   "source": [
    "Now we iterate an element of group in a similar way we do in itertools.obj."
   ]
  },
  {
   "cell_type": "code",
   "execution_count": 20,
   "id": "3500304a",
   "metadata": {},
   "outputs": [
    {
     "name": "stdout",
     "output_type": "stream",
     "text": [
      "Abhi\n",
      "   Name  Age  Address Qualification\n",
      "7  Abhi   32  Aligarh            MA\n",
      "\n",
      "Anuj\n",
      "   Name  Age Address Qualification\n",
      "1  Anuj   24  Kanpur            MA\n",
      "5  Anuj   36  Kanpur         B.com\n",
      "\n",
      "Gaurav\n",
      "     Name  Age  Address Qualification\n",
      "4  Gaurav   33  Jaunpur        B.Tech\n",
      "\n",
      "Jai\n",
      "  Name  Age    Address Qualification\n",
      "0  Jai   27     Nagpur           Msc\n",
      "2  Jai   22  Allahabad           MCA\n",
      "\n",
      "Princi\n",
      "     Name  Age    Address Qualification\n",
      "3  Princi   32    Kannuaj           Phd\n",
      "6  Princi   27  Allahabad           Msc\n",
      "\n"
     ]
    }
   ],
   "source": [
    "# iterating an element\n",
    "# of group\n",
    "  \n",
    "grp = df.groupby('Name')\n",
    "for name, group in grp:\n",
    "    print(name)\n",
    "    print(group)\n",
    "    print()"
   ]
  },
  {
   "cell_type": "markdown",
   "id": "2651aceb",
   "metadata": {},
   "source": [
    "Now we iterate an element of group containing multiple keys"
   ]
  },
  {
   "cell_type": "code",
   "execution_count": 22,
   "id": "b3a2e647",
   "metadata": {},
   "outputs": [
    {
     "name": "stdout",
     "output_type": "stream",
     "text": [
      "('Abhi', 'MA')\n",
      "   Name  Age  Address Qualification\n",
      "7  Abhi   32  Aligarh            MA\n",
      "\n",
      "('Anuj', 'B.com')\n",
      "   Name  Age Address Qualification\n",
      "5  Anuj   36  Kanpur         B.com\n",
      "\n",
      "('Anuj', 'MA')\n",
      "   Name  Age Address Qualification\n",
      "1  Anuj   24  Kanpur            MA\n",
      "\n",
      "('Gaurav', 'B.Tech')\n",
      "     Name  Age  Address Qualification\n",
      "4  Gaurav   33  Jaunpur        B.Tech\n",
      "\n",
      "('Jai', 'MCA')\n",
      "  Name  Age    Address Qualification\n",
      "2  Jai   22  Allahabad           MCA\n",
      "\n",
      "('Jai', 'Msc')\n",
      "  Name  Age Address Qualification\n",
      "0  Jai   27  Nagpur           Msc\n",
      "\n",
      "('Princi', 'Msc')\n",
      "     Name  Age    Address Qualification\n",
      "6  Princi   27  Allahabad           Msc\n",
      "\n",
      "('Princi', 'Phd')\n",
      "     Name  Age  Address Qualification\n",
      "3  Princi   32  Kannuaj           Phd\n",
      "\n"
     ]
    }
   ],
   "source": [
    "# iterating an element\n",
    "# of group containing \n",
    "# multiple keys\n",
    "  \n",
    "grp = df.groupby(['Name', 'Qualification'])\n",
    "for name, group in grp:\n",
    "    print(name)\n",
    "    print(group)\n",
    "    print()"
   ]
  },
  {
   "cell_type": "markdown",
   "id": "03ceacdd",
   "metadata": {},
   "source": [
    "### Selecting a groups"
   ]
  },
  {
   "cell_type": "markdown",
   "id": "4703284f",
   "metadata": {},
   "source": [
    "In order to select a group, we can select group using `GroupBy.get_group()`. We can select a group by applying a function `GroupBy.get_group` this function select a single group."
   ]
  },
  {
   "cell_type": "code",
   "execution_count": 23,
   "id": "b5abdc86",
   "metadata": {},
   "outputs": [
    {
     "name": "stdout",
     "output_type": "stream",
     "text": [
      "     Name  Age    Address Qualification\n",
      "0     Jai   27     Nagpur           Msc\n",
      "1    Anuj   24     Kanpur            MA\n",
      "2     Jai   22  Allahabad           MCA\n",
      "3  Princi   32    Kannuaj           Phd\n",
      "4  Gaurav   33    Jaunpur        B.Tech\n",
      "5    Anuj   36     Kanpur         B.com\n",
      "6  Princi   27  Allahabad           Msc\n",
      "7    Abhi   32    Aligarh            MA\n"
     ]
    }
   ],
   "source": [
    "# importing pandas module\n",
    "import pandas as pd \n",
    "   \n",
    "# Define a dictionary containing employee data \n",
    "data1 = {'Name':['Jai', 'Anuj', 'Jai', 'Princi', \n",
    "                 'Gaurav', 'Anuj', 'Princi', 'Abhi'], \n",
    "        'Age':[27, 24, 22, 32, \n",
    "               33, 36, 27, 32], \n",
    "        'Address':['Nagpur', 'Kanpur', 'Allahabad', 'Kannuaj',\n",
    "                   'Jaunpur', 'Kanpur', 'Allahabad', 'Aligarh'], \n",
    "        'Qualification':['Msc', 'MA', 'MCA', 'Phd',\n",
    "                         'B.Tech', 'B.com', 'Msc', 'MA']} \n",
    "     \n",
    "   \n",
    "# Convert the dictionary into DataFrame  \n",
    "df = pd.DataFrame(data1)\n",
    "   \n",
    "print(df)"
   ]
  },
  {
   "cell_type": "markdown",
   "id": "568384bb",
   "metadata": {},
   "source": [
    "Now we select a single group using `Groupby.get_group`."
   ]
  },
  {
   "cell_type": "code",
   "execution_count": 24,
   "id": "883597e3",
   "metadata": {},
   "outputs": [
    {
     "data": {
      "text/html": [
       "<div>\n",
       "<style scoped>\n",
       "    .dataframe tbody tr th:only-of-type {\n",
       "        vertical-align: middle;\n",
       "    }\n",
       "\n",
       "    .dataframe tbody tr th {\n",
       "        vertical-align: top;\n",
       "    }\n",
       "\n",
       "    .dataframe thead th {\n",
       "        text-align: right;\n",
       "    }\n",
       "</style>\n",
       "<table border=\"1\" class=\"dataframe\">\n",
       "  <thead>\n",
       "    <tr style=\"text-align: right;\">\n",
       "      <th></th>\n",
       "      <th>Name</th>\n",
       "      <th>Age</th>\n",
       "      <th>Address</th>\n",
       "      <th>Qualification</th>\n",
       "    </tr>\n",
       "  </thead>\n",
       "  <tbody>\n",
       "    <tr>\n",
       "      <th>0</th>\n",
       "      <td>Jai</td>\n",
       "      <td>27</td>\n",
       "      <td>Nagpur</td>\n",
       "      <td>Msc</td>\n",
       "    </tr>\n",
       "    <tr>\n",
       "      <th>2</th>\n",
       "      <td>Jai</td>\n",
       "      <td>22</td>\n",
       "      <td>Allahabad</td>\n",
       "      <td>MCA</td>\n",
       "    </tr>\n",
       "  </tbody>\n",
       "</table>\n",
       "</div>"
      ],
      "text/plain": [
       "  Name  Age    Address Qualification\n",
       "0  Jai   27     Nagpur           Msc\n",
       "2  Jai   22  Allahabad           MCA"
      ]
     },
     "execution_count": 24,
     "metadata": {},
     "output_type": "execute_result"
    }
   ],
   "source": [
    "# selecting a single group\n",
    "  \n",
    "grp = df.groupby('Name')\n",
    "grp.get_group('Jai')"
   ]
  },
  {
   "cell_type": "markdown",
   "id": "85a4e190",
   "metadata": {},
   "source": [
    "Now we select an object grouped on multiple columns"
   ]
  },
  {
   "cell_type": "code",
   "execution_count": 25,
   "id": "1ce52f31",
   "metadata": {},
   "outputs": [
    {
     "data": {
      "text/html": [
       "<div>\n",
       "<style scoped>\n",
       "    .dataframe tbody tr th:only-of-type {\n",
       "        vertical-align: middle;\n",
       "    }\n",
       "\n",
       "    .dataframe tbody tr th {\n",
       "        vertical-align: top;\n",
       "    }\n",
       "\n",
       "    .dataframe thead th {\n",
       "        text-align: right;\n",
       "    }\n",
       "</style>\n",
       "<table border=\"1\" class=\"dataframe\">\n",
       "  <thead>\n",
       "    <tr style=\"text-align: right;\">\n",
       "      <th></th>\n",
       "      <th>Name</th>\n",
       "      <th>Age</th>\n",
       "      <th>Address</th>\n",
       "      <th>Qualification</th>\n",
       "    </tr>\n",
       "  </thead>\n",
       "  <tbody>\n",
       "    <tr>\n",
       "      <th>0</th>\n",
       "      <td>Jai</td>\n",
       "      <td>27</td>\n",
       "      <td>Nagpur</td>\n",
       "      <td>Msc</td>\n",
       "    </tr>\n",
       "  </tbody>\n",
       "</table>\n",
       "</div>"
      ],
      "text/plain": [
       "  Name  Age Address Qualification\n",
       "0  Jai   27  Nagpur           Msc"
      ]
     },
     "execution_count": 25,
     "metadata": {},
     "output_type": "execute_result"
    }
   ],
   "source": [
    "# selecting object grouped\n",
    "# on multiple columns\n",
    "  \n",
    "grp = df.groupby(['Name', 'Qualification'])\n",
    "grp.get_group(('Jai', 'Msc'))"
   ]
  },
  {
   "cell_type": "markdown",
   "id": "e7b27641",
   "metadata": {},
   "source": [
    "### Applying function to group"
   ]
  },
  {
   "cell_type": "markdown",
   "id": "591a65f1",
   "metadata": {},
   "source": [
    "After splitting a data into a group, we apply a function to each group in order to do that we perform some operation they are:\n",
    "\n",
    "* **Aggregation :** It is a process in which we compute a summary statistic (or statistics) about each group. For Example, Compute group sums ormeans\n",
    "* **Transformation :** It is a process in which we perform some group-specific computations and return a like-indexed. For Example, Filling NAs within groups with a value derived from each group\n",
    "* **Filtration :** It is a process in which we discard some groups, according to a group-wise computation that evaluates True or False. For Example, Filtering out data based on the group sum or mean"
   ]
  },
  {
   "cell_type": "markdown",
   "id": "f856afef",
   "metadata": {},
   "source": [
    "**Aggregation :**\n",
    "\n",
    "Aggregation is a process in which we compute a summary statistic about each group. Aggregated function returns a single aggregated value for each group. After splitting a data into groups using `groupby` function, several aggregation operations can be performed on the grouped data.\n",
    "\n",
    "**Code #1:** Using aggregation via the aggregate method"
   ]
  },
  {
   "cell_type": "code",
   "execution_count": 26,
   "id": "72249794",
   "metadata": {},
   "outputs": [
    {
     "name": "stdout",
     "output_type": "stream",
     "text": [
      "     Name  Age    Address Qualification\n",
      "0     Jai   27     Nagpur           Msc\n",
      "1    Anuj   24     Kanpur            MA\n",
      "2     Jai   22  Allahabad           MCA\n",
      "3  Princi   32    Kannuaj           Phd\n",
      "4  Gaurav   33    Jaunpur        B.Tech\n",
      "5    Anuj   36     Kanpur         B.com\n",
      "6  Princi   27  Allahabad           Msc\n",
      "7    Abhi   32    Aligarh            MA\n"
     ]
    }
   ],
   "source": [
    "# importing pandas module\n",
    "import pandas as pd \n",
    "  \n",
    "# importing numpy as np\n",
    "import numpy as np\n",
    "   \n",
    "# Define a dictionary containing employee data \n",
    "data1 = {'Name':['Jai', 'Anuj', 'Jai', 'Princi', \n",
    "                 'Gaurav', 'Anuj', 'Princi', 'Abhi'], \n",
    "        'Age':[27, 24, 22, 32, \n",
    "               33, 36, 27, 32], \n",
    "        'Address':['Nagpur', 'Kanpur', 'Allahabad', 'Kannuaj',\n",
    "                   'Jaunpur', 'Kanpur', 'Allahabad', 'Aligarh'], \n",
    "        'Qualification':['Msc', 'MA', 'MCA', 'Phd',\n",
    "                         'B.Tech', 'B.com', 'Msc', 'MA']} \n",
    "     \n",
    "   \n",
    "# Convert the dictionary into DataFrame  \n",
    "df = pd.DataFrame(data1)\n",
    "   \n",
    "print(df) "
   ]
  },
  {
   "cell_type": "markdown",
   "id": "4a5192fe",
   "metadata": {},
   "source": [
    "Now we perform aggregation using aggregate method"
   ]
  },
  {
   "cell_type": "code",
   "execution_count": 27,
   "id": "45a5584f",
   "metadata": {},
   "outputs": [
    {
     "data": {
      "text/html": [
       "<div>\n",
       "<style scoped>\n",
       "    .dataframe tbody tr th:only-of-type {\n",
       "        vertical-align: middle;\n",
       "    }\n",
       "\n",
       "    .dataframe tbody tr th {\n",
       "        vertical-align: top;\n",
       "    }\n",
       "\n",
       "    .dataframe thead th {\n",
       "        text-align: right;\n",
       "    }\n",
       "</style>\n",
       "<table border=\"1\" class=\"dataframe\">\n",
       "  <thead>\n",
       "    <tr style=\"text-align: right;\">\n",
       "      <th></th>\n",
       "      <th>Age</th>\n",
       "    </tr>\n",
       "    <tr>\n",
       "      <th>Name</th>\n",
       "      <th></th>\n",
       "    </tr>\n",
       "  </thead>\n",
       "  <tbody>\n",
       "    <tr>\n",
       "      <th>Abhi</th>\n",
       "      <td>32</td>\n",
       "    </tr>\n",
       "    <tr>\n",
       "      <th>Anuj</th>\n",
       "      <td>60</td>\n",
       "    </tr>\n",
       "    <tr>\n",
       "      <th>Gaurav</th>\n",
       "      <td>33</td>\n",
       "    </tr>\n",
       "    <tr>\n",
       "      <th>Jai</th>\n",
       "      <td>49</td>\n",
       "    </tr>\n",
       "    <tr>\n",
       "      <th>Princi</th>\n",
       "      <td>59</td>\n",
       "    </tr>\n",
       "  </tbody>\n",
       "</table>\n",
       "</div>"
      ],
      "text/plain": [
       "        Age\n",
       "Name       \n",
       "Abhi     32\n",
       "Anuj     60\n",
       "Gaurav   33\n",
       "Jai      49\n",
       "Princi   59"
      ]
     },
     "execution_count": 27,
     "metadata": {},
     "output_type": "execute_result"
    }
   ],
   "source": [
    "# performing aggregation using\n",
    "# aggregate method\n",
    "  \n",
    "grp1 = df.groupby('Name')\n",
    "  \n",
    "grp1.aggregate(np.sum)"
   ]
  },
  {
   "cell_type": "markdown",
   "id": "1207da36",
   "metadata": {},
   "source": [
    "Now we perform aggregation on agroup containing multiple keys"
   ]
  },
  {
   "cell_type": "code",
   "execution_count": 28,
   "id": "0630d850",
   "metadata": {},
   "outputs": [
    {
     "data": {
      "text/html": [
       "<div>\n",
       "<style scoped>\n",
       "    .dataframe tbody tr th:only-of-type {\n",
       "        vertical-align: middle;\n",
       "    }\n",
       "\n",
       "    .dataframe tbody tr th {\n",
       "        vertical-align: top;\n",
       "    }\n",
       "\n",
       "    .dataframe thead th {\n",
       "        text-align: right;\n",
       "    }\n",
       "</style>\n",
       "<table border=\"1\" class=\"dataframe\">\n",
       "  <thead>\n",
       "    <tr style=\"text-align: right;\">\n",
       "      <th></th>\n",
       "      <th></th>\n",
       "      <th>Age</th>\n",
       "    </tr>\n",
       "    <tr>\n",
       "      <th>Name</th>\n",
       "      <th>Qualification</th>\n",
       "      <th></th>\n",
       "    </tr>\n",
       "  </thead>\n",
       "  <tbody>\n",
       "    <tr>\n",
       "      <th>Abhi</th>\n",
       "      <th>MA</th>\n",
       "      <td>32</td>\n",
       "    </tr>\n",
       "    <tr>\n",
       "      <th rowspan=\"2\" valign=\"top\">Anuj</th>\n",
       "      <th>B.com</th>\n",
       "      <td>36</td>\n",
       "    </tr>\n",
       "    <tr>\n",
       "      <th>MA</th>\n",
       "      <td>24</td>\n",
       "    </tr>\n",
       "    <tr>\n",
       "      <th>Gaurav</th>\n",
       "      <th>B.Tech</th>\n",
       "      <td>33</td>\n",
       "    </tr>\n",
       "    <tr>\n",
       "      <th rowspan=\"2\" valign=\"top\">Jai</th>\n",
       "      <th>MCA</th>\n",
       "      <td>22</td>\n",
       "    </tr>\n",
       "    <tr>\n",
       "      <th>Msc</th>\n",
       "      <td>27</td>\n",
       "    </tr>\n",
       "    <tr>\n",
       "      <th rowspan=\"2\" valign=\"top\">Princi</th>\n",
       "      <th>Msc</th>\n",
       "      <td>27</td>\n",
       "    </tr>\n",
       "    <tr>\n",
       "      <th>Phd</th>\n",
       "      <td>32</td>\n",
       "    </tr>\n",
       "  </tbody>\n",
       "</table>\n",
       "</div>"
      ],
      "text/plain": [
       "                      Age\n",
       "Name   Qualification     \n",
       "Abhi   MA              32\n",
       "Anuj   B.com           36\n",
       "       MA              24\n",
       "Gaurav B.Tech          33\n",
       "Jai    MCA             22\n",
       "       Msc             27\n",
       "Princi Msc             27\n",
       "       Phd             32"
      ]
     },
     "execution_count": 28,
     "metadata": {},
     "output_type": "execute_result"
    }
   ],
   "source": [
    "# performing aggregation on\n",
    "# group containing multiple\n",
    "# keys\n",
    "grp1 = df.groupby(['Name', 'Qualification'])\n",
    "  \n",
    "grp1.aggregate(np.sum)"
   ]
  },
  {
   "cell_type": "markdown",
   "id": "d7859bdd",
   "metadata": {},
   "source": [
    "### Applying multiple functions at once :"
   ]
  },
  {
   "cell_type": "markdown",
   "id": "266318ad",
   "metadata": {},
   "source": [
    "We can apply a multiple functions at once by passing a list or dictionary of functions to do aggregation with, outputting a DataFrame."
   ]
  },
  {
   "cell_type": "code",
   "execution_count": 29,
   "id": "cfd3e617",
   "metadata": {},
   "outputs": [
    {
     "name": "stdout",
     "output_type": "stream",
     "text": [
      "     Name  Age    Address Qualification\n",
      "0     Jai   27     Nagpur           Msc\n",
      "1    Anuj   24     Kanpur            MA\n",
      "2     Jai   22  Allahabad           MCA\n",
      "3  Princi   32    Kannuaj           Phd\n",
      "4  Gaurav   33    Jaunpur        B.Tech\n",
      "5    Anuj   36     Kanpur         B.com\n",
      "6  Princi   27  Allahabad           Msc\n",
      "7    Abhi   32    Aligarh            MA\n"
     ]
    }
   ],
   "source": [
    "\n",
    "# importing pandas module\n",
    "import pandas as pd \n",
    "  \n",
    "# importing numpy as np\n",
    "import numpy as np\n",
    "   \n",
    "# Define a dictionary containing employee data \n",
    "data1 = {'Name':['Jai', 'Anuj', 'Jai', 'Princi', \n",
    "                 'Gaurav', 'Anuj', 'Princi', 'Abhi'], \n",
    "        'Age':[27, 24, 22, 32, \n",
    "               33, 36, 27, 32], \n",
    "        'Address':['Nagpur', 'Kanpur', 'Allahabad', 'Kannuaj',\n",
    "                   'Jaunpur', 'Kanpur', 'Allahabad', 'Aligarh'], \n",
    "        'Qualification':['Msc', 'MA', 'MCA', 'Phd',\n",
    "                         'B.Tech', 'B.com', 'Msc', 'MA']} \n",
    "     \n",
    "   \n",
    "# Convert the dictionary into DataFrame  \n",
    "df = pd.DataFrame(data1)\n",
    "   \n",
    "print(df) "
   ]
  },
  {
   "cell_type": "markdown",
   "id": "f95996e6",
   "metadata": {},
   "source": [
    "Now we apply a multiple functions by passing a list of functions."
   ]
  },
  {
   "cell_type": "code",
   "execution_count": 30,
   "id": "3b144fe8",
   "metadata": {},
   "outputs": [
    {
     "data": {
      "text/html": [
       "<div>\n",
       "<style scoped>\n",
       "    .dataframe tbody tr th:only-of-type {\n",
       "        vertical-align: middle;\n",
       "    }\n",
       "\n",
       "    .dataframe tbody tr th {\n",
       "        vertical-align: top;\n",
       "    }\n",
       "\n",
       "    .dataframe thead th {\n",
       "        text-align: right;\n",
       "    }\n",
       "</style>\n",
       "<table border=\"1\" class=\"dataframe\">\n",
       "  <thead>\n",
       "    <tr style=\"text-align: right;\">\n",
       "      <th></th>\n",
       "      <th>sum</th>\n",
       "      <th>mean</th>\n",
       "      <th>std</th>\n",
       "    </tr>\n",
       "    <tr>\n",
       "      <th>Name</th>\n",
       "      <th></th>\n",
       "      <th></th>\n",
       "      <th></th>\n",
       "    </tr>\n",
       "  </thead>\n",
       "  <tbody>\n",
       "    <tr>\n",
       "      <th>Abhi</th>\n",
       "      <td>32</td>\n",
       "      <td>32.0</td>\n",
       "      <td>NaN</td>\n",
       "    </tr>\n",
       "    <tr>\n",
       "      <th>Anuj</th>\n",
       "      <td>60</td>\n",
       "      <td>30.0</td>\n",
       "      <td>8.485281</td>\n",
       "    </tr>\n",
       "    <tr>\n",
       "      <th>Gaurav</th>\n",
       "      <td>33</td>\n",
       "      <td>33.0</td>\n",
       "      <td>NaN</td>\n",
       "    </tr>\n",
       "    <tr>\n",
       "      <th>Jai</th>\n",
       "      <td>49</td>\n",
       "      <td>24.5</td>\n",
       "      <td>3.535534</td>\n",
       "    </tr>\n",
       "    <tr>\n",
       "      <th>Princi</th>\n",
       "      <td>59</td>\n",
       "      <td>29.5</td>\n",
       "      <td>3.535534</td>\n",
       "    </tr>\n",
       "  </tbody>\n",
       "</table>\n",
       "</div>"
      ],
      "text/plain": [
       "        sum  mean       std\n",
       "Name                       \n",
       "Abhi     32  32.0       NaN\n",
       "Anuj     60  30.0  8.485281\n",
       "Gaurav   33  33.0       NaN\n",
       "Jai      49  24.5  3.535534\n",
       "Princi   59  29.5  3.535534"
      ]
     },
     "execution_count": 30,
     "metadata": {},
     "output_type": "execute_result"
    }
   ],
   "source": [
    "# applying a function by passing\n",
    "# a list of functions\n",
    "  \n",
    "grp = df.groupby('Name')\n",
    "  \n",
    "grp['Age'].agg([np.sum, np.mean, np.std])"
   ]
  },
  {
   "cell_type": "markdown",
   "id": "03a59e34",
   "metadata": {},
   "source": [
    "### Applying different functions to DataFrame columns :"
   ]
  },
  {
   "cell_type": "markdown",
   "id": "7b0602f5",
   "metadata": {},
   "source": [
    "In order to apply a different aggregation to the columns of a DataFrame, we can pass a dictionary to aggregate ."
   ]
  },
  {
   "cell_type": "code",
   "execution_count": 31,
   "id": "15483261",
   "metadata": {},
   "outputs": [
    {
     "name": "stdout",
     "output_type": "stream",
     "text": [
      "     Name  Age    Address Qualification  Score\n",
      "0     Jai   27     Nagpur           Msc     23\n",
      "1    Anuj   24     Kanpur            MA     34\n",
      "2     Jai   22  Allahabad           MCA     35\n",
      "3  Princi   32    Kannuaj           Phd     45\n",
      "4  Gaurav   33    Jaunpur        B.Tech     47\n",
      "5    Anuj   36     Kanpur         B.com     50\n",
      "6  Princi   27  Allahabad           Msc     52\n",
      "7    Abhi   32    Aligarh            MA     53\n"
     ]
    }
   ],
   "source": [
    "# importing pandas module\n",
    "import pandas as pd \n",
    "  \n",
    "# importing numpy as np\n",
    "import numpy as np\n",
    "   \n",
    "# Define a dictionary containing employee data \n",
    "data1 = {'Name':['Jai', 'Anuj', 'Jai', 'Princi', \n",
    "                 'Gaurav', 'Anuj', 'Princi', 'Abhi'], \n",
    "        'Age':[27, 24, 22, 32, \n",
    "               33, 36, 27, 32], \n",
    "        'Address':['Nagpur', 'Kanpur', 'Allahabad', 'Kannuaj',\n",
    "                   'Jaunpur', 'Kanpur', 'Allahabad', 'Aligarh'], \n",
    "        'Qualification':['Msc', 'MA', 'MCA', 'Phd',\n",
    "                         'B.Tech', 'B.com', 'Msc', 'MA'],\n",
    "        'Score': [23, 34, 35, 45, 47, 50, 52, 53]} \n",
    "     \n",
    "   \n",
    "# Convert the dictionary into DataFrame  \n",
    "df = pd.DataFrame(data1)\n",
    "   \n",
    "print(df) "
   ]
  },
  {
   "cell_type": "markdown",
   "id": "093e146a",
   "metadata": {},
   "source": [
    "Now we apply a different aggregation to the columns of a dataframe."
   ]
  },
  {
   "cell_type": "code",
   "execution_count": 32,
   "id": "96823100",
   "metadata": {},
   "outputs": [
    {
     "data": {
      "text/html": [
       "<div>\n",
       "<style scoped>\n",
       "    .dataframe tbody tr th:only-of-type {\n",
       "        vertical-align: middle;\n",
       "    }\n",
       "\n",
       "    .dataframe tbody tr th {\n",
       "        vertical-align: top;\n",
       "    }\n",
       "\n",
       "    .dataframe thead th {\n",
       "        text-align: right;\n",
       "    }\n",
       "</style>\n",
       "<table border=\"1\" class=\"dataframe\">\n",
       "  <thead>\n",
       "    <tr style=\"text-align: right;\">\n",
       "      <th></th>\n",
       "      <th>Age</th>\n",
       "      <th>Score</th>\n",
       "    </tr>\n",
       "    <tr>\n",
       "      <th>Name</th>\n",
       "      <th></th>\n",
       "      <th></th>\n",
       "    </tr>\n",
       "  </thead>\n",
       "  <tbody>\n",
       "    <tr>\n",
       "      <th>Abhi</th>\n",
       "      <td>32</td>\n",
       "      <td>NaN</td>\n",
       "    </tr>\n",
       "    <tr>\n",
       "      <th>Anuj</th>\n",
       "      <td>60</td>\n",
       "      <td>11.313708</td>\n",
       "    </tr>\n",
       "    <tr>\n",
       "      <th>Gaurav</th>\n",
       "      <td>33</td>\n",
       "      <td>NaN</td>\n",
       "    </tr>\n",
       "    <tr>\n",
       "      <th>Jai</th>\n",
       "      <td>49</td>\n",
       "      <td>8.485281</td>\n",
       "    </tr>\n",
       "    <tr>\n",
       "      <th>Princi</th>\n",
       "      <td>59</td>\n",
       "      <td>4.949747</td>\n",
       "    </tr>\n",
       "  </tbody>\n",
       "</table>\n",
       "</div>"
      ],
      "text/plain": [
       "        Age      Score\n",
       "Name                  \n",
       "Abhi     32        NaN\n",
       "Anuj     60  11.313708\n",
       "Gaurav   33        NaN\n",
       "Jai      49   8.485281\n",
       "Princi   59   4.949747"
      ]
     },
     "execution_count": 32,
     "metadata": {},
     "output_type": "execute_result"
    }
   ],
   "source": [
    "# using different aggregation\n",
    "# function by passing dictionary\n",
    "# to aggregate\n",
    "grp = df.groupby('Name')\n",
    "  \n",
    "grp.agg({'Age' : 'sum', 'Score' : 'std'})"
   ]
  },
  {
   "cell_type": "markdown",
   "id": "de5367ef",
   "metadata": {},
   "source": [
    "### Transformation :"
   ]
  },
  {
   "cell_type": "markdown",
   "id": "f22358cd",
   "metadata": {},
   "source": [
    "Transformation is a process in which we perform some group-specific computations and return a like-indexed. Transform method returns an object that is indexed the same (same size) as the one being grouped. The transform function must:\n",
    "\n",
    "* Return a result that is either the same size as the group chunk\n",
    "* Operate column-by-column on the group chunk\n",
    "* Not perform in-place operations on the group chunk."
   ]
  },
  {
   "cell_type": "code",
   "execution_count": 33,
   "id": "88859214",
   "metadata": {},
   "outputs": [
    {
     "name": "stdout",
     "output_type": "stream",
     "text": [
      "     Name  Age    Address Qualification  Score\n",
      "0     Jai   27     Nagpur           Msc     23\n",
      "1    Anuj   24     Kanpur            MA     34\n",
      "2     Jai   22  Allahabad           MCA     35\n",
      "3  Princi   32    Kannuaj           Phd     45\n",
      "4  Gaurav   33    Jaunpur        B.Tech     47\n",
      "5    Anuj   36     Kanpur         B.com     50\n",
      "6  Princi   27  Allahabad           Msc     52\n",
      "7    Abhi   32    Aligarh            MA     53\n"
     ]
    }
   ],
   "source": [
    "\n",
    "# importing pandas module\n",
    "import pandas as pd \n",
    "  \n",
    "# importing numpy as np\n",
    "import numpy as np\n",
    "   \n",
    "# Define a dictionary containing employee data \n",
    "data1 = {'Name':['Jai', 'Anuj', 'Jai', 'Princi', \n",
    "                 'Gaurav', 'Anuj', 'Princi', 'Abhi'], \n",
    "        'Age':[27, 24, 22, 32, \n",
    "               33, 36, 27, 32], \n",
    "        'Address':['Nagpur', 'Kanpur', 'Allahabad', 'Kannuaj',\n",
    "                   'Jaunpur', 'Kanpur', 'Allahabad', 'Aligarh'], \n",
    "        'Qualification':['Msc', 'MA', 'MCA', 'Phd',\n",
    "                         'B.Tech', 'B.com', 'Msc', 'MA'],\n",
    "        'Score': [23, 34, 35, 45, 47, 50, 52, 53]} \n",
    "     \n",
    "   \n",
    "# Convert the dictionary into DataFrame  \n",
    "df = pd.DataFrame(data1)\n",
    "   \n",
    "print(df) "
   ]
  },
  {
   "cell_type": "markdown",
   "id": "7542487c",
   "metadata": {},
   "source": [
    "Now we perform some group-specific computations and return a like-indexed."
   ]
  },
  {
   "cell_type": "code",
   "execution_count": 34,
   "id": "a8940a95",
   "metadata": {},
   "outputs": [
    {
     "data": {
      "text/html": [
       "<div>\n",
       "<style scoped>\n",
       "    .dataframe tbody tr th:only-of-type {\n",
       "        vertical-align: middle;\n",
       "    }\n",
       "\n",
       "    .dataframe tbody tr th {\n",
       "        vertical-align: top;\n",
       "    }\n",
       "\n",
       "    .dataframe thead th {\n",
       "        text-align: right;\n",
       "    }\n",
       "</style>\n",
       "<table border=\"1\" class=\"dataframe\">\n",
       "  <thead>\n",
       "    <tr style=\"text-align: right;\">\n",
       "      <th></th>\n",
       "      <th>Age</th>\n",
       "      <th>Score</th>\n",
       "    </tr>\n",
       "  </thead>\n",
       "  <tbody>\n",
       "    <tr>\n",
       "      <th>0</th>\n",
       "      <td>7.071068</td>\n",
       "      <td>-7.071068</td>\n",
       "    </tr>\n",
       "    <tr>\n",
       "      <th>1</th>\n",
       "      <td>-7.071068</td>\n",
       "      <td>-7.071068</td>\n",
       "    </tr>\n",
       "    <tr>\n",
       "      <th>2</th>\n",
       "      <td>-7.071068</td>\n",
       "      <td>7.071068</td>\n",
       "    </tr>\n",
       "    <tr>\n",
       "      <th>3</th>\n",
       "      <td>7.071068</td>\n",
       "      <td>-7.071068</td>\n",
       "    </tr>\n",
       "    <tr>\n",
       "      <th>4</th>\n",
       "      <td>NaN</td>\n",
       "      <td>NaN</td>\n",
       "    </tr>\n",
       "    <tr>\n",
       "      <th>5</th>\n",
       "      <td>7.071068</td>\n",
       "      <td>7.071068</td>\n",
       "    </tr>\n",
       "    <tr>\n",
       "      <th>6</th>\n",
       "      <td>-7.071068</td>\n",
       "      <td>7.071068</td>\n",
       "    </tr>\n",
       "    <tr>\n",
       "      <th>7</th>\n",
       "      <td>NaN</td>\n",
       "      <td>NaN</td>\n",
       "    </tr>\n",
       "  </tbody>\n",
       "</table>\n",
       "</div>"
      ],
      "text/plain": [
       "        Age     Score\n",
       "0  7.071068 -7.071068\n",
       "1 -7.071068 -7.071068\n",
       "2 -7.071068  7.071068\n",
       "3  7.071068 -7.071068\n",
       "4       NaN       NaN\n",
       "5  7.071068  7.071068\n",
       "6 -7.071068  7.071068\n",
       "7       NaN       NaN"
      ]
     },
     "execution_count": 34,
     "metadata": {},
     "output_type": "execute_result"
    }
   ],
   "source": [
    "## using transform function\n",
    "grp = df.groupby('Name')\n",
    "sc = lambda x: (x - x.mean()) / x.std()*10\n",
    "grp.transform(sc)"
   ]
  },
  {
   "cell_type": "markdown",
   "id": "a400bac2",
   "metadata": {},
   "source": [
    "### Filtration :"
   ]
  },
  {
   "cell_type": "markdown",
   "id": "cd211874",
   "metadata": {},
   "source": [
    "Filtration is a process in which we discard some groups, according to a group-wise computation that evaluates `True` or `False`. In order to filter a group, we use filter method and apply some condition by which we filter group."
   ]
  },
  {
   "cell_type": "code",
   "execution_count": 35,
   "id": "798ae7dc",
   "metadata": {},
   "outputs": [
    {
     "name": "stdout",
     "output_type": "stream",
     "text": [
      "     Name  Age    Address Qualification  Score\n",
      "0     Jai   27     Nagpur           Msc     23\n",
      "1    Anuj   24     Kanpur            MA     34\n",
      "2     Jai   22  Allahabad           MCA     35\n",
      "3  Princi   32    Kannuaj           Phd     45\n",
      "4  Gaurav   33    Jaunpur        B.Tech     47\n",
      "5    Anuj   36     Kanpur         B.com     50\n",
      "6  Princi   27  Allahabad           Msc     52\n",
      "7    Abhi   32    Aligarh            MA     53\n"
     ]
    }
   ],
   "source": [
    "# importing pandas module\n",
    "import pandas as pd \n",
    "  \n",
    "# importing numpy as np\n",
    "import numpy as np\n",
    "   \n",
    "# Define a dictionary containing employee data \n",
    "data1 = {'Name':['Jai', 'Anuj', 'Jai', 'Princi', \n",
    "                 'Gaurav', 'Anuj', 'Princi', 'Abhi'], \n",
    "        'Age':[27, 24, 22, 32, \n",
    "               33, 36, 27, 32], \n",
    "        'Address':['Nagpur', 'Kanpur', 'Allahabad', 'Kannuaj',\n",
    "                   'Jaunpur', 'Kanpur', 'Allahabad', 'Aligarh'], \n",
    "        'Qualification':['Msc', 'MA', 'MCA', 'Phd',\n",
    "                         'B.Tech', 'B.com', 'Msc', 'MA'],\n",
    "        'Score': [23, 34, 35, 45, 47, 50, 52, 53]} \n",
    "     \n",
    "   \n",
    "# Convert the dictionary into DataFrame  \n",
    "df = pd.DataFrame(data1)\n",
    "   \n",
    "print(df) "
   ]
  },
  {
   "cell_type": "markdown",
   "id": "8bf79e68",
   "metadata": {},
   "source": [
    "Now we filter data that to return the Name which have lived two or more times ."
   ]
  },
  {
   "cell_type": "code",
   "execution_count": 37,
   "id": "fe8699f8",
   "metadata": {},
   "outputs": [
    {
     "data": {
      "text/html": [
       "<div>\n",
       "<style scoped>\n",
       "    .dataframe tbody tr th:only-of-type {\n",
       "        vertical-align: middle;\n",
       "    }\n",
       "\n",
       "    .dataframe tbody tr th {\n",
       "        vertical-align: top;\n",
       "    }\n",
       "\n",
       "    .dataframe thead th {\n",
       "        text-align: right;\n",
       "    }\n",
       "</style>\n",
       "<table border=\"1\" class=\"dataframe\">\n",
       "  <thead>\n",
       "    <tr style=\"text-align: right;\">\n",
       "      <th></th>\n",
       "      <th>Name</th>\n",
       "      <th>Age</th>\n",
       "      <th>Address</th>\n",
       "      <th>Qualification</th>\n",
       "      <th>Score</th>\n",
       "    </tr>\n",
       "  </thead>\n",
       "  <tbody>\n",
       "    <tr>\n",
       "      <th>0</th>\n",
       "      <td>Jai</td>\n",
       "      <td>27</td>\n",
       "      <td>Nagpur</td>\n",
       "      <td>Msc</td>\n",
       "      <td>23</td>\n",
       "    </tr>\n",
       "    <tr>\n",
       "      <th>1</th>\n",
       "      <td>Anuj</td>\n",
       "      <td>24</td>\n",
       "      <td>Kanpur</td>\n",
       "      <td>MA</td>\n",
       "      <td>34</td>\n",
       "    </tr>\n",
       "    <tr>\n",
       "      <th>2</th>\n",
       "      <td>Jai</td>\n",
       "      <td>22</td>\n",
       "      <td>Allahabad</td>\n",
       "      <td>MCA</td>\n",
       "      <td>35</td>\n",
       "    </tr>\n",
       "    <tr>\n",
       "      <th>3</th>\n",
       "      <td>Princi</td>\n",
       "      <td>32</td>\n",
       "      <td>Kannuaj</td>\n",
       "      <td>Phd</td>\n",
       "      <td>45</td>\n",
       "    </tr>\n",
       "    <tr>\n",
       "      <th>5</th>\n",
       "      <td>Anuj</td>\n",
       "      <td>36</td>\n",
       "      <td>Kanpur</td>\n",
       "      <td>B.com</td>\n",
       "      <td>50</td>\n",
       "    </tr>\n",
       "    <tr>\n",
       "      <th>6</th>\n",
       "      <td>Princi</td>\n",
       "      <td>27</td>\n",
       "      <td>Allahabad</td>\n",
       "      <td>Msc</td>\n",
       "      <td>52</td>\n",
       "    </tr>\n",
       "  </tbody>\n",
       "</table>\n",
       "</div>"
      ],
      "text/plain": [
       "     Name  Age    Address Qualification  Score\n",
       "0     Jai   27     Nagpur           Msc     23\n",
       "1    Anuj   24     Kanpur            MA     34\n",
       "2     Jai   22  Allahabad           MCA     35\n",
       "3  Princi   32    Kannuaj           Phd     45\n",
       "5    Anuj   36     Kanpur         B.com     50\n",
       "6  Princi   27  Allahabad           Msc     52"
      ]
     },
     "execution_count": 37,
     "metadata": {},
     "output_type": "execute_result"
    }
   ],
   "source": [
    "# filtering data using\n",
    "# filter data\n",
    "grp = df.groupby('Name')\n",
    "grp.filter(lambda x: len(x) >= 2)\n"
   ]
  },
  {
   "cell_type": "markdown",
   "id": "ddfc8443",
   "metadata": {},
   "source": [
    "<a id='section3'></a>\n",
    "## 3. [Combining multiple columns in Pandas groupby with dictionary](https://www.geeksforgeeks.org/combining-multiple-columns-in-pandas-groupby-with-dictionary/?ref=lbp)"
   ]
  },
  {
   "cell_type": "markdown",
   "id": "3c904d97",
   "metadata": {},
   "source": [
    "Let’ see how to combine multiple columns in Pandas using groupby with dictionary with the help of different examples.\n",
    "\n",
    "**Example #1:**"
   ]
  },
  {
   "cell_type": "code",
   "execution_count": 4,
   "id": "b5928064",
   "metadata": {},
   "outputs": [
    {
     "name": "stdout",
     "output_type": "stream",
     "text": [
      "  id  Column 1.1  Column 1.2  Column 1.3  Column 2.1  Column 2.2\n",
      "0  1          14          10           1           1          10\n",
      "1  2          15          10           4           2          10\n",
      "2  3          16          10           5           3          10\n"
     ]
    }
   ],
   "source": [
    "# importing pandas as pd \n",
    "import pandas as pd \n",
    "  \n",
    "# Creating a dictionary \n",
    "d = {'id':['1', '2', '3'],\n",
    "     'Column 1.1':[14, 15, 16],\n",
    "     'Column 1.2':[10, 10, 10],\n",
    "     'Column 1.3':[1, 4, 5],\n",
    "     'Column 2.1':[1, 2, 3],\n",
    "     'Column 2.2':[10, 10, 10], }\n",
    "  \n",
    "# Converting dictionary into a data-frame \n",
    "df = pd.DataFrame(d)\n",
    "print(df)"
   ]
  },
  {
   "cell_type": "code",
   "execution_count": 5,
   "id": "06d6a311",
   "metadata": {},
   "outputs": [
    {
     "name": "stdout",
     "output_type": "stream",
     "text": [
      "    Column 1  Column 2\n",
      "id                    \n",
      "1          1         1\n",
      "2          4         2\n",
      "3          5         3\n"
     ]
    }
   ],
   "source": [
    "# Creating the groupby dictionary \n",
    "groupby_dict = {'Column 1.1':'Column 1',\n",
    "                'Column 1.2':'Column 1',\n",
    "                'Column 1.3':'Column 1',\n",
    "                'Column 2.1':'Column 2',\n",
    "                'Column 2.2':'Column 2' }\n",
    "  \n",
    "# Set the index of df as Column 'id'\n",
    "df = df.set_index('id')\n",
    "  \n",
    "# Groupby the groupby_dict created above \n",
    "df = df.groupby(groupby_dict, axis = 1).min()\n",
    "print(df)"
   ]
  },
  {
   "cell_type": "markdown",
   "id": "d43332f2",
   "metadata": {},
   "source": [
    "**Explanation**\n",
    "\n",
    "Here we have grouped Column 1.1, Column 1.2 and Column 1.3 into Column 1 and Column 2.1, Column 2.2 into Column 2.\n",
    "Notice that the output in each column is the min value of each row of the columns grouped together. i.e in Column 1, value of first row is the minimum value of Column 1.1 Row 1, Column 1.2 Row 1 and Column 1.3 Row 1.\n",
    " \n",
    "**Example #2:**"
   ]
  },
  {
   "cell_type": "code",
   "execution_count": 12,
   "id": "5a5ff29b",
   "metadata": {},
   "outputs": [
    {
     "name": "stdout",
     "output_type": "stream",
     "text": [
      "   ID         Movies  Week_1_Viewers  Week_2_Viewers  Week_3_Viewers\n",
      "0   1  The Godfather              30              60              40\n",
      "1   2     Fight Club              30              40              20\n",
      "2   3     Casablanca              40              80              20\n"
     ]
    }
   ],
   "source": [
    "# importing pandas as pd \n",
    "import pandas as pd \n",
    "  \n",
    "# Create dictionary with data \n",
    "dict = {\n",
    "    \"ID\":[1, 2, 3],\n",
    "    \"Movies\":[\"The Godfather\", \"Fight Club\", \"Casablanca\"],\n",
    "    \"Week_1_Viewers\":[30, 30, 40],\n",
    "    \"Week_2_Viewers\":[60, 40, 80],\n",
    "    \"Week_3_Viewers\":[40, 20, 20] };\n",
    "  \n",
    "# Convert dictionary to dataframe\n",
    "df = pd.DataFrame(dict);\n",
    "print(df)"
   ]
  },
  {
   "cell_type": "code",
   "execution_count": 13,
   "id": "749c1e49",
   "metadata": {},
   "outputs": [
    {
     "name": "stdout",
     "output_type": "stream",
     "text": [
      "           Movies  Total_Viewers\n",
      "ID                              \n",
      "1   The Godfather            130\n",
      "2      Fight Club             90\n",
      "3      Casablanca            140\n"
     ]
    }
   ],
   "source": [
    "# Create the groupby_dict \n",
    "groupby_dict = {\n",
    "    \"Week_1_Viewers\":\"Total_Viewers\",\n",
    "    \"Week_2_Viewers\":\"Total_Viewers\",\n",
    "    \"Week_3_Viewers\":\"Total_Viewers\",\n",
    "    \"Movies\":\"Movies\"\n",
    "}\n",
    "  \n",
    "df = df.set_index('ID')\n",
    "df = df.groupby(groupby_dict, axis = 1).sum()\n",
    "print(df)"
   ]
  },
  {
   "cell_type": "markdown",
   "id": "7f6b699a",
   "metadata": {},
   "source": [
    "**Explanation**\n",
    "\n",
    "Explanation:\n",
    "\n",
    "* Here, notice that even though ‘Movies’ isn’t being merged into another column it still has to be present in the groupby_dict, else it won’t be in the final dataframe.\n",
    "* To calculate the Total_Viewers we have used the .sum() function which sums up all the values of the respective rows.\n",
    "\n"
   ]
  },
  {
   "cell_type": "markdown",
   "id": "02dc45a4",
   "metadata": {},
   "source": [
    "<a id='section4'></a>\n",
    "## 4. [How to combine Groupby and Multiple Aggregate Functions in Pandas?](https://www.geeksforgeeks.org/how-to-combine-groupby-and-multiple-aggregate-functions-in-pandas/?ref=lbp)"
   ]
  },
  {
   "cell_type": "markdown",
   "id": "a6de5eee",
   "metadata": {},
   "source": [
    "Pandas is a Python package that offers various data structures and operations for manipulating numerical data and time series. It is mainly popular for importing and analyzing data much easier. It is an open-source library that is built on top of NumPy library.\n",
    "\n",
    "**Groupby()**\n",
    "\n",
    "Pandas [`dataframe.groupby()`](#section1) function is used to split the data in dataframe into groups based on a given condition.\n",
    "\n",
    "**Example 1:**"
   ]
  },
  {
   "cell_type": "code",
   "execution_count": 14,
   "id": "392bee32",
   "metadata": {},
   "outputs": [
    {
     "data": {
      "text/html": [
       "<div>\n",
       "<style scoped>\n",
       "    .dataframe tbody tr th:only-of-type {\n",
       "        vertical-align: middle;\n",
       "    }\n",
       "\n",
       "    .dataframe tbody tr th {\n",
       "        vertical-align: top;\n",
       "    }\n",
       "\n",
       "    .dataframe thead th {\n",
       "        text-align: right;\n",
       "    }\n",
       "</style>\n",
       "<table border=\"1\" class=\"dataframe\">\n",
       "  <thead>\n",
       "    <tr style=\"text-align: right;\">\n",
       "      <th></th>\n",
       "      <th>country</th>\n",
       "      <th>beer_servings</th>\n",
       "      <th>spirit_servings</th>\n",
       "      <th>wine_servings</th>\n",
       "      <th>total_litres_of_pure_alcohol</th>\n",
       "      <th>continent</th>\n",
       "    </tr>\n",
       "  </thead>\n",
       "  <tbody>\n",
       "    <tr>\n",
       "      <th>0</th>\n",
       "      <td>Afghanistan</td>\n",
       "      <td>0</td>\n",
       "      <td>0</td>\n",
       "      <td>0</td>\n",
       "      <td>0.0</td>\n",
       "      <td>Asia</td>\n",
       "    </tr>\n",
       "    <tr>\n",
       "      <th>1</th>\n",
       "      <td>Albania</td>\n",
       "      <td>89</td>\n",
       "      <td>132</td>\n",
       "      <td>54</td>\n",
       "      <td>4.9</td>\n",
       "      <td>Europe</td>\n",
       "    </tr>\n",
       "    <tr>\n",
       "      <th>2</th>\n",
       "      <td>Algeria</td>\n",
       "      <td>25</td>\n",
       "      <td>0</td>\n",
       "      <td>14</td>\n",
       "      <td>0.7</td>\n",
       "      <td>Africa</td>\n",
       "    </tr>\n",
       "    <tr>\n",
       "      <th>3</th>\n",
       "      <td>Andorra</td>\n",
       "      <td>245</td>\n",
       "      <td>138</td>\n",
       "      <td>312</td>\n",
       "      <td>12.4</td>\n",
       "      <td>Europe</td>\n",
       "    </tr>\n",
       "    <tr>\n",
       "      <th>4</th>\n",
       "      <td>Angola</td>\n",
       "      <td>217</td>\n",
       "      <td>57</td>\n",
       "      <td>45</td>\n",
       "      <td>5.9</td>\n",
       "      <td>Africa</td>\n",
       "    </tr>\n",
       "  </tbody>\n",
       "</table>\n",
       "</div>"
      ],
      "text/plain": [
       "       country  beer_servings  spirit_servings  wine_servings  \\\n",
       "0  Afghanistan              0                0              0   \n",
       "1      Albania             89              132             54   \n",
       "2      Algeria             25                0             14   \n",
       "3      Andorra            245              138            312   \n",
       "4       Angola            217               57             45   \n",
       "\n",
       "   total_litres_of_pure_alcohol continent  \n",
       "0                           0.0      Asia  \n",
       "1                           4.9    Europe  \n",
       "2                           0.7    Africa  \n",
       "3                          12.4    Europe  \n",
       "4                           5.9    Africa  "
      ]
     },
     "execution_count": 14,
     "metadata": {},
     "output_type": "execute_result"
    }
   ],
   "source": [
    "# import library\n",
    "import pandas as pd\n",
    "  \n",
    "# import csv file\n",
    "df = pd.read_csv(\"https://bit.ly/drinksbycountry\")\n",
    "  \n",
    "df.head()"
   ]
  },
  {
   "cell_type": "markdown",
   "id": "e6e530b0",
   "metadata": {},
   "source": [
    "**Example 2:**"
   ]
  },
  {
   "cell_type": "code",
   "execution_count": 16,
   "id": "52795b71",
   "metadata": {},
   "outputs": [
    {
     "data": {
      "text/html": [
       "<div>\n",
       "<style scoped>\n",
       "    .dataframe tbody tr th:only-of-type {\n",
       "        vertical-align: middle;\n",
       "    }\n",
       "\n",
       "    .dataframe tbody tr th {\n",
       "        vertical-align: top;\n",
       "    }\n",
       "\n",
       "    .dataframe thead th {\n",
       "        text-align: right;\n",
       "    }\n",
       "</style>\n",
       "<table border=\"1\" class=\"dataframe\">\n",
       "  <thead>\n",
       "    <tr style=\"text-align: right;\">\n",
       "      <th></th>\n",
       "      <th>beer_servings</th>\n",
       "      <th>spirit_servings</th>\n",
       "      <th>wine_servings</th>\n",
       "      <th>total_litres_of_pure_alcohol</th>\n",
       "    </tr>\n",
       "    <tr>\n",
       "      <th>continent</th>\n",
       "      <th></th>\n",
       "      <th></th>\n",
       "      <th></th>\n",
       "      <th></th>\n",
       "    </tr>\n",
       "  </thead>\n",
       "  <tbody>\n",
       "    <tr>\n",
       "      <th>Africa</th>\n",
       "      <td>61.471698</td>\n",
       "      <td>16.339623</td>\n",
       "      <td>16.264151</td>\n",
       "      <td>3.007547</td>\n",
       "    </tr>\n",
       "    <tr>\n",
       "      <th>Asia</th>\n",
       "      <td>37.045455</td>\n",
       "      <td>60.840909</td>\n",
       "      <td>9.068182</td>\n",
       "      <td>2.170455</td>\n",
       "    </tr>\n",
       "    <tr>\n",
       "      <th>Europe</th>\n",
       "      <td>193.777778</td>\n",
       "      <td>132.555556</td>\n",
       "      <td>142.222222</td>\n",
       "      <td>8.617778</td>\n",
       "    </tr>\n",
       "    <tr>\n",
       "      <th>North America</th>\n",
       "      <td>145.434783</td>\n",
       "      <td>165.739130</td>\n",
       "      <td>24.521739</td>\n",
       "      <td>5.995652</td>\n",
       "    </tr>\n",
       "    <tr>\n",
       "      <th>Oceania</th>\n",
       "      <td>89.687500</td>\n",
       "      <td>58.437500</td>\n",
       "      <td>35.625000</td>\n",
       "      <td>3.381250</td>\n",
       "    </tr>\n",
       "    <tr>\n",
       "      <th>South America</th>\n",
       "      <td>175.083333</td>\n",
       "      <td>114.750000</td>\n",
       "      <td>62.416667</td>\n",
       "      <td>6.308333</td>\n",
       "    </tr>\n",
       "  </tbody>\n",
       "</table>\n",
       "</div>"
      ],
      "text/plain": [
       "               beer_servings  spirit_servings  wine_servings  \\\n",
       "continent                                                      \n",
       "Africa             61.471698        16.339623      16.264151   \n",
       "Asia               37.045455        60.840909       9.068182   \n",
       "Europe            193.777778       132.555556     142.222222   \n",
       "North America     145.434783       165.739130      24.521739   \n",
       "Oceania            89.687500        58.437500      35.625000   \n",
       "South America     175.083333       114.750000      62.416667   \n",
       "\n",
       "               total_litres_of_pure_alcohol  \n",
       "continent                                    \n",
       "Africa                             3.007547  \n",
       "Asia                               2.170455  \n",
       "Europe                             8.617778  \n",
       "North America                      5.995652  \n",
       "Oceania                            3.381250  \n",
       "South America                      6.308333  "
      ]
     },
     "execution_count": 16,
     "metadata": {},
     "output_type": "execute_result"
    }
   ],
   "source": [
    "# Find the average of each continent\n",
    "# by grouping the data  \n",
    "# based on the \"continent\".\n",
    "df.groupby([\"continent\"]).mean()"
   ]
  },
  {
   "cell_type": "markdown",
   "id": "4abd17a7",
   "metadata": {},
   "source": [
    "**`Aggregate()`**\n",
    "\n",
    "Pandas `dataframe.agg()` function is used to do one or more operations on data based on specified axis\n",
    "\n",
    "**Example:**"
   ]
  },
  {
   "cell_type": "code",
   "execution_count": 17,
   "id": "66039def",
   "metadata": {},
   "outputs": [
    {
     "data": {
      "text/plain": [
       "sum    20489\n",
       "min        0\n",
       "max      376\n",
       "Name: beer_servings, dtype: int64"
      ]
     },
     "execution_count": 17,
     "metadata": {},
     "output_type": "execute_result"
    }
   ],
   "source": [
    "# here sum, minimum and maximum of column \n",
    "# beer_servings is calculatad\n",
    "df.beer_servings.agg([\"sum\", \"min\", \"max\"])"
   ]
  },
  {
   "cell_type": "markdown",
   "id": "d2c6928d",
   "metadata": {},
   "source": [
    "**Using These two functions together:**\n",
    "\n",
    "We can find multiple aggregation functions of a particular column grouped by another column\n",
    "\n",
    "**Example:**"
   ]
  },
  {
   "cell_type": "code",
   "execution_count": 18,
   "id": "a62f7d75",
   "metadata": {},
   "outputs": [
    {
     "data": {
      "text/html": [
       "<div>\n",
       "<style scoped>\n",
       "    .dataframe tbody tr th:only-of-type {\n",
       "        vertical-align: middle;\n",
       "    }\n",
       "\n",
       "    .dataframe tbody tr th {\n",
       "        vertical-align: top;\n",
       "    }\n",
       "\n",
       "    .dataframe thead th {\n",
       "        text-align: right;\n",
       "    }\n",
       "</style>\n",
       "<table border=\"1\" class=\"dataframe\">\n",
       "  <thead>\n",
       "    <tr style=\"text-align: right;\">\n",
       "      <th></th>\n",
       "      <th>min</th>\n",
       "      <th>max</th>\n",
       "      <th>sum</th>\n",
       "      <th>count</th>\n",
       "      <th>mean</th>\n",
       "    </tr>\n",
       "    <tr>\n",
       "      <th>continent</th>\n",
       "      <th></th>\n",
       "      <th></th>\n",
       "      <th></th>\n",
       "      <th></th>\n",
       "      <th></th>\n",
       "    </tr>\n",
       "  </thead>\n",
       "  <tbody>\n",
       "    <tr>\n",
       "      <th>Africa</th>\n",
       "      <td>0</td>\n",
       "      <td>376</td>\n",
       "      <td>3258</td>\n",
       "      <td>53</td>\n",
       "      <td>61.471698</td>\n",
       "    </tr>\n",
       "    <tr>\n",
       "      <th>Asia</th>\n",
       "      <td>0</td>\n",
       "      <td>247</td>\n",
       "      <td>1630</td>\n",
       "      <td>44</td>\n",
       "      <td>37.045455</td>\n",
       "    </tr>\n",
       "    <tr>\n",
       "      <th>Europe</th>\n",
       "      <td>0</td>\n",
       "      <td>361</td>\n",
       "      <td>8720</td>\n",
       "      <td>45</td>\n",
       "      <td>193.777778</td>\n",
       "    </tr>\n",
       "    <tr>\n",
       "      <th>North America</th>\n",
       "      <td>1</td>\n",
       "      <td>285</td>\n",
       "      <td>3345</td>\n",
       "      <td>23</td>\n",
       "      <td>145.434783</td>\n",
       "    </tr>\n",
       "    <tr>\n",
       "      <th>Oceania</th>\n",
       "      <td>0</td>\n",
       "      <td>306</td>\n",
       "      <td>1435</td>\n",
       "      <td>16</td>\n",
       "      <td>89.687500</td>\n",
       "    </tr>\n",
       "    <tr>\n",
       "      <th>South America</th>\n",
       "      <td>93</td>\n",
       "      <td>333</td>\n",
       "      <td>2101</td>\n",
       "      <td>12</td>\n",
       "      <td>175.083333</td>\n",
       "    </tr>\n",
       "  </tbody>\n",
       "</table>\n",
       "</div>"
      ],
      "text/plain": [
       "               min  max   sum  count        mean\n",
       "continent                                       \n",
       "Africa           0  376  3258     53   61.471698\n",
       "Asia             0  247  1630     44   37.045455\n",
       "Europe           0  361  8720     45  193.777778\n",
       "North America    1  285  3345     23  145.434783\n",
       "Oceania          0  306  1435     16   89.687500\n",
       "South America   93  333  2101     12  175.083333"
      ]
     },
     "execution_count": 18,
     "metadata": {},
     "output_type": "execute_result"
    }
   ],
   "source": [
    "# find an aggregation of column \"beer_servings\"\n",
    "# by grouping the \"continent\" column.\n",
    "df.groupby(df[\"continent\"]).beer_servings.agg([\"min\",\n",
    "                                               \"max\",\n",
    "                                               \"sum\",\n",
    "                                               \"count\",\n",
    "                                               \"mean\"])"
   ]
  },
  {
   "cell_type": "markdown",
   "id": "726116ee",
   "metadata": {},
   "source": [
    "<a id='section5'></a>\n",
    "## 5. [Pandas – Groupby multiple values and plotting results](https://www.geeksforgeeks.org/pandas-groupby-multiple-values-and-plotting-results/?ref=lbp)"
   ]
  },
  {
   "cell_type": "markdown",
   "id": "95e8d3da",
   "metadata": {},
   "source": [
    "In this article, we will learn how to groupby multiple values and plotting the results in one go. Here, we take “excercise.csv” file of a dataset from [seaborn](https://www.geeksforgeeks.org/introduction-to-seaborn-python/) library then formed different groupby data and visualize the result. \n",
    "\n",
    "For this procedure, the steps required are given below:\n",
    "\n",
    "* Import libraries for data and its visualization.\n",
    "* Create and import the data with multiple columns.\n",
    "* Form a grouby object by grouping multiple values.\n",
    "* Visualize the grouped data.\n",
    "\n",
    "Below is the implementation with some examples : \n",
    "\n",
    "**Example 1 :**\n",
    "\n",
    "In this example, we take the “excercise.csv” file of a dataset from the seaborn library then formed groupby data by grouping two columns “pulse” and “diet” together on the basis of a column “time” and at last visualize the result."
   ]
  },
  {
   "cell_type": "code",
   "execution_count": 25,
   "id": "04bebb86",
   "metadata": {},
   "outputs": [
    {
     "name": "stdout",
     "output_type": "stream",
     "text": [
      "    Unnamed: 0  id     diet  pulse    time     kind\n",
      "0            0   1  low fat     85   1 min     rest\n",
      "1            1   1  low fat     85  15 min     rest\n",
      "2            2   1  low fat     88  30 min     rest\n",
      "3            3   2  low fat     90   1 min     rest\n",
      "4            4   2  low fat     92  15 min     rest\n",
      "..         ...  ..      ...    ...     ...      ...\n",
      "85          85  29   no fat    135  15 min  running\n",
      "86          86  29   no fat    130  30 min  running\n",
      "87          87  30   no fat     99   1 min  running\n",
      "88          88  30   no fat    111  15 min  running\n",
      "89          89  30   no fat    150  30 min  running\n",
      "\n",
      "[90 rows x 6 columns]\n",
      "pulse  diet   \n",
      "80     no fat     0\n",
      "       low fat    1\n",
      "82     no fat     0\n",
      "       low fat    1\n",
      "83     no fat     2\n",
      "                 ..\n",
      "140    low fat    0\n",
      "143    no fat     1\n",
      "       low fat    0\n",
      "150    no fat     1\n",
      "       low fat    0\n",
      "Name: time, Length: 78, dtype: int64\n"
     ]
    },
    {
     "data": {
      "image/png": "[encoded data removed]",
      "text/plain": [
       "<Figure size 432x288 with 1 Axes>"
      ]
     },
     "metadata": {
      "needs_background": "light"
     },
     "output_type": "display_data"
    }
   ],
   "source": [
    "# importing packages\n",
    "import seaborn\n",
    "import matplotlib.pyplot as plt\n",
    "  \n",
    "# load dataset and view\n",
    "data = seaborn.load_dataset('exercise')\n",
    "print(data)\n",
    "  \n",
    "# multiple groupby (pulse and diet both)\n",
    "df = data.groupby(['pulse', 'diet']).count()['time']\n",
    "print(df)\n",
    "  \n",
    "# plot the result\n",
    "df.plot()\n",
    "plt.xticks(rotation=45)\n",
    "plt.show()"
   ]
  },
  {
   "cell_type": "markdown",
   "id": "bf35da07",
   "metadata": {},
   "source": [
    "**Example 2:**\n",
    "\n",
    "This example is the modification of the above example for better visualization."
   ]
  },
  {
   "cell_type": "code",
   "execution_count": 35,
   "id": "fd150c23",
   "metadata": {},
   "outputs": [
    {
     "name": "stdout",
     "output_type": "stream",
     "text": [
      "pulse  diet   \n",
      "80     no fat     0\n",
      "       low fat    1\n",
      "82     no fat     0\n",
      "       low fat    1\n",
      "83     no fat     2\n",
      "                 ..\n",
      "140    low fat    0\n",
      "143    no fat     1\n",
      "       low fat    0\n",
      "150    no fat     1\n",
      "       low fat    0\n",
      "Name: time, Length: 78, dtype: int64\n"
     ]
    },
    {
     "data": {
      "image/png": "[encoded data removed]",
      "text/plain": [
       "<Figure size 432x288 with 1 Axes>"
      ]
     },
     "metadata": {
      "needs_background": "light"
     },
     "output_type": "display_data"
    }
   ],
   "source": [
    "# importing packages\n",
    "import seaborn\n",
    "import matplotlib.pyplot as plt\n",
    "  \n",
    "# load dataset\n",
    "data = seaborn.load_dataset('exercise')\n",
    "  \n",
    "# multiple groupby (pulse and diet both)\n",
    "df = data.groupby(['pulse', 'diet']).count()['time']\n",
    "\n",
    "print(df)\n",
    "\n",
    "# plot the result\n",
    "df.unstack().plot()\n",
    "plt.xticks(rotation=45)\n",
    "plt.show()"
   ]
  },
  {
   "cell_type": "markdown",
   "id": "52a9e932",
   "metadata": {},
   "source": [
    "**Example 3:**\n",
    "\n",
    "In this example, we take “excercise.csv” file of a dataset from seaborn library then formed groupby data by grouping three columns “pulse”, “diet” , and “time” together on the basis of a column “kind” and at last visualize the result."
   ]
  },
  {
   "cell_type": "code",
   "execution_count": 27,
   "id": "6c2f2d2f",
   "metadata": {},
   "outputs": [
    {
     "name": "stdout",
     "output_type": "stream",
     "text": [
      "    Unnamed: 0  id     diet  pulse    time     kind\n",
      "0            0   1  low fat     85   1 min     rest\n",
      "1            1   1  low fat     85  15 min     rest\n",
      "2            2   1  low fat     88  30 min     rest\n",
      "3            3   2  low fat     90   1 min     rest\n",
      "4            4   2  low fat     92  15 min     rest\n",
      "..         ...  ..      ...    ...     ...      ...\n",
      "85          85  29   no fat    135  15 min  running\n",
      "86          86  29   no fat    130  30 min  running\n",
      "87          87  30   no fat     99   1 min  running\n",
      "88          88  30   no fat    111  15 min  running\n",
      "89          89  30   no fat    150  30 min  running\n",
      "\n",
      "[90 rows x 6 columns]\n",
      "pulse  diet     time  \n",
      "80     no fat   1 min     0\n",
      "                15 min    0\n",
      "                30 min    0\n",
      "       low fat  1 min     1\n",
      "                15 min    0\n",
      "                         ..\n",
      "150    no fat   15 min    0\n",
      "                30 min    1\n",
      "       low fat  1 min     0\n",
      "                15 min    0\n",
      "                30 min    0\n",
      "Name: kind, Length: 234, dtype: int64\n"
     ]
    },
    {
     "data": {
      "image/png": "[encoded data removed]",
      "text/plain": [
       "<Figure size 432x288 with 1 Axes>"
      ]
     },
     "metadata": {
      "needs_background": "light"
     },
     "output_type": "display_data"
    }
   ],
   "source": [
    "# importing packages\n",
    "import seaborn\n",
    "import matplotlib.pyplot as plt\n",
    "\n",
    "# load dataset and view\n",
    "data = seaborn.load_dataset('exercise')\n",
    "print(data)\n",
    "  \n",
    "# multiple groupby (pulse, diet and time)\n",
    "df = data.groupby(['pulse', 'diet', 'time']).count()['kind']\n",
    "print(df)\n",
    "  \n",
    "# plot the result\n",
    "df.plot()\n",
    "plt.xticks(rotation=30)\n",
    "plt.show()"
   ]
  },
  {
   "cell_type": "markdown",
   "id": "d14ea1c5",
   "metadata": {},
   "source": [
    "**Example 4:**\n",
    "\n",
    "This example is the modification of the above example for better visualization."
   ]
  },
  {
   "cell_type": "code",
   "execution_count": 36,
   "id": "1258974b",
   "metadata": {},
   "outputs": [
    {
     "name": "stdout",
     "output_type": "stream",
     "text": [
      "pulse  diet     time  \n",
      "80     no fat   1 min     0\n",
      "                15 min    0\n",
      "                30 min    0\n",
      "       low fat  1 min     1\n",
      "                15 min    0\n",
      "                         ..\n",
      "150    no fat   15 min    0\n",
      "                30 min    1\n",
      "       low fat  1 min     0\n",
      "                15 min    0\n",
      "                30 min    0\n",
      "Name: kind, Length: 234, dtype: int64\n"
     ]
    },
    {
     "data": {
      "image/png": "[encoded data removed]",
      "text/plain": [
       "<Figure size 432x288 with 1 Axes>"
      ]
     },
     "metadata": {
      "needs_background": "light"
     },
     "output_type": "display_data"
    }
   ],
   "source": [
    "# importing packages\n",
    "import seaborn\n",
    "import matplotlib.pyplot as plt\n",
    "\n",
    "# load dataset\n",
    "data = seaborn.load_dataset('exercise')\n",
    "  \n",
    "# multiple groupby (pulse, diet, and time)\n",
    "df = data.groupby(['pulse', 'diet', 'time']).count()['kind']\n",
    "\n",
    "print(df)\n",
    "\n",
    "# plot the result\n",
    "df.unstack().plot()\n",
    "plt.xticks(rotation=30)\n",
    "plt.show()"
   ]
  },
  {
   "cell_type": "markdown",
   "id": "74386b13",
   "metadata": {},
   "source": [
    "<a id='section6'></a>\n",
    "## 6. [Pandas – GroupBy One Column and Get Mean, Min, and Max values](https://www.geeksforgeeks.org/pandas-groupby-one-column-and-get-mean-min-and-max-values/?ref=lbp)"
   ]
  },
  {
   "cell_type": "markdown",
   "id": "37f85316",
   "metadata": {},
   "source": [
    "We can use Groupby function to split dataframe into groups and apply different operations on it. One of them is Aggregation. Aggregation i.e. computing statistical parameters for each group created example – mean, min, max, or sums.\n",
    "\n",
    "Let’s have a look at how we can group a dataframe by one column and get their mean, min, and max values.\n",
    "\n",
    "**Example 1 :**"
   ]
  },
  {
   "cell_type": "code",
   "execution_count": 37,
   "id": "0f87bceb",
   "metadata": {},
   "outputs": [
    {
     "data": {
      "text/html": [
       "<div>\n",
       "<style scoped>\n",
       "    .dataframe tbody tr th:only-of-type {\n",
       "        vertical-align: middle;\n",
       "    }\n",
       "\n",
       "    .dataframe tbody tr th {\n",
       "        vertical-align: top;\n",
       "    }\n",
       "\n",
       "    .dataframe thead th {\n",
       "        text-align: right;\n",
       "    }\n",
       "</style>\n",
       "<table border=\"1\" class=\"dataframe\">\n",
       "  <thead>\n",
       "    <tr style=\"text-align: right;\">\n",
       "      <th></th>\n",
       "      <th>Type</th>\n",
       "      <th>Name</th>\n",
       "      <th>top_speed(mph)</th>\n",
       "    </tr>\n",
       "  </thead>\n",
       "  <tbody>\n",
       "    <tr>\n",
       "      <th>0</th>\n",
       "      <td>Bike</td>\n",
       "      <td>Kawasaki</td>\n",
       "      <td>186</td>\n",
       "    </tr>\n",
       "    <tr>\n",
       "      <th>1</th>\n",
       "      <td>Bike</td>\n",
       "      <td>Ducati Panigale</td>\n",
       "      <td>202</td>\n",
       "    </tr>\n",
       "    <tr>\n",
       "      <th>2</th>\n",
       "      <td>Car</td>\n",
       "      <td>Bugatti Chiron</td>\n",
       "      <td>304</td>\n",
       "    </tr>\n",
       "    <tr>\n",
       "      <th>3</th>\n",
       "      <td>Car</td>\n",
       "      <td>Jaguar XJ220</td>\n",
       "      <td>210</td>\n",
       "    </tr>\n",
       "    <tr>\n",
       "      <th>4</th>\n",
       "      <td>Bike</td>\n",
       "      <td>Lightning LS-218</td>\n",
       "      <td>218</td>\n",
       "    </tr>\n",
       "    <tr>\n",
       "      <th>5</th>\n",
       "      <td>Car</td>\n",
       "      <td>Hennessey Venom GT</td>\n",
       "      <td>270</td>\n",
       "    </tr>\n",
       "    <tr>\n",
       "      <th>6</th>\n",
       "      <td>Bike</td>\n",
       "      <td>BMW S1000RR</td>\n",
       "      <td>188</td>\n",
       "    </tr>\n",
       "  </tbody>\n",
       "</table>\n",
       "</div>"
      ],
      "text/plain": [
       "   Type                Name  top_speed(mph)\n",
       "0  Bike            Kawasaki             186\n",
       "1  Bike     Ducati Panigale             202\n",
       "2   Car      Bugatti Chiron             304\n",
       "3   Car        Jaguar XJ220             210\n",
       "4  Bike    Lightning LS-218             218\n",
       "5   Car  Hennessey Venom GT             270\n",
       "6  Bike         BMW S1000RR             188"
      ]
     },
     "execution_count": 37,
     "metadata": {},
     "output_type": "execute_result"
    }
   ],
   "source": [
    "import pandas as pd\n",
    "  \n",
    "  \n",
    "# creating a dataframe\n",
    "df = pd.DataFrame([('Bike', 'Kawasaki', 186),\n",
    "                   ('Bike', 'Ducati Panigale', 202),\n",
    "                   ('Car', 'Bugatti Chiron', 304), \n",
    "                   ('Car', 'Jaguar XJ220', 210),\n",
    "                   ('Bike', 'Lightning LS-218', 218), \n",
    "                   ('Car', 'Hennessey Venom GT', 270),\n",
    "                   ('Bike', 'BMW S1000RR', 188)],\n",
    "                  columns =('Type', 'Name', 'top_speed(mph)'))\n",
    "  \n",
    "df"
   ]
  },
  {
   "cell_type": "markdown",
   "id": "4d543e79",
   "metadata": {},
   "source": [
    "Finding `mean`, `min` and `max` values."
   ]
  },
  {
   "cell_type": "code",
   "execution_count": 38,
   "id": "cf589aa4",
   "metadata": {},
   "outputs": [
    {
     "name": "stdout",
     "output_type": "stream",
     "text": [
      "Mean, min, and max values of Top Speed grouped by Vehicle Type\n",
      "     top_speed(mph)          \n",
      "               mean  min  max\n",
      "Type                         \n",
      "Bike     198.500000  186  218\n",
      "Car      261.333333  210  304\n"
     ]
    }
   ],
   "source": [
    "# using groupby function with aggregation\n",
    "# to get mean, min and max values\n",
    "result = df.groupby('Type').agg({'top_speed(mph)': ['mean', 'min', 'max']})\n",
    "  \n",
    "print(\"Mean, min, and max values of Top Speed grouped by Vehicle Type\")\n",
    "print(result)"
   ]
  },
  {
   "cell_type": "markdown",
   "id": "675c8ef5",
   "metadata": {},
   "source": [
    "**Example 2 :**"
   ]
  },
  {
   "cell_type": "code",
   "execution_count": 39,
   "id": "d4980e7f",
   "metadata": {},
   "outputs": [
    {
     "data": {
      "text/html": [
       "<div>\n",
       "<style scoped>\n",
       "    .dataframe tbody tr th:only-of-type {\n",
       "        vertical-align: middle;\n",
       "    }\n",
       "\n",
       "    .dataframe tbody tr th {\n",
       "        vertical-align: top;\n",
       "    }\n",
       "\n",
       "    .dataframe thead th {\n",
       "        text-align: right;\n",
       "    }\n",
       "</style>\n",
       "<table border=\"1\" class=\"dataframe\">\n",
       "  <thead>\n",
       "    <tr style=\"text-align: right;\">\n",
       "      <th></th>\n",
       "      <th>customer_id</th>\n",
       "      <th>salesman_id</th>\n",
       "      <th>purchase_amt</th>\n",
       "    </tr>\n",
       "  </thead>\n",
       "  <tbody>\n",
       "    <tr>\n",
       "      <th>0</th>\n",
       "      <td>3005</td>\n",
       "      <td>102</td>\n",
       "      <td>1500</td>\n",
       "    </tr>\n",
       "    <tr>\n",
       "      <th>1</th>\n",
       "      <td>3001</td>\n",
       "      <td>105</td>\n",
       "      <td>2700</td>\n",
       "    </tr>\n",
       "    <tr>\n",
       "      <th>2</th>\n",
       "      <td>3002</td>\n",
       "      <td>101</td>\n",
       "      <td>1525</td>\n",
       "    </tr>\n",
       "    <tr>\n",
       "      <th>3</th>\n",
       "      <td>3009</td>\n",
       "      <td>103</td>\n",
       "      <td>1100</td>\n",
       "    </tr>\n",
       "    <tr>\n",
       "      <th>4</th>\n",
       "      <td>3005</td>\n",
       "      <td>102</td>\n",
       "      <td>948</td>\n",
       "    </tr>\n",
       "    <tr>\n",
       "      <th>5</th>\n",
       "      <td>3007</td>\n",
       "      <td>101</td>\n",
       "      <td>2400</td>\n",
       "    </tr>\n",
       "    <tr>\n",
       "      <th>6</th>\n",
       "      <td>3002</td>\n",
       "      <td>101</td>\n",
       "      <td>5700</td>\n",
       "    </tr>\n",
       "    <tr>\n",
       "      <th>7</th>\n",
       "      <td>3004</td>\n",
       "      <td>106</td>\n",
       "      <td>2000</td>\n",
       "    </tr>\n",
       "    <tr>\n",
       "      <th>8</th>\n",
       "      <td>3009</td>\n",
       "      <td>103</td>\n",
       "      <td>1280</td>\n",
       "    </tr>\n",
       "    <tr>\n",
       "      <th>9</th>\n",
       "      <td>3008</td>\n",
       "      <td>102</td>\n",
       "      <td>2500</td>\n",
       "    </tr>\n",
       "    <tr>\n",
       "      <th>10</th>\n",
       "      <td>3003</td>\n",
       "      <td>107</td>\n",
       "      <td>750</td>\n",
       "    </tr>\n",
       "    <tr>\n",
       "      <th>11</th>\n",
       "      <td>3002</td>\n",
       "      <td>101</td>\n",
       "      <td>5050</td>\n",
       "    </tr>\n",
       "  </tbody>\n",
       "</table>\n",
       "</div>"
      ],
      "text/plain": [
       "    customer_id  salesman_id  purchase_amt\n",
       "0          3005          102          1500\n",
       "1          3001          105          2700\n",
       "2          3002          101          1525\n",
       "3          3009          103          1100\n",
       "4          3005          102           948\n",
       "5          3007          101          2400\n",
       "6          3002          101          5700\n",
       "7          3004          106          2000\n",
       "8          3009          103          1280\n",
       "9          3008          102          2500\n",
       "10         3003          107           750\n",
       "11         3002          101          5050"
      ]
     },
     "execution_count": 39,
     "metadata": {},
     "output_type": "execute_result"
    }
   ],
   "source": [
    "import pandas as pd\n",
    "  \n",
    "  \n",
    "# creating a dataframe\n",
    "sales_data = pd.DataFrame({\n",
    "'customer_id':[3005, 3001, 3002, 3009, 3005, 3007,\n",
    "               3002, 3004, 3009, 3008, 3003, 3002],\n",
    "      \n",
    "'salesman_id': [102, 105, 101, 103, 102, 101, 101,\n",
    "                106, 103, 102, 107, 101],\n",
    "  \n",
    "'purchase_amt':[1500, 2700, 1525, 1100, 948, 2400,\n",
    "                5700, 2000, 1280, 2500, 750, 5050]})\n",
    "  \n",
    "sales_data"
   ]
  },
  {
   "cell_type": "markdown",
   "id": "d906648f",
   "metadata": {},
   "source": [
    "Finding `mean`, `min` and `max` values."
   ]
  },
  {
   "cell_type": "code",
   "execution_count": 40,
   "id": "be043a12",
   "metadata": {},
   "outputs": [
    {
     "name": "stdout",
     "output_type": "stream",
     "text": [
      "Mean, min, and max values of Purchase Amount grouped by Salesman id\n",
      "            purchase_amt            \n",
      "                    mean   min   max\n",
      "salesman_id                         \n",
      "101          3668.750000  1525  5700\n",
      "102          1649.333333   948  2500\n",
      "103          1190.000000  1100  1280\n",
      "105          2700.000000  2700  2700\n",
      "106          2000.000000  2000  2000\n",
      "107           750.000000   750   750\n"
     ]
    }
   ],
   "source": [
    "# using groupby function with aggregation \n",
    "# to get mean, min and max values\n",
    "result = sales_data.groupby('salesman_id').agg({'purchase_amt': ['mean', 'min', 'max']})\n",
    "  \n",
    "print(\"Mean, min, and max values of Purchase Amount grouped by Salesman id\")\n",
    "print(result)"
   ]
  },
  {
   "cell_type": "markdown",
   "id": "de6d24c1",
   "metadata": {},
   "source": [
    "**Example 3 :**"
   ]
  },
  {
   "cell_type": "code",
   "execution_count": 41,
   "id": "d65abbc2",
   "metadata": {},
   "outputs": [
    {
     "data": {
      "text/html": [
       "<div>\n",
       "<style scoped>\n",
       "    .dataframe tbody tr th:only-of-type {\n",
       "        vertical-align: middle;\n",
       "    }\n",
       "\n",
       "    .dataframe tbody tr th {\n",
       "        vertical-align: top;\n",
       "    }\n",
       "\n",
       "    .dataframe thead th {\n",
       "        text-align: right;\n",
       "    }\n",
       "</style>\n",
       "<table border=\"1\" class=\"dataframe\">\n",
       "  <thead>\n",
       "    <tr style=\"text-align: right;\">\n",
       "      <th></th>\n",
       "      <th>Team</th>\n",
       "      <th>Position</th>\n",
       "      <th>Age</th>\n",
       "    </tr>\n",
       "  </thead>\n",
       "  <tbody>\n",
       "    <tr>\n",
       "      <th>0</th>\n",
       "      <td>Radisson</td>\n",
       "      <td>Player</td>\n",
       "      <td>22</td>\n",
       "    </tr>\n",
       "    <tr>\n",
       "      <th>1</th>\n",
       "      <td>Radisson</td>\n",
       "      <td>Extras</td>\n",
       "      <td>24</td>\n",
       "    </tr>\n",
       "    <tr>\n",
       "      <th>2</th>\n",
       "      <td>Gladiators</td>\n",
       "      <td>Player</td>\n",
       "      <td>21</td>\n",
       "    </tr>\n",
       "    <tr>\n",
       "      <th>3</th>\n",
       "      <td>Blues</td>\n",
       "      <td>Extras</td>\n",
       "      <td>29</td>\n",
       "    </tr>\n",
       "    <tr>\n",
       "      <th>4</th>\n",
       "      <td>Gladiators</td>\n",
       "      <td>Extras</td>\n",
       "      <td>32</td>\n",
       "    </tr>\n",
       "    <tr>\n",
       "      <th>5</th>\n",
       "      <td>Blues</td>\n",
       "      <td>Player</td>\n",
       "      <td>20</td>\n",
       "    </tr>\n",
       "    <tr>\n",
       "      <th>6</th>\n",
       "      <td>Gladiators</td>\n",
       "      <td>Player</td>\n",
       "      <td>21</td>\n",
       "    </tr>\n",
       "    <tr>\n",
       "      <th>7</th>\n",
       "      <td>Gladiators</td>\n",
       "      <td>Player</td>\n",
       "      <td>23</td>\n",
       "    </tr>\n",
       "    <tr>\n",
       "      <th>8</th>\n",
       "      <td>Blues</td>\n",
       "      <td>Extras</td>\n",
       "      <td>30</td>\n",
       "    </tr>\n",
       "    <tr>\n",
       "      <th>9</th>\n",
       "      <td>Blues</td>\n",
       "      <td>Player</td>\n",
       "      <td>26</td>\n",
       "    </tr>\n",
       "    <tr>\n",
       "      <th>10</th>\n",
       "      <td>Radisson</td>\n",
       "      <td>Player</td>\n",
       "      <td>20</td>\n",
       "    </tr>\n",
       "    <tr>\n",
       "      <th>11</th>\n",
       "      <td>Radisson</td>\n",
       "      <td>Extras</td>\n",
       "      <td>31</td>\n",
       "    </tr>\n",
       "  </tbody>\n",
       "</table>\n",
       "</div>"
      ],
      "text/plain": [
       "          Team Position  Age\n",
       "0     Radisson   Player   22\n",
       "1     Radisson   Extras   24\n",
       "2   Gladiators   Player   21\n",
       "3        Blues   Extras   29\n",
       "4   Gladiators   Extras   32\n",
       "5        Blues   Player   20\n",
       "6   Gladiators   Player   21\n",
       "7   Gladiators   Player   23\n",
       "8        Blues   Extras   30\n",
       "9        Blues   Player   26\n",
       "10    Radisson   Player   20\n",
       "11    Radisson   Extras   31"
      ]
     },
     "execution_count": 41,
     "metadata": {},
     "output_type": "execute_result"
    }
   ],
   "source": [
    "import pandas as pd\n",
    "  \n",
    "  \n",
    "# creating a dataframe\n",
    "df = pd.DataFrame({\"Team\": [\"Radisson\", \"Radisson\", \"Gladiators\",\n",
    "                            \"Blues\", \"Gladiators\", \"Blues\", \n",
    "                            \"Gladiators\", \"Gladiators\", \"Blues\", \n",
    "                            \"Blues\", \"Radisson\", \"Radisson\"],\n",
    "                     \n",
    "        \"Position\": [\"Player\", \"Extras\", \"Player\", \"Extras\",\n",
    "                     \"Extras\", \"Player\", \"Player\", \"Player\",\n",
    "                     \"Extras\", \"Player\", \"Player\", \"Extras\"],\n",
    "                     \n",
    "        \"Age\": [22, 24, 21, 29, 32, 20, 21, 23, 30, 26, 20, 31]})\n",
    "df"
   ]
  },
  {
   "cell_type": "markdown",
   "id": "ba82daef",
   "metadata": {},
   "source": [
    "Finding `mean`, `min` and `max` values."
   ]
  },
  {
   "cell_type": "code",
   "execution_count": 42,
   "id": "60ef3e81",
   "metadata": {},
   "outputs": [
    {
     "name": "stdout",
     "output_type": "stream",
     "text": [
      "Mean, min, and max values of Age grouped by Team\n",
      "              Age        \n",
      "             mean min max\n",
      "Team                     \n",
      "Blues       26.25  20  30\n",
      "Gladiators  24.25  21  32\n",
      "Radisson    24.25  20  31\n"
     ]
    }
   ],
   "source": [
    "# using groupby function with aggregation \n",
    "# to get mean, min and max values\n",
    "result = df.groupby('Team').agg({'Age': ['mean', 'min', 'max']})\n",
    "  \n",
    "print(\"Mean, min, and max values of Age grouped by Team\")\n",
    "print(result)"
   ]
  },
  {
   "cell_type": "markdown",
   "id": "18f44078",
   "metadata": {},
   "source": [
    "<a id='section7'></a>\n",
    "## 7. [Select row with maximum and minimum value in Pandas dataframe](https://www.geeksforgeeks.org/select-row-with-maximum-and-minimum-value-in-pandas-dataframe/?ref=lbp)"
   ]
  },
  {
   "cell_type": "markdown",
   "id": "e14e4a5d",
   "metadata": {},
   "source": [
    "Let’s see how can we select row with maximum and minimum value in Pandas dataframe with help of different examples.\n",
    "\n",
    "Consider this dataset."
   ]
  },
  {
   "cell_type": "code",
   "execution_count": 43,
   "id": "3165e396",
   "metadata": {},
   "outputs": [
    {
     "name": "stdout",
     "output_type": "stream",
     "text": [
      "       Driver  Points  Age\n",
      "0    Hamilton     408   33\n",
      "1      Vettel     320   31\n",
      "2   Raikkonen     251   39\n",
      "3  Verstappen     249   21\n",
      "4      Bottas     247   29\n",
      "5   Ricciardo     170   29\n",
      "6  Hulkenberg      69   31\n",
      "7       Perez      62   28\n",
      "8   Magnussen      56   26\n",
      "9       Sainz      53   24\n"
     ]
    }
   ],
   "source": [
    "# importing pandas and numpy\n",
    "import pandas as pd\n",
    "import numpy as np\n",
    "  \n",
    "# data of 2018 drivers world championship\n",
    "dict1 ={'Driver':['Hamilton', 'Vettel', 'Raikkonen',\n",
    "                  'Verstappen', 'Bottas', 'Ricciardo',\n",
    "                  'Hulkenberg', 'Perez', 'Magnussen', \n",
    "                  'Sainz', 'Alonso', 'Ocon', 'Leclerc',\n",
    "                  'Grosjean', 'Gasly', 'Vandoorne',\n",
    "                  'Ericsson', 'Stroll', 'Hartley', 'Sirotkin'],\n",
    "                    \n",
    "        'Points':[408, 320, 251, 249, 247, 170, 69, 62, 56,\n",
    "                   53, 50, 49, 39, 37, 29, 12, 9, 6, 4, 1],\n",
    "                     \n",
    "        'Age':[33, 31, 39, 21, 29, 29, 31, 28, 26, 24, 37,\n",
    "                      22, 21, 32, 22, 26, 28, 20, 29, 23]}\n",
    "                        \n",
    "# creating dataframe using DataFrame constructor\n",
    "df = pd.DataFrame(dict1)\n",
    "print(df.head(10))"
   ]
  },
  {
   "cell_type": "markdown",
   "id": "1c0bff37",
   "metadata": {},
   "source": [
    "**Using `max` on Dataframe –**\n",
    "\n",
    "**Code #1:** Shows max on Driver, Points, Age columns."
   ]
  },
  {
   "cell_type": "code",
   "execution_count": 44,
   "id": "27dafb2e",
   "metadata": {},
   "outputs": [
    {
     "name": "stdout",
     "output_type": "stream",
     "text": [
      "Driver    Vettel\n",
      "Points       408\n",
      "Age           39\n",
      "dtype: object\n"
     ]
    }
   ],
   "source": [
    "# importing pandas and numpy\n",
    "import pandas as pd\n",
    "import numpy as np\n",
    "  \n",
    "# data of 2018 drivers world championship\n",
    "dict1 ={'Driver':['Hamilton', 'Vettel', 'Raikkonen',\n",
    "                  'Verstappen', 'Bottas', 'Ricciardo',\n",
    "                  'Hulkenberg', 'Perez', 'Magnussen', \n",
    "                  'Sainz', 'Alonso', 'Ocon', 'Leclerc',\n",
    "                  'Grosjean', 'Gasly', 'Vandoorne',\n",
    "                  'Ericsson', 'Stroll', 'Hartley', 'Sirotkin'],\n",
    "                    \n",
    "        'Points':[408, 320, 251, 249, 247, 170, 69, 62, 56,\n",
    "                   53, 50, 49, 39, 37, 29, 12, 9, 6, 4, 1],\n",
    "                     \n",
    "        'Age':[33, 31, 39, 21, 29, 29, 31, 28, 26, 24, 37,\n",
    "                      22, 21, 32, 22, 26, 28, 20, 29, 23]}\n",
    "                        \n",
    "# creating dataframe using DataFrame constructor\n",
    "df = pd.DataFrame(dict1)\n",
    "  \n",
    "# the result shows max on\n",
    "# Driver, Points, Age columns.\n",
    "print(df.max())"
   ]
  },
  {
   "cell_type": "markdown",
   "id": "979d3037",
   "metadata": {},
   "source": [
    "**Code #2:** Who scored max points"
   ]
  },
  {
   "cell_type": "code",
   "execution_count": 45,
   "id": "00b9f5e5",
   "metadata": {},
   "outputs": [
    {
     "name": "stdout",
     "output_type": "stream",
     "text": [
      "     Driver  Points  Age\n",
      "0  Hamilton     408   33\n"
     ]
    }
   ],
   "source": [
    "# importing pandas and numpy\n",
    "import pandas as pd\n",
    "import numpy as np\n",
    "  \n",
    "# data of 2018 drivers world championship\n",
    "dict1 ={'Driver':['Hamilton', 'Vettel', 'Raikkonen',\n",
    "                  'Verstappen', 'Bottas', 'Ricciardo',\n",
    "                  'Hulkenberg', 'Perez', 'Magnussen', \n",
    "                  'Sainz', 'Alonso', 'Ocon', 'Leclerc',\n",
    "                  'Grosjean', 'Gasly', 'Vandoorne',\n",
    "                  'Ericsson', 'Stroll', 'Hartley', 'Sirotkin'],\n",
    "                    \n",
    "        'Points':[408, 320, 251, 249, 247, 170, 69, 62, 56,\n",
    "                   53, 50, 49, 39, 37, 29, 12, 9, 6, 4, 1],\n",
    "                     \n",
    "        'Age':[33, 31, 39, 21, 29, 29, 31, 28, 26, 24, 37,\n",
    "                      22, 21, 32, 22, 26, 28, 20, 29, 23]}\n",
    "                        \n",
    "# creating dataframe using DataFrame constructor\n",
    "df = pd.DataFrame(dict1)\n",
    "  \n",
    "# Who scored more points ?\n",
    "print(df[df.Points == df.Points.max()])"
   ]
  },
  {
   "cell_type": "markdown",
   "id": "db6c63b5",
   "metadata": {},
   "source": [
    "**Code #3:**  What is the maximum age"
   ]
  },
  {
   "cell_type": "code",
   "execution_count": 46,
   "id": "734358bb",
   "metadata": {},
   "outputs": [
    {
     "name": "stdout",
     "output_type": "stream",
     "text": [
      "39\n"
     ]
    }
   ],
   "source": [
    "# importing pandas and numpy\n",
    "import pandas as pd\n",
    "import numpy as np\n",
    "  \n",
    "# data of 2018 drivers world championship\n",
    "dict1 ={'Driver':['Hamilton', 'Vettel', 'Raikkonen',\n",
    "                  'Verstappen', 'Bottas', 'Ricciardo',\n",
    "                  'Hulkenberg', 'Perez', 'Magnussen', \n",
    "                  'Sainz', 'Alonso', 'Ocon', 'Leclerc',\n",
    "                  'Grosjean', 'Gasly', 'Vandoorne',\n",
    "                  'Ericsson', 'Stroll', 'Hartley', 'Sirotkin'],\n",
    "                    \n",
    "        'Points':[408, 320, 251, 249, 247, 170, 69, 62, 56,\n",
    "                   53, 50, 49, 39, 37, 29, 12, 9, 6, 4, 1],\n",
    "                     \n",
    "        'Age':[33, 31, 39, 21, 29, 29, 31, 28, 26, 24, 37,\n",
    "                      22, 21, 32, 22, 26, 28, 20, 29, 23]}\n",
    "                        \n",
    "# creating dataframe using DataFrame constructor\n",
    "df = pd.DataFrame(dict1)\n",
    "  \n",
    "# what is the maximum age ?\n",
    "print(df.Age.max())"
   ]
  },
  {
   "cell_type": "markdown",
   "id": "b7d369cd",
   "metadata": {},
   "source": [
    "**Code #4:**  Which row has maximum age in the dataframe | who is the oldest driver ?\n"
   ]
  },
  {
   "cell_type": "code",
   "execution_count": 47,
   "id": "d661df08",
   "metadata": {},
   "outputs": [
    {
     "name": "stdout",
     "output_type": "stream",
     "text": [
      "      Driver  Points  Age\n",
      "2  Raikkonen     251   39\n"
     ]
    }
   ],
   "source": [
    "# importing pandas and numpy\n",
    "import pandas as pd\n",
    "import numpy as np\n",
    "  \n",
    "# data of 2018 drivers world championship\n",
    "dict1 ={'Driver':['Hamilton', 'Vettel', 'Raikkonen',\n",
    "                  'Verstappen', 'Bottas', 'Ricciardo',\n",
    "                  'Hulkenberg', 'Perez', 'Magnussen', \n",
    "                  'Sainz', 'Alonso', 'Ocon', 'Leclerc',\n",
    "                  'Grosjean', 'Gasly', 'Vandoorne',\n",
    "                  'Ericsson', 'Stroll', 'Hartley', 'Sirotkin'],\n",
    "                    \n",
    "        'Points':[408, 320, 251, 249, 247, 170, 69, 62, 56,\n",
    "                   53, 50, 49, 39, 37, 29, 12, 9, 6, 4, 1],\n",
    "                     \n",
    "        'Age':[33, 31, 39, 21, 29, 29, 31, 28, 26, 24, 37,\n",
    "                      22, 21, 32, 22, 26, 28, 20, 29, 23]}\n",
    "                        \n",
    "# creating dataframe using DataFrame constructor\n",
    "df = pd.DataFrame(dict1)\n",
    "  \n",
    "# Which row has maximum age |\n",
    "# who is the oldest driver ?\n",
    "print(df[df.Age == df.Age.max()])"
   ]
  },
  {
   "cell_type": "markdown",
   "id": "fd18a778",
   "metadata": {},
   "source": [
    "**Using max on Dataframe –**\n",
    "\n",
    "**Code #1:** Shows min on Driver, Points, Age columns."
   ]
  },
  {
   "cell_type": "code",
   "execution_count": 48,
   "id": "cbc683c3",
   "metadata": {},
   "outputs": [
    {
     "name": "stdout",
     "output_type": "stream",
     "text": [
      "Driver    Alonso\n",
      "Points         1\n",
      "Age           20\n",
      "dtype: object\n"
     ]
    }
   ],
   "source": [
    "# importing pandas and numpy\n",
    "import pandas as pd\n",
    "import numpy as np\n",
    "  \n",
    "# data of 2018 drivers world championship\n",
    "dict1 ={'Driver':['Hamilton', 'Vettel', 'Raikkonen',\n",
    "                  'Verstappen', 'Bottas', 'Ricciardo',\n",
    "                  'Hulkenberg', 'Perez', 'Magnussen', \n",
    "                  'Sainz', 'Alonso', 'Ocon', 'Leclerc',\n",
    "                  'Grosjean', 'Gasly', 'Vandoorne',\n",
    "                  'Ericsson', 'Stroll', 'Hartley', 'Sirotkin'],\n",
    "                    \n",
    "        'Points':[408, 320, 251, 249, 247, 170, 69, 62, 56,\n",
    "                   53, 50, 49, 39, 37, 29, 12, 9, 6, 4, 1],\n",
    "                     \n",
    "        'Age':[33, 31, 39, 21, 29, 29, 31, 28, 26, 24, 37,\n",
    "                      22, 21, 32, 22, 26, 28, 20, 29, 23]}\n",
    "                        \n",
    "# creating dataframe using DataFrame constructor\n",
    "df = pd.DataFrame(dict1)\n",
    "  \n",
    "# the result shows min on \n",
    "# Driver, Points, Age columns.\n",
    "print(df.min())"
   ]
  },
  {
   "cell_type": "markdown",
   "id": "0c31a827",
   "metadata": {},
   "source": [
    "**Code #2:** Who scored less points"
   ]
  },
  {
   "cell_type": "code",
   "execution_count": 49,
   "id": "950db20e",
   "metadata": {},
   "outputs": [
    {
     "name": "stdout",
     "output_type": "stream",
     "text": [
      "      Driver  Points  Age\n",
      "19  Sirotkin       1   23\n"
     ]
    }
   ],
   "source": [
    "# importing pandas and numpy\n",
    "import pandas as pd\n",
    "import numpy as np\n",
    "  \n",
    "# data of 2018 drivers world championship\n",
    "dict1 ={'Driver':['Hamilton', 'Vettel', 'Raikkonen',\n",
    "                  'Verstappen', 'Bottas', 'Ricciardo',\n",
    "                  'Hulkenberg', 'Perez', 'Magnussen', \n",
    "                  'Sainz', 'Alonso', 'Ocon', 'Leclerc',\n",
    "                  'Grosjean', 'Gasly', 'Vandoorne',\n",
    "                  'Ericsson', 'Stroll', 'Hartley', 'Sirotkin'],\n",
    "                    \n",
    "        'Points':[408, 320, 251, 249, 247, 170, 69, 62, 56,\n",
    "                   53, 50, 49, 39, 37, 29, 12, 9, 6, 4, 1],\n",
    "                     \n",
    "        'Age':[33, 31, 39, 21, 29, 29, 31, 28, 26, 24, 37,\n",
    "                      22, 21, 32, 22, 26, 28, 20, 29, 23]}\n",
    "                        \n",
    "# creating dataframe using DataFrame constructor\n",
    "df = pd.DataFrame(dict1)\n",
    "  \n",
    "# Who scored less points ?\n",
    "print(df[df.Points == df.Points.min()])"
   ]
  },
  {
   "cell_type": "markdown",
   "id": "da1eac07",
   "metadata": {},
   "source": [
    "**Code #3:** Which row has minimum age in the dataframe | who is the youngest driver"
   ]
  },
  {
   "cell_type": "code",
   "execution_count": 50,
   "id": "95850b30",
   "metadata": {},
   "outputs": [
    {
     "name": "stdout",
     "output_type": "stream",
     "text": [
      "    Driver  Points  Age\n",
      "17  Stroll       6   20\n"
     ]
    }
   ],
   "source": [
    "# importing pandas and numpy\n",
    "import pandas as pd\n",
    "import numpy as np\n",
    "  \n",
    "# data of 2018 drivers world championship\n",
    "dict1 ={'Driver':['Hamilton', 'Vettel', 'Raikkonen',\n",
    "                  'Verstappen', 'Bottas', 'Ricciardo',\n",
    "                  'Hulkenberg', 'Perez', 'Magnussen', \n",
    "                  'Sainz', 'Alonso', 'Ocon', 'Leclerc',\n",
    "                  'Grosjean', 'Gasly', 'Vandoorne',\n",
    "                  'Ericsson', 'Stroll', 'Hartley', 'Sirotkin'],\n",
    "                    \n",
    "        'Points':[408, 320, 251, 249, 247, 170, 69, 62, 56,\n",
    "                   53, 50, 49, 39, 37, 29, 12, 9, 6, 4, 1],\n",
    "                     \n",
    "        'Age':[33, 31, 39, 21, 29, 29, 31, 28, 26, 24, 37,\n",
    "                      22, 21, 32, 22, 26, 28, 20, 29, 23]}\n",
    "                        \n",
    "# creating dataframe using DataFrame constructor\n",
    "df = pd.DataFrame(dict1)\n",
    "  \n",
    "# Which row has maximum age | \n",
    "# who is the youngest driver ?\n",
    "print(df[df.Age == df.Age.min()])"
   ]
  },
  {
   "cell_type": "markdown",
   "id": "dee6ade3",
   "metadata": {},
   "source": [
    "<a id='section8'></a>\n",
    "## 8. [Find maximum values & position in columns and rows of a Dataframe in Pandas](https://www.geeksforgeeks.org/find-maximum-values-position-in-columns-and-rows-of-a-dataframe-in-pandas/)"
   ]
  },
  {
   "cell_type": "markdown",
   "id": "8b0d4520",
   "metadata": {},
   "source": [
    "In this article, we are going to discuss how to find maximum value and its index position in columns and rows of a Dataframe.\n",
    "\n",
    "**DataFrame.max()**\n",
    "\n",
    "Pandas `dataframe.max()` method finds the maximum of the values in the object and returns it. If the input is a series, the method will return a scalar which will be the maximum of the values in the series. If the input is a dataframe, then the method will return a series with maximum of values over the specified axis in the dataframe. The index axis is the default axis taken by this method.\n",
    "\n",
    "| **Syntax:** | `DataFrame.max(axis=None, skipna=None, level=None, numeric_only=None, **kwargs)`  |\n",
    "| --- | --- |\n",
    "| **Parameters :** | |\n",
    "| **axis :** | { index (0), columns (1) }  |\n",
    "| **skipna :** | Exclude NA/null values when computing the result  |\n",
    "| **level :** | If the axis is a MultiIndex (hierarchical), count along a particular level, collapsing into a Series  |\n",
    "| **numeric_only :** | Include only float, int, boolean columns. If None, will attempt to use everything, then use only numeric data. Not implemented for Series. |\n",
    "| **Returns :** | max : Series or DataFrame (if level specified) |\n",
    "\n",
    "\n",
    "Let’s take an example of how to use this function. Let’s suppose we have a Dataframe "
   ]
  },
  {
   "cell_type": "code",
   "execution_count": 38,
   "id": "232266d3",
   "metadata": {},
   "outputs": [
    {
     "data": {
      "text/html": [
       "<div>\n",
       "<style scoped>\n",
       "    .dataframe tbody tr th:only-of-type {\n",
       "        vertical-align: middle;\n",
       "    }\n",
       "\n",
       "    .dataframe tbody tr th {\n",
       "        vertical-align: top;\n",
       "    }\n",
       "\n",
       "    .dataframe thead th {\n",
       "        text-align: right;\n",
       "    }\n",
       "</style>\n",
       "<table border=\"1\" class=\"dataframe\">\n",
       "  <thead>\n",
       "    <tr style=\"text-align: right;\">\n",
       "      <th></th>\n",
       "      <th>x</th>\n",
       "      <th>y</th>\n",
       "      <th>z</th>\n",
       "    </tr>\n",
       "  </thead>\n",
       "  <tbody>\n",
       "    <tr>\n",
       "      <th>a</th>\n",
       "      <td>10.0</td>\n",
       "      <td>56.0</td>\n",
       "      <td>17</td>\n",
       "    </tr>\n",
       "    <tr>\n",
       "      <th>b</th>\n",
       "      <td>NaN</td>\n",
       "      <td>23.0</td>\n",
       "      <td>11</td>\n",
       "    </tr>\n",
       "    <tr>\n",
       "      <th>c</th>\n",
       "      <td>49.0</td>\n",
       "      <td>36.0</td>\n",
       "      <td>55</td>\n",
       "    </tr>\n",
       "    <tr>\n",
       "      <th>d</th>\n",
       "      <td>75.0</td>\n",
       "      <td>NaN</td>\n",
       "      <td>34</td>\n",
       "    </tr>\n",
       "    <tr>\n",
       "      <th>e</th>\n",
       "      <td>89.0</td>\n",
       "      <td>21.0</td>\n",
       "      <td>44</td>\n",
       "    </tr>\n",
       "  </tbody>\n",
       "</table>\n",
       "</div>"
      ],
      "text/plain": [
       "      x     y   z\n",
       "a  10.0  56.0  17\n",
       "b   NaN  23.0  11\n",
       "c  49.0  36.0  55\n",
       "d  75.0   NaN  34\n",
       "e  89.0  21.0  44"
      ]
     },
     "execution_count": 38,
     "metadata": {},
     "output_type": "execute_result"
    }
   ],
   "source": [
    "import numpy as np\n",
    "import pandas as pd\n",
    "\n",
    "# List of Tuples\n",
    "matrix = [(10, 56, 17),\n",
    "          (np.NaN, 23, 11),\n",
    "          (49, 36, 55),\n",
    "          (75, np.NaN, 34),\n",
    "          (89, 21, 44)\n",
    "          ]\n",
    "\n",
    "# Create a DataFrame\n",
    "abc = pd.DataFrame(matrix, index = list('abcde'), columns = list('xyz'))\n",
    " \n",
    "# output\n",
    "abc"
   ]
  },
  {
   "cell_type": "markdown",
   "id": "1d3e3f60",
   "metadata": {},
   "source": [
    "### How to find Maximum values of every column?"
   ]
  },
  {
   "cell_type": "markdown",
   "id": "e41b8441",
   "metadata": {},
   "source": [
    "To find the maximum value of each column, call max() method on the Dataframe object without taking any argument. "
   ]
  },
  {
   "cell_type": "code",
   "execution_count": 39,
   "id": "88906d5e",
   "metadata": {},
   "outputs": [
    {
     "name": "stdout",
     "output_type": "stream",
     "text": [
      "x    89.0\n",
      "y    56.0\n",
      "z    55.0\n",
      "dtype: float64\n"
     ]
    }
   ],
   "source": [
    "# find the maximum of each column\n",
    "maxValues = abc.max()\n",
    " \n",
    "print(maxValues)"
   ]
  },
  {
   "cell_type": "markdown",
   "id": "085ec5b2",
   "metadata": {},
   "source": [
    "We can see that it returned a series of maximum values where the index is column name and values are the maxima from each column."
   ]
  },
  {
   "cell_type": "markdown",
   "id": "4c82f2b0",
   "metadata": {},
   "source": [
    "### How to find maximum values of every row? "
   ]
  },
  {
   "cell_type": "markdown",
   "id": "853e488c",
   "metadata": {},
   "source": [
    "To find the maximum value of each row, call max() method on the Dataframe object with an argument axis = 1.  "
   ]
  },
  {
   "cell_type": "code",
   "execution_count": 40,
   "id": "a81a1da5",
   "metadata": {},
   "outputs": [
    {
     "name": "stdout",
     "output_type": "stream",
     "text": [
      "a    56.0\n",
      "b    23.0\n",
      "c    55.0\n",
      "d    75.0\n",
      "e    89.0\n",
      "dtype: float64\n"
     ]
    }
   ],
   "source": [
    "# find the maximum values of each row\n",
    "maxValues = abc.max(axis = 1)\n",
    "print(maxValues)"
   ]
  },
  {
   "cell_type": "markdown",
   "id": "79844fa3",
   "metadata": {},
   "source": [
    "We can see that it returned a series of maximum values where the index is row name and values are the maxima from each row. We can see that in the above examples NaN values are skipped while finding the maximum values in any axis. We can include NaN values as well if we want.\n",
    "\n"
   ]
  },
  {
   "cell_type": "markdown",
   "id": "8e9d36b6",
   "metadata": {},
   "source": [
    "###  How to find maximum values of every column without skipping NaN?"
   ]
  },
  {
   "cell_type": "code",
   "execution_count": 41,
   "id": "9c3a4921",
   "metadata": {},
   "outputs": [
    {
     "name": "stdout",
     "output_type": "stream",
     "text": [
      "x     NaN\n",
      "y     NaN\n",
      "z    55.0\n",
      "dtype: float64\n"
     ]
    }
   ],
   "source": [
    "# find maximum value of each\n",
    "# column without skipping NaN\n",
    "maxValues = abc.max(skipna = False)\n",
    " \n",
    "print(maxValues)"
   ]
  },
  {
   "cell_type": "markdown",
   "id": "e41e0d57",
   "metadata": {},
   "source": [
    "By putting skipna=False we can include NaN values also. If any NaN value exists it will be considered as the maximum value."
   ]
  },
  {
   "cell_type": "markdown",
   "id": "643d0c7e",
   "metadata": {},
   "source": [
    "### How to find maximum values of a single column or selected columns?"
   ]
  },
  {
   "cell_type": "markdown",
   "id": "8a3aaf2e",
   "metadata": {},
   "source": [
    "To get the maximum value of a single column see the following example "
   ]
  },
  {
   "cell_type": "code",
   "execution_count": 42,
   "id": "5bec3d4b",
   "metadata": {},
   "outputs": [
    {
     "name": "stdout",
     "output_type": "stream",
     "text": [
      "Maximum value in column 'x': \n",
      "89.0\n"
     ]
    }
   ],
   "source": [
    "# find maximum value of a\n",
    "# single column 'x'\n",
    "maxClm = abc['x'].max()\n",
    " \n",
    "print(\"Maximum value in column 'x': \" )\n",
    "print(maxClm)"
   ]
  },
  {
   "cell_type": "markdown",
   "id": "99ad52ff",
   "metadata": {},
   "source": [
    "We have another way to find maximum value of a column : "
   ]
  },
  {
   "cell_type": "code",
   "execution_count": 43,
   "id": "d1685e7d",
   "metadata": {},
   "outputs": [
    {
     "data": {
      "text/plain": [
       "89.0"
      ]
     },
     "execution_count": 43,
     "metadata": {},
     "output_type": "execute_result"
    }
   ],
   "source": [
    "# find maximum value of a\n",
    "# single column 'x'\n",
    "maxClm = abc.max()['x']\n",
    "maxClm"
   ]
  },
  {
   "cell_type": "markdown",
   "id": "fe8e3ccc",
   "metadata": {},
   "source": [
    "The result will be same as above. "
   ]
  },
  {
   "cell_type": "markdown",
   "id": "062fbdc4",
   "metadata": {},
   "source": [
    "A list of columns can also be passed instead of a single column to find the maximum values of specified columns "
   ]
  },
  {
   "cell_type": "code",
   "execution_count": 44,
   "id": "6214dc0e",
   "metadata": {},
   "outputs": [
    {
     "name": "stdout",
     "output_type": "stream",
     "text": [
      "Maximum value in column 'x' & 'z': \n",
      "x    89.0\n",
      "z    55.0\n",
      "dtype: float64\n"
     ]
    }
   ],
   "source": [
    "maxValues = abc[['x', 'z']].max()\n",
    " \n",
    "print(\"Maximum value in column 'x' & 'z': \")\n",
    "print(maxValues)"
   ]
  },
  {
   "cell_type": "markdown",
   "id": "471d7394",
   "metadata": {},
   "source": [
    "### How to get position of maximum values of every column?"
   ]
  },
  {
   "cell_type": "markdown",
   "id": "2d46b1c8",
   "metadata": {},
   "source": [
    "**DataFrame.idxmax()**: Pandas **dataframe.idxmax()** method returns index of first occurrence of maximum over requested axis. While finding the index of the maximum value across any index, all NA/null values are excluded. \n",
    "\n",
    "| Syntax | DataFrame.idxmax(axis=0, skipna=True) |\n",
    "| --- | --- |\n",
    "| **Parameters :** |  |\n",
    "| **axis :** | **0** or `‘index’` for **row-wise**, **1** or `‘columns’` for **column-wise**  |\n",
    "| **skipna :** | Exclude NA/null values. If an entire row/column is NA, the result will be NA |\n",
    "| **Returns :** | idxmax : Series |\n",
    " \n",
    "\n",
    "Let’s take some examples to understand how to use it :"
   ]
  },
  {
   "cell_type": "markdown",
   "id": "61adac5a",
   "metadata": {},
   "source": [
    "### How to get row index label of Maximum value in every column "
   ]
  },
  {
   "cell_type": "code",
   "execution_count": 45,
   "id": "755a7304",
   "metadata": {},
   "outputs": [
    {
     "name": "stdout",
     "output_type": "stream",
     "text": [
      "Maximum values of columns are at row index position :\n",
      "x    e\n",
      "y    a\n",
      "z    c\n",
      "dtype: object\n"
     ]
    }
   ],
   "source": [
    "# find the index position of maximum\n",
    "# values in every column\n",
    "maxValueIndex = abc.idxmax()\n",
    " \n",
    "print(\"Maximum values of columns are at row index position :\")\n",
    "print(maxValueIndex)"
   ]
  },
  {
   "cell_type": "markdown",
   "id": "93216072",
   "metadata": {},
   "source": [
    "It returns a series containing the column names as index and row as index labels where the maximum value exists in that column."
   ]
  },
  {
   "cell_type": "markdown",
   "id": "0759be17",
   "metadata": {},
   "source": [
    "### How to find Column names of Maximum value in every row?"
   ]
  },
  {
   "cell_type": "code",
   "execution_count": 46,
   "id": "76eceb3c",
   "metadata": {},
   "outputs": [
    {
     "name": "stdout",
     "output_type": "stream",
     "text": [
      "Max values of row are at following columns :\n",
      "a    y\n",
      "b    y\n",
      "c    z\n",
      "d    x\n",
      "e    x\n",
      "dtype: object\n"
     ]
    }
   ],
   "source": [
    "# find the column name of maximum\n",
    "# values in every row\n",
    "maxValueIndex = abc.idxmax(axis = 1)\n",
    " \n",
    "print(\"Max values of row are at following columns :\")\n",
    "print(maxValueIndex)"
   ]
  },
  {
   "cell_type": "markdown",
   "id": "7a95ce48",
   "metadata": {},
   "source": [
    "It returns a series containing the rows index labels as index and column names as values where the maximum value exists in that row."
   ]
  },
  {
   "cell_type": "markdown",
   "id": "c6b494af",
   "metadata": {},
   "source": [
    "<a id='section9'></a>\n",
    "## 9. [Python | Pandas dataframe.max()](https://www.geeksforgeeks.org/python-pandas-dataframe-max/?ref=lbp)"
   ]
  },
  {
   "cell_type": "markdown",
   "id": "8691d223",
   "metadata": {},
   "source": [
    "Python is a great language for doing data analysis, primarily because of the fantastic ecosystem of data-centric python packages. _**Pandas**_ is one of those packages and makes importing and analyzing data much easier.\n",
    "\n",
    "Pandas **dataframe.max()** function returns the maximum of the values in the given object. If the input is a series, the method will return a scalar which will be the maximum of the values in the series. If the input is a dataframe, then the method will return a series with maximum of values over the specified axis in the dataframe. By default the axis is the index axis."
   ]
  },
  {
   "cell_type": "markdown",
   "id": "caa1eb8f",
   "metadata": {},
   "source": [
    "\n",
    "| **Syntax:** | `DataFrame.max(axis=None, skipna=None, level=None, numeric_only=None, **kwargs)`  |\n",
    "| --- | --- |\n",
    "| **Parameters :** | |\n",
    "| **axis :** | { index (0), columns (1) }  |\n",
    "| **skipna :** | Exclude NA/null values when computing the result  |\n",
    "| **level :** | If the axis is a MultiIndex (hierarchical), count along a particular level, collapsing into a Series  |\n",
    "| **numeric_only :** | Include only float, int, boolean columns. If None, will attempt to use everything, then use only numeric data. Not implemented for Series. |\n",
    "| **Returns :** | max : Series or DataFrame (if level specified) |\n"
   ]
  },
  {
   "cell_type": "markdown",
   "id": "13dcbdf0",
   "metadata": {},
   "source": [
    "**Example #1:** Use `max()` function to find the maximum value over the index axis."
   ]
  },
  {
   "cell_type": "code",
   "execution_count": 51,
   "id": "029532e8",
   "metadata": {},
   "outputs": [
    {
     "data": {
      "text/html": [
       "<div>\n",
       "<style scoped>\n",
       "    .dataframe tbody tr th:only-of-type {\n",
       "        vertical-align: middle;\n",
       "    }\n",
       "\n",
       "    .dataframe tbody tr th {\n",
       "        vertical-align: top;\n",
       "    }\n",
       "\n",
       "    .dataframe thead th {\n",
       "        text-align: right;\n",
       "    }\n",
       "</style>\n",
       "<table border=\"1\" class=\"dataframe\">\n",
       "  <thead>\n",
       "    <tr style=\"text-align: right;\">\n",
       "      <th></th>\n",
       "      <th>A</th>\n",
       "      <th>B</th>\n",
       "      <th>C</th>\n",
       "      <th>D</th>\n",
       "    </tr>\n",
       "  </thead>\n",
       "  <tbody>\n",
       "    <tr>\n",
       "      <th>0</th>\n",
       "      <td>12</td>\n",
       "      <td>5</td>\n",
       "      <td>20</td>\n",
       "      <td>14</td>\n",
       "    </tr>\n",
       "    <tr>\n",
       "      <th>1</th>\n",
       "      <td>4</td>\n",
       "      <td>2</td>\n",
       "      <td>16</td>\n",
       "      <td>3</td>\n",
       "    </tr>\n",
       "    <tr>\n",
       "      <th>2</th>\n",
       "      <td>5</td>\n",
       "      <td>54</td>\n",
       "      <td>7</td>\n",
       "      <td>17</td>\n",
       "    </tr>\n",
       "    <tr>\n",
       "      <th>3</th>\n",
       "      <td>44</td>\n",
       "      <td>3</td>\n",
       "      <td>3</td>\n",
       "      <td>2</td>\n",
       "    </tr>\n",
       "    <tr>\n",
       "      <th>4</th>\n",
       "      <td>1</td>\n",
       "      <td>2</td>\n",
       "      <td>8</td>\n",
       "      <td>6</td>\n",
       "    </tr>\n",
       "  </tbody>\n",
       "</table>\n",
       "</div>"
      ],
      "text/plain": [
       "    A   B   C   D\n",
       "0  12   5  20  14\n",
       "1   4   2  16   3\n",
       "2   5  54   7  17\n",
       "3  44   3   3   2\n",
       "4   1   2   8   6"
      ]
     },
     "execution_count": 51,
     "metadata": {},
     "output_type": "execute_result"
    }
   ],
   "source": [
    "# importing pandas as pd\n",
    "import pandas as pd\n",
    "  \n",
    "# Creating the dataframe \n",
    "df = pd.DataFrame({\"A\":[12, 4, 5, 44, 1],\n",
    "                   \"B\":[5, 2, 54, 3, 2],\n",
    "                   \"C\":[20, 16, 7, 3, 8], \n",
    "                   \"D\":[14, 3, 17, 2, 6]})\n",
    "  \n",
    "# Print the dataframe\n",
    "df"
   ]
  },
  {
   "cell_type": "markdown",
   "id": "40434960",
   "metadata": {},
   "source": [
    "Let’s use the `dataframe.max()` function to find the maximum value over the index axis"
   ]
  },
  {
   "cell_type": "code",
   "execution_count": 52,
   "id": "0b59c5fa",
   "metadata": {},
   "outputs": [
    {
     "data": {
      "text/plain": [
       "A    44\n",
       "B    54\n",
       "C    20\n",
       "D    17\n",
       "dtype: int64"
      ]
     },
     "execution_count": 52,
     "metadata": {},
     "output_type": "execute_result"
    }
   ],
   "source": [
    "# Even if we do not specify axis = 0, \n",
    "# the method will return the max over\n",
    "# the index axis by default\n",
    "df.max(axis = 0)"
   ]
  },
  {
   "cell_type": "markdown",
   "id": "57f75674",
   "metadata": {},
   "source": [
    "**Example #2:** Use `max()` function on a dataframe which has Na values. Also find the maximum over the column axis."
   ]
  },
  {
   "cell_type": "code",
   "execution_count": 53,
   "id": "f4b9acff",
   "metadata": {},
   "outputs": [
    {
     "data": {
      "text/plain": [
       "0    20.0\n",
       "1    16.0\n",
       "2    54.0\n",
       "3     3.0\n",
       "4     8.0\n",
       "dtype: float64"
      ]
     },
     "execution_count": 53,
     "metadata": {},
     "output_type": "execute_result"
    }
   ],
   "source": [
    "# importing pandas as pd\n",
    "import pandas as pd\n",
    "  \n",
    "# Creating the dataframe \n",
    "df = pd.DataFrame({\"A\":[12, 4, 5, None, 1], \n",
    "                   \"B\":[7, 2, 54, 3, None],\n",
    "                   \"C\":[20, 16, 11, 3, 8],\n",
    "                   \"D\":[14, 3, None, 2, 6]})\n",
    "  \n",
    "# skip the Na values while finding the maximum\n",
    "df.max(axis = 1, skipna = True)"
   ]
  },
  {
   "cell_type": "markdown",
   "id": "c88b35b2",
   "metadata": {},
   "source": [
    "<a id='section10'></a>\n",
    "## 10. [Python | Pandas dataframe.idxmax()](https://www.geeksforgeeks.org/python-pandas-dataframe-idxmax/?ref=lbp)"
   ]
  },
  {
   "cell_type": "markdown",
   "id": "7a949a8d",
   "metadata": {},
   "source": [
    "Python is a great language for doing data analysis, primarily because of the fantastic ecosystem of data-centric python packages. _**Pandas**_ is one of those packages and makes importing and analyzing data much easier.\n",
    "\n",
    "Pandas **dataframe.idxmax()** function returns index of first occurrence of maximum over requested axis. While finding the index of the maximum value across any index, all NA/null values are excluded."
   ]
  },
  {
   "cell_type": "markdown",
   "id": "36a5df1f",
   "metadata": {},
   "source": [
    "\n",
    "| **Syntax:** | `DataFrame.idmax(axis=0, skipna=True)`  |\n",
    "| --- | --- |\n",
    "| **Parameters :** | |\n",
    "| **axis :** | 0 or ‘index’ for row-wise, 1 or ‘columns’ for column-wise  |\n",
    "| **skipna :** | Exclude NA/null values. If an entire row/column is NA, the result will be NA |\n",
    "| **Returns :** | idxmax : Series |\n"
   ]
  },
  {
   "cell_type": "markdown",
   "id": "aef7e2c5",
   "metadata": {},
   "source": [
    "**Example #1:** Use idxmax() function to function to find the index of the maximum value along the index axis."
   ]
  },
  {
   "cell_type": "code",
   "execution_count": 54,
   "id": "ee388b54",
   "metadata": {},
   "outputs": [
    {
     "data": {
      "text/html": [
       "<div>\n",
       "<style scoped>\n",
       "    .dataframe tbody tr th:only-of-type {\n",
       "        vertical-align: middle;\n",
       "    }\n",
       "\n",
       "    .dataframe tbody tr th {\n",
       "        vertical-align: top;\n",
       "    }\n",
       "\n",
       "    .dataframe thead th {\n",
       "        text-align: right;\n",
       "    }\n",
       "</style>\n",
       "<table border=\"1\" class=\"dataframe\">\n",
       "  <thead>\n",
       "    <tr style=\"text-align: right;\">\n",
       "      <th></th>\n",
       "      <th>A</th>\n",
       "      <th>B</th>\n",
       "      <th>C</th>\n",
       "    </tr>\n",
       "  </thead>\n",
       "  <tbody>\n",
       "    <tr>\n",
       "      <th>0</th>\n",
       "      <td>4</td>\n",
       "      <td>11</td>\n",
       "      <td>1</td>\n",
       "    </tr>\n",
       "    <tr>\n",
       "      <th>1</th>\n",
       "      <td>5</td>\n",
       "      <td>2</td>\n",
       "      <td>8</td>\n",
       "    </tr>\n",
       "    <tr>\n",
       "      <th>2</th>\n",
       "      <td>2</td>\n",
       "      <td>5</td>\n",
       "      <td>66</td>\n",
       "    </tr>\n",
       "    <tr>\n",
       "      <th>3</th>\n",
       "      <td>6</td>\n",
       "      <td>8</td>\n",
       "      <td>4</td>\n",
       "    </tr>\n",
       "  </tbody>\n",
       "</table>\n",
       "</div>"
      ],
      "text/plain": [
       "   A   B   C\n",
       "0  4  11   1\n",
       "1  5   2   8\n",
       "2  2   5  66\n",
       "3  6   8   4"
      ]
     },
     "execution_count": 54,
     "metadata": {},
     "output_type": "execute_result"
    }
   ],
   "source": [
    "# importing pandas as pd\n",
    "import pandas as pd\n",
    "  \n",
    "# Creating the dataframe \n",
    "df = pd.DataFrame({\"A\":[4, 5, 2, 6], \n",
    "                   \"B\":[11, 2, 5, 8],\n",
    "                   \"C\":[1, 8, 66, 4]})\n",
    "  \n",
    "# Print the dataframe\n",
    "df"
   ]
  },
  {
   "cell_type": "markdown",
   "id": "26b736fc",
   "metadata": {},
   "source": [
    "Now apply the `idxmax()` function along the index axis."
   ]
  },
  {
   "cell_type": "code",
   "execution_count": 55,
   "id": "aa754a0e",
   "metadata": {},
   "outputs": [
    {
     "data": {
      "text/plain": [
       "A    3\n",
       "B    0\n",
       "C    2\n",
       "dtype: int64"
      ]
     },
     "execution_count": 55,
     "metadata": {},
     "output_type": "execute_result"
    }
   ],
   "source": [
    "# applying idxmax() function.\n",
    "df.idxmax(axis = 0)"
   ]
  },
  {
   "cell_type": "markdown",
   "id": "e662920e",
   "metadata": {},
   "source": [
    "If we look at the values in the dataframe, we can verify the result returned by the function. The function returned a pandas series object containing the index of maximum value in each column.\n",
    " \n",
    "\n",
    "**Example #2:** Use `idxmax()` function to find the index of the maximum value along the column axis. The dataframe contains NA values."
   ]
  },
  {
   "cell_type": "code",
   "execution_count": 56,
   "id": "7c47f895",
   "metadata": {},
   "outputs": [
    {
     "data": {
      "text/plain": [
       "0    B\n",
       "1    C\n",
       "2    C\n",
       "3    B\n",
       "dtype: object"
      ]
     },
     "execution_count": 56,
     "metadata": {},
     "output_type": "execute_result"
    }
   ],
   "source": [
    "# importing pandas as pd\n",
    "import pandas as pd\n",
    "  \n",
    "# Creating the dataframe \n",
    "df = pd.DataFrame({\"A\":[4, 5, 2, None],\n",
    "                   \"B\":[11, 2, None, 8], \n",
    "                   \"C\":[1, 8, 66, 4]})\n",
    "  \n",
    "# Skipna = True will skip all the Na values\n",
    "# find maximum along column axis\n",
    "df.idxmax(axis = 1, skipna = True)"
   ]
  },
  {
   "cell_type": "markdown",
   "id": "c9e4a861",
   "metadata": {},
   "source": [
    "The output is a pandas series containing the column label for each row which has the maximum value."
   ]
  },
  {
   "cell_type": "markdown",
   "id": "58d1fe38",
   "metadata": {},
   "source": [
    "<a id='section11'></a>\n",
    "## 11. [Get the index of maximum value in DataFrame column](https://www.geeksforgeeks.org/get-the-index-of-maximum-value-in-dataframe-column/?ref=lbp)"
   ]
  },
  {
   "cell_type": "markdown",
   "id": "6dbbe7e3",
   "metadata": {},
   "source": [
    "<a id='section12'></a>\n",
    "## 12. [How to get rows/index names in Pandas dataframe](https://www.geeksforgeeks.org/how-to-get-rows-index-names-in-pandas-dataframe/?ref=lbp)"
   ]
  },
  {
   "cell_type": "markdown",
   "id": "99c35945",
   "metadata": {},
   "source": [
    "<a id='section13'></a>\n",
    "## 13. [Decimal Functions in Python | Set 2 (logical_and(), normalize(), quantize(), rotate() … )](https://www.geeksforgeeks.org/decimal-functions-in-python-set-2-logical_and-normalize-quantize-rotate/?ref=lbp)"
   ]
  },
  {
   "cell_type": "markdown",
   "id": "30c9618d",
   "metadata": {},
   "source": [
    "<a id='section14'></a>\n",
    "## 14. [NetworkX : Python software package for study of complex networks](https://www.geeksforgeeks.org/networkx-python-software-package-study-complex-networks/?ref=lbp)"
   ]
  },
  {
   "cell_type": "markdown",
   "id": "f264aade",
   "metadata": {},
   "source": [
    "<a id='section15'></a>\n",
    "## 15. [Directed Graphs, Multigraphs and Visualization in Networkx](https://www.geeksforgeeks.org/directed-graphs-multigraphs-and-visualization-in-networkx/?ref=lbp)"
   ]
  },
  {
   "cell_type": "markdown",
   "id": "2cb159a7",
   "metadata": {},
   "source": [
    "<a id='section16'></a>\n",
    "## 16. [Python | Visualize graphs generated in NetworkX using Matplotlib](https://www.geeksforgeeks.org/python-visualize-graphs-generated-in-networkx-using-matplotlib/?ref=lbp)"
   ]
  },
  {
   "cell_type": "markdown",
   "id": "51ebde1b",
   "metadata": {},
   "source": [
    "<a id='section17'></a>\n",
    "## 17. [Visualize Graphs in Python](https://www.geeksforgeeks.org/visualize-graphs-in-python/?ref=lbp)"
   ]
  },
  {
   "cell_type": "markdown",
   "id": "a715514f",
   "metadata": {},
   "source": [
    "<a id='section18'></a>\n",
    "## 18. [Graph Plotting in Python | Set 1](https://www.geeksforgeeks.org/graph-plotting-in-python-set-1/?ref=lbp)"
   ]
  },
  {
   "cell_type": "markdown",
   "id": "9e0c306d",
   "metadata": {},
   "source": [
    "<a id='section19'></a>\n",
    "## 19. [Graph Plotting in Python | Set 2](https://www.geeksforgeeks.org/graph-plotting-python-set-2/?ref=lbp)"
   ]
  },
  {
   "cell_type": "markdown",
   "id": "28d425f1",
   "metadata": {},
   "source": [
    "<a id='section20'></a>\n",
    "## 20. [Graph Plotting in Python | Set 3](https://www.geeksforgeeks.org/graph-plotting-python-set-3/?ref=lbp)"
   ]
  },
  {
   "cell_type": "markdown",
   "id": "a1b41ac9",
   "metadata": {},
   "source": [
    "<a id='section21'></a>\n",
    "## 21. [Plotting graph using Seaborn | Python](https://www.geeksforgeeks.org/plotting-graph-using-seaborn-python/?ref=lbp)"
   ]
  },
  {
   "cell_type": "markdown",
   "id": "cb33761f",
   "metadata": {},
   "source": [
    "<a id='section22'></a>\n",
    "## 22. [Box plot visualization with Pandas and Seaborn](https://www.geeksforgeeks.org/box-plot-visualization-with-pandas-and-seaborn/?ref=lbp)"
   ]
  },
  {
   "cell_type": "markdown",
   "id": "7e8143c8",
   "metadata": {},
   "source": [
    "<a id='section23'></a>\n",
    "## 23. [Box Plot in Python using Matplotlib](https://www.geeksforgeeks.org/box-plot-in-python-using-matplotlib/?ref=lbp)"
   ]
  },
  {
   "cell_type": "markdown",
   "id": "b9cad81b",
   "metadata": {},
   "source": [
    "<a id='section24'></a>\n",
    "## 24. [How to get column names in Pandas dataframe](https://www.geeksforgeeks.org/how-to-get-column-names-in-pandas-dataframe/?ref=lbp)"
   ]
  },
  {
   "cell_type": "markdown",
   "id": "35dfac52",
   "metadata": {},
   "source": [
    "<a id='section25'></a>\n",
    "## 25. [Python | Pandas dataframe.groupby()](https://www.geeksforgeeks.org/python-pandas-dataframe-groupby/?ref=lbp)"
   ]
  },
  {
   "cell_type": "markdown",
   "id": "bd5a68b0",
   "metadata": {},
   "source": [
    "<a id='section26'></a>\n",
    "## 26. [Adding new column to existing DataFrame in Pandas](https://www.geeksforgeeks.org/adding-new-column-to-existing-dataframe-in-pandas/?ref=leftbar-rightbar)"
   ]
  },
  {
   "cell_type": "markdown",
   "id": "4470bbcd",
   "metadata": {},
   "source": [
    "<a id='section27'></a>\n",
    "## 27. [Python map() function](https://www.geeksforgeeks.org/python-map-function/?ref=leftbar-rightbar)"
   ]
  },
  {
   "cell_type": "markdown",
   "id": "76524814",
   "metadata": {},
   "source": [
    "<a id='section28'></a>\n",
    "## 28. [Taking input in Python](https://www.geeksforgeeks.org/taking-input-in-python/?ref=leftbar-rightbar)"
   ]
  },
  {
   "cell_type": "markdown",
   "id": "010533cb",
   "metadata": {},
   "source": [
    "<a id='section29'></a>\n",
    "## 29. [Iterate over a list in Python](https://www.geeksforgeeks.org/iterate-over-a-list-in-python/?ref=leftbar-rightbar)"
   ]
  },
  {
   "cell_type": "markdown",
   "id": "8549dd6c",
   "metadata": {},
   "source": [
    "<a id='section30'></a>\n",
    "## 30. [Python program to convert a list to string](https://www.geeksforgeeks.org/python-program-to-convert-a-list-to-string/?ref=leftbar-rightbar)"
   ]
  }
 ],
 "metadata": {
  "kernelspec": {
   "display_name": "Python 3",
   "language": "python",
   "name": "python3"
  },
  "language_info": {
   "codemirror_mode": {
    "name": "ipython",
    "version": 3
   },
   "file_extension": ".py",
   "mimetype": "text/x-python",
   "name": "python",
   "nbconvert_exporter": "python",
   "pygments_lexer": "ipython3",
   "version": "3.8.8"
  }
 },
 "nbformat": 4,
 "nbformat_minor": 5
}
