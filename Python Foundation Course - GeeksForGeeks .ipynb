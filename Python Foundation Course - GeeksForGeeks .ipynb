{
 "cells": [
  {
   "cell_type": "markdown",
   "id": "712b21aa",
   "metadata": {},
   "source": [
    "# [Python Programming Foundation Course](https://practice.geeksforgeeks.org/courses/Python-Foundation?utm_source=geeksforgeeks&utm_medium=article&utm_campaign=GFG_Article_Bottom_Python_Foundation)\n",
    "\n",
    "by GeeksForGeeks \n",
    "\n",
    "\n",
    "<a id='toc'></a>\n",
    "## Table of Contents\n",
    "\n",
    "<a id='toc1'></a>\n",
    "1. [Pandas GroupBy](#section1)\n",
    "1. [Combining multiple columns in Pandas groupby with dictionary](#section2)\n",
    "1. [How to combine Groupby and Multiple Aggregate Functions in Pandas?](#section3)\n",
    "1. [Pandas – Groupby multiple values and plotting results](#section4)\n",
    "1. [Pandas – GroupBy One Column and Get Mean, Min, and Max values](#section5)\n",
    "1. [Select row with maximum and minimum value in Pandas dataframe](#section6)\n",
    "1. [Find maximum values & position in columns and rows of a Dataframe in Pandas](#section7)\n",
    "1. [Python | Pandas dataframe.max()](#section8)\n",
    "1. [Python | Pandas dataframe.idxmax()](#section9)\n",
    "1. [Get the index of maximum value in DataFrame column](#section10)\n",
    "1. [How to get rows/index names in Pandas dataframe](#section11)\n",
    "1. [Decimal Functions in Python | Set 2 (logical_and(), normalize(), quantize(), rotate() … )](#section12)\n",
    "1. [NetworkX : Python software package for study of complex networks](#section13)\n",
    "1. [Directed Graphs, Multigraphs and Visualization in Networkx](#section14)\n",
    "1. [Python | Visualize graphs generated in NetworkX using Matplotlib](#section15)\n",
    "1. [Visualize Graphs in Python](#section16)\n",
    "1. [Graph Plotting in Python | Set 1](#section17)\n",
    "1. [Graph Plotting in Python | Set 2](#section18)\n",
    "1. [Graph Plotting in Python | Set 3](#section19)\n",
    "1. [Plotting graph using Seaborn | Python](#section20)\n",
    "1. [Box plot visualization with Pandas and Seaborn](#section21)\n",
    "1. [Box Plot in Python using Matplotlib](#section22)\n",
    "1. [How to get column names in Pandas dataframe](#section23)\n",
    "1. [Python | Pandas dataframe.groupby()](#section24)\n",
    "1. [Adding new column to existing DataFrame in Pandas](#section25)\n",
    "1. [Python map() function](#section26)\n",
    "1. [Taking input in Python](#section27)\n",
    "1. [Iterate over a list in Python](#section28)\n",
    "1. [Python program to convert a list to string](#section29)\n"
   ]
  },
  {
   "cell_type": "markdown",
   "id": "60373a76",
   "metadata": {},
   "source": [
    "<a id='section1'></a>\n",
    "## 1. [Pandas GroupBy](https://www.geeksforgeeks.org/pandas-groupby/?ref=lbp)"
   ]
  },
  {
   "cell_type": "markdown",
   "id": "8cb63ddd",
   "metadata": {},
   "source": [
    "Groupby is a pretty simple concept. We can create a grouping of categories and apply a function to the categories. It’s a simple concept but it’s an extremely valuable technique that’s widely used in data science. In real data science projects, you’ll be dealing with large amounts of data and trying things over and over, so for efficiency, we use Groupby concept. Groupby concept is really important because it’s ability to aggregate data efficiently, both in performance and the amount code is magnificent. Groupby mainly refers to a process involving one or more of the following steps they are:\n",
    "\n",
    "* Splitting : It is a process in which we split data into group by applying some conditions on datasets.\n",
    "* Applying : It is a process in which we apply a function to each group independently\n",
    "* Combining : It is a process in which we combine different datasets after applying groupby and results into a data structure"
   ]
  },
  {
   "cell_type": "markdown",
   "id": "4e40b28a",
   "metadata": {},
   "source": [
    "The following image will help in understanding a process involve in Groupby concept.\n",
    "1. Group the unique values from the Team column <img src=\"https://media.geeksforgeeks.org/wp-content/uploads/groupby1.png\" alt=\"\" width=\"1000\" height=\"484\" class=\"alignnone size-full wp-image-873011\">\n",
    "1. Now there’s a bucket for each group <img src=\"https://media.geeksforgeeks.org/wp-content/uploads/groupby3.png\" alt=\"\" width=\"1000\" height=\"717\" class=\"alignnone size-full wp-image-873014\">\n",
    "1. Toss the other data into the buckets <img src=\"https://media.geeksforgeeks.org/wp-content/uploads/groupby2.png\" alt=\"\" width=\"1000\" height=\"458\" class=\"alignnone size-full wp-image-873013\">\n",
    "1.  Apply a function on the weight column of each bucket. <img src=\"https://media.geeksforgeeks.org/wp-content/uploads/groupby4.png\" alt=\"\" width=\"1000\" height=\"779\" class=\"alignnone size-full wp-image-873021\">"
   ]
  },
  {
   "cell_type": "markdown",
   "id": "07b8e609",
   "metadata": {},
   "source": [
    "### Splitting Data into Groups"
   ]
  },
  {
   "cell_type": "markdown",
   "id": "8ba8d6dc",
   "metadata": {},
   "source": [
    "Splitting is a process in which we split data into a group by applying some conditions on datasets. In order to split the data, we apply certain conditions on datasets. In order to split the data, we use `groupby()` function this function is used to split the data into groups based on some criteria. Pandas objects can be split on any of their axes. The abstract definition of grouping is to provide a mapping of labels to group names. Pandas datasets can be split into any of their objects. There are multiple ways to split data like:\n",
    "\n",
    "* `obj.groupby(key)`\n",
    "* `obj.groupby(key, axis=1)`\n",
    "* `obj.groupby([key1, key2])`\n",
    "\n",
    "**Note :** In this we refer to the grouping objects as the keys."
   ]
  },
  {
   "cell_type": "markdown",
   "id": "e83b8337",
   "metadata": {},
   "source": [
    "### Grouping data with one key:\n"
   ]
  },
  {
   "cell_type": "markdown",
   "id": "0d0ebe0f",
   "metadata": {},
   "source": [
    "In order to group data with one key, we pass only one key as an argument in groupby function."
   ]
  },
  {
   "cell_type": "code",
   "execution_count": 12,
   "id": "a2368421",
   "metadata": {},
   "outputs": [
    {
     "name": "stdout",
     "output_type": "stream",
     "text": [
      "     Name  Age    Address Qualification\n",
      "0     Jai   27     Nagpur           Msc\n",
      "1    Anuj   24     Kanpur            MA\n",
      "2     Jai   22  Allahabad           MCA\n",
      "3  Princi   32    Kannuaj           Phd\n",
      "4  Gaurav   33    Jaunpur        B.Tech\n",
      "5    Anuj   36     Kanpur         B.com\n",
      "6  Princi   27  Allahabad           Msc\n",
      "7    Abhi   32    Aligarh            MA\n"
     ]
    }
   ],
   "source": [
    "# importing pandas module\n",
    "import pandas as pd \n",
    "   \n",
    "# Define a dictionary containing employee data \n",
    "data1 = {'Name':['Jai', 'Anuj', 'Jai', 'Princi', \n",
    "                 'Gaurav', 'Anuj', 'Princi', 'Abhi'], \n",
    "        'Age':[27, 24, 22, 32, \n",
    "               33, 36, 27, 32], \n",
    "        'Address':['Nagpur', 'Kanpur', 'Allahabad', 'Kannuaj',\n",
    "                   'Jaunpur', 'Kanpur', 'Allahabad', 'Aligarh'], \n",
    "        'Qualification':['Msc', 'MA', 'MCA', 'Phd',\n",
    "                         'B.Tech', 'B.com', 'Msc', 'MA']} \n",
    "     \n",
    "   \n",
    "# Convert the dictionary into DataFrame  \n",
    "df = pd.DataFrame(data1)\n",
    "   \n",
    "print(df) "
   ]
  },
  {
   "cell_type": "markdown",
   "id": "aec29676",
   "metadata": {},
   "source": [
    "Now we group a data of `Name` using `groupby()` function."
   ]
  },
  {
   "cell_type": "code",
   "execution_count": 15,
   "id": "04ecdeb4",
   "metadata": {},
   "outputs": [
    {
     "name": "stdout",
     "output_type": "stream",
     "text": [
      "{'Abhi': [7], 'Anuj': [1, 5], 'Gaurav': [4], 'Jai': [0, 2], 'Princi': [3, 6]}\n"
     ]
    }
   ],
   "source": [
    "# using groupby function\n",
    "# with one key\n",
    "  \n",
    "df.groupby('Name')\n",
    "print(df.groupby('Name').groups)"
   ]
  },
  {
   "cell_type": "markdown",
   "id": "bc3ec355",
   "metadata": {},
   "source": [
    "**Output :**\n",
    "\n",
    "<img src=\"https://media.geeksforgeeks.org/wp-content/uploads/ser23.jpg\" alt=\"\" width=\"982\" height=\"41\" class=\"alignnone size-full wp-image-840328\">"
   ]
  },
  {
   "cell_type": "markdown",
   "id": "cad69c20",
   "metadata": {},
   "source": [
    "Now we print the first entries in all the groups formed."
   ]
  },
  {
   "cell_type": "code",
   "execution_count": 16,
   "id": "12f0c57e",
   "metadata": {},
   "outputs": [
    {
     "data": {
      "text/html": [
       "<div>\n",
       "<style scoped>\n",
       "    .dataframe tbody tr th:only-of-type {\n",
       "        vertical-align: middle;\n",
       "    }\n",
       "\n",
       "    .dataframe tbody tr th {\n",
       "        vertical-align: top;\n",
       "    }\n",
       "\n",
       "    .dataframe thead th {\n",
       "        text-align: right;\n",
       "    }\n",
       "</style>\n",
       "<table border=\"1\" class=\"dataframe\">\n",
       "  <thead>\n",
       "    <tr style=\"text-align: right;\">\n",
       "      <th></th>\n",
       "      <th>Age</th>\n",
       "      <th>Address</th>\n",
       "      <th>Qualification</th>\n",
       "    </tr>\n",
       "    <tr>\n",
       "      <th>Name</th>\n",
       "      <th></th>\n",
       "      <th></th>\n",
       "      <th></th>\n",
       "    </tr>\n",
       "  </thead>\n",
       "  <tbody>\n",
       "    <tr>\n",
       "      <th>Abhi</th>\n",
       "      <td>32</td>\n",
       "      <td>Aligarh</td>\n",
       "      <td>MA</td>\n",
       "    </tr>\n",
       "    <tr>\n",
       "      <th>Anuj</th>\n",
       "      <td>24</td>\n",
       "      <td>Kanpur</td>\n",
       "      <td>MA</td>\n",
       "    </tr>\n",
       "    <tr>\n",
       "      <th>Gaurav</th>\n",
       "      <td>33</td>\n",
       "      <td>Jaunpur</td>\n",
       "      <td>B.Tech</td>\n",
       "    </tr>\n",
       "    <tr>\n",
       "      <th>Jai</th>\n",
       "      <td>27</td>\n",
       "      <td>Nagpur</td>\n",
       "      <td>Msc</td>\n",
       "    </tr>\n",
       "    <tr>\n",
       "      <th>Princi</th>\n",
       "      <td>32</td>\n",
       "      <td>Kannuaj</td>\n",
       "      <td>Phd</td>\n",
       "    </tr>\n",
       "  </tbody>\n",
       "</table>\n",
       "</div>"
      ],
      "text/plain": [
       "        Age  Address Qualification\n",
       "Name                              \n",
       "Abhi     32  Aligarh            MA\n",
       "Anuj     24   Kanpur            MA\n",
       "Gaurav   33  Jaunpur        B.Tech\n",
       "Jai      27   Nagpur           Msc\n",
       "Princi   32  Kannuaj           Phd"
      ]
     },
     "execution_count": 16,
     "metadata": {},
     "output_type": "execute_result"
    }
   ],
   "source": [
    "# applying groupby() function to \n",
    "# group the data on Name value. \n",
    "gk = df.groupby('Name') \n",
    "    \n",
    "# Let's print the first entries \n",
    "# in all the groups formed. \n",
    "gk.first() "
   ]
  },
  {
   "cell_type": "markdown",
   "id": "826eaf23",
   "metadata": {},
   "source": [
    "### Grouping data with multiple keys :"
   ]
  },
  {
   "cell_type": "markdown",
   "id": "90e93058",
   "metadata": {},
   "source": [
    "In order to group data with multiple keys, we pass multiple keys in `groupby` function."
   ]
  },
  {
   "cell_type": "code",
   "execution_count": 8,
   "id": "3f0da272",
   "metadata": {},
   "outputs": [
    {
     "name": "stdout",
     "output_type": "stream",
     "text": [
      "     Name  Age    Address Qualification\n",
      "0     Jai   27     Nagpur           Msc\n",
      "1    Anuj   24     Kanpur            MA\n",
      "2     Jai   22  Allahabad           MCA\n",
      "3  Princi   32    Kannuaj           Phd\n",
      "4  Gaurav   33    Jaunpur        B.Tech\n",
      "5    Anuj   36     Kanpur         B.com\n",
      "6  Princi   27  Allahabad           Msc\n",
      "7    Abhi   32    Aligarh            MA\n"
     ]
    }
   ],
   "source": [
    "# importing pandas module\n",
    "import pandas as pd \n",
    "   \n",
    "# Define a dictionary containing employee data \n",
    "data1 = {'Name':['Jai', 'Anuj', 'Jai', 'Princi', \n",
    "                 'Gaurav', 'Anuj', 'Princi', 'Abhi'], \n",
    "        'Age':[27, 24, 22, 32, \n",
    "               33, 36, 27, 32], \n",
    "        'Address':['Nagpur', 'Kanpur', 'Allahabad', 'Kannuaj',\n",
    "                   'Jaunpur', 'Kanpur', 'Allahabad', 'Aligarh'], \n",
    "        'Qualification':['Msc', 'MA', 'MCA', 'Phd',\n",
    "                         'B.Tech', 'B.com', 'Msc', 'MA']} \n",
    "     \n",
    "   \n",
    "# Convert the dictionary into DataFrame  \n",
    "df = pd.DataFrame(data1)\n",
    "   \n",
    "print(df) "
   ]
  },
  {
   "cell_type": "markdown",
   "id": "5668e939",
   "metadata": {},
   "source": [
    "Now we group a data of “Name” and “Qualification” together using multiple keys in groupby function."
   ]
  },
  {
   "cell_type": "code",
   "execution_count": 11,
   "id": "205ef73c",
   "metadata": {},
   "outputs": [
    {
     "name": "stdout",
     "output_type": "stream",
     "text": [
      "{('Abhi', 'MA'): [7], ('Anuj', 'B.com'): [5], ('Anuj', 'MA'): [1], ('Gaurav', 'B.Tech'): [4], ('Jai', 'MCA'): [2], ('Jai', 'Msc'): [0], ('Princi', 'Msc'): [6], ('Princi', 'Phd'): [3]}\n"
     ]
    }
   ],
   "source": [
    "# Using multiple keys in\n",
    "# groupby() function\n",
    "df.groupby(['Name', 'Qualification'])\n",
    "\n",
    "print(df.groupby(['Name', 'Qualification']).groups)"
   ]
  },
  {
   "cell_type": "markdown",
   "id": "7cfe06b2",
   "metadata": {},
   "source": [
    "### Grouping data by sorting keys :"
   ]
  },
  {
   "cell_type": "markdown",
   "id": "bd44bd2d",
   "metadata": {},
   "source": [
    "Group keys are sorted by default uring the groupby operation. User can pass `sort=False` for potential speedups."
   ]
  },
  {
   "cell_type": "code",
   "execution_count": 2,
   "id": "1c49c360",
   "metadata": {},
   "outputs": [
    {
     "name": "stdout",
     "output_type": "stream",
     "text": [
      "     Name  Age\n",
      "0     Jai   27\n",
      "1    Anuj   24\n",
      "2     Jai   22\n",
      "3  Princi   32\n",
      "4  Gaurav   33\n",
      "5    Anuj   36\n",
      "6  Princi   27\n",
      "7    Abhi   32\n"
     ]
    }
   ],
   "source": [
    "# importing pandas module\n",
    "import pandas as pd \n",
    "\n",
    "# Define a dictionary containing employee data \n",
    "data1 = {'Name':['Jai', 'Anuj', 'Jai', 'Princi', \n",
    "                 'Gaurav', 'Anuj', 'Princi', 'Abhi'], \n",
    "        'Age':[27, 24, 22, 32, \n",
    "               33, 36, 27, 32], } \n",
    "\n",
    "\n",
    "# Convert the dictionary into DataFrame  \n",
    "df = pd.DataFrame(data1)\n",
    "\n",
    "print(df) "
   ]
  },
  {
   "cell_type": "markdown",
   "id": "effb6e0d",
   "metadata": {},
   "source": [
    "Now we apply `groupby()` without `sort`"
   ]
  },
  {
   "cell_type": "code",
   "execution_count": 3,
   "id": "b9ae1a13",
   "metadata": {},
   "outputs": [
    {
     "data": {
      "text/html": [
       "<div>\n",
       "<style scoped>\n",
       "    .dataframe tbody tr th:only-of-type {\n",
       "        vertical-align: middle;\n",
       "    }\n",
       "\n",
       "    .dataframe tbody tr th {\n",
       "        vertical-align: top;\n",
       "    }\n",
       "\n",
       "    .dataframe thead th {\n",
       "        text-align: right;\n",
       "    }\n",
       "</style>\n",
       "<table border=\"1\" class=\"dataframe\">\n",
       "  <thead>\n",
       "    <tr style=\"text-align: right;\">\n",
       "      <th></th>\n",
       "      <th>Age</th>\n",
       "    </tr>\n",
       "    <tr>\n",
       "      <th>Name</th>\n",
       "      <th></th>\n",
       "    </tr>\n",
       "  </thead>\n",
       "  <tbody>\n",
       "    <tr>\n",
       "      <th>Abhi</th>\n",
       "      <td>32</td>\n",
       "    </tr>\n",
       "    <tr>\n",
       "      <th>Anuj</th>\n",
       "      <td>60</td>\n",
       "    </tr>\n",
       "    <tr>\n",
       "      <th>Gaurav</th>\n",
       "      <td>33</td>\n",
       "    </tr>\n",
       "    <tr>\n",
       "      <th>Jai</th>\n",
       "      <td>49</td>\n",
       "    </tr>\n",
       "    <tr>\n",
       "      <th>Princi</th>\n",
       "      <td>59</td>\n",
       "    </tr>\n",
       "  </tbody>\n",
       "</table>\n",
       "</div>"
      ],
      "text/plain": [
       "        Age\n",
       "Name       \n",
       "Abhi     32\n",
       "Anuj     60\n",
       "Gaurav   33\n",
       "Jai      49\n",
       "Princi   59"
      ]
     },
     "execution_count": 3,
     "metadata": {},
     "output_type": "execute_result"
    }
   ],
   "source": [
    "# using groupby function\n",
    "# without using sort\n",
    "  \n",
    "df.groupby(['Name']).sum()"
   ]
  },
  {
   "cell_type": "markdown",
   "id": "dfbd8c91",
   "metadata": {},
   "source": [
    "Now we apply `groupby()` using sort in order to attain potential speedups"
   ]
  },
  {
   "cell_type": "code",
   "execution_count": 6,
   "id": "f944faab",
   "metadata": {},
   "outputs": [
    {
     "data": {
      "text/html": [
       "<div>\n",
       "<style scoped>\n",
       "    .dataframe tbody tr th:only-of-type {\n",
       "        vertical-align: middle;\n",
       "    }\n",
       "\n",
       "    .dataframe tbody tr th {\n",
       "        vertical-align: top;\n",
       "    }\n",
       "\n",
       "    .dataframe thead th {\n",
       "        text-align: right;\n",
       "    }\n",
       "</style>\n",
       "<table border=\"1\" class=\"dataframe\">\n",
       "  <thead>\n",
       "    <tr style=\"text-align: right;\">\n",
       "      <th></th>\n",
       "      <th>Age</th>\n",
       "    </tr>\n",
       "    <tr>\n",
       "      <th>Name</th>\n",
       "      <th></th>\n",
       "    </tr>\n",
       "  </thead>\n",
       "  <tbody>\n",
       "    <tr>\n",
       "      <th>Jai</th>\n",
       "      <td>49</td>\n",
       "    </tr>\n",
       "    <tr>\n",
       "      <th>Anuj</th>\n",
       "      <td>60</td>\n",
       "    </tr>\n",
       "    <tr>\n",
       "      <th>Princi</th>\n",
       "      <td>59</td>\n",
       "    </tr>\n",
       "    <tr>\n",
       "      <th>Gaurav</th>\n",
       "      <td>33</td>\n",
       "    </tr>\n",
       "    <tr>\n",
       "      <th>Abhi</th>\n",
       "      <td>32</td>\n",
       "    </tr>\n",
       "  </tbody>\n",
       "</table>\n",
       "</div>"
      ],
      "text/plain": [
       "        Age\n",
       "Name       \n",
       "Jai      49\n",
       "Anuj     60\n",
       "Princi   59\n",
       "Gaurav   33\n",
       "Abhi     32"
      ]
     },
     "execution_count": 6,
     "metadata": {},
     "output_type": "execute_result"
    }
   ],
   "source": [
    "# using groupby function\n",
    "# with sort\n",
    "  \n",
    "df.groupby(['Name'], sort = False).sum()"
   ]
  },
  {
   "cell_type": "markdown",
   "id": "1f48b4fe",
   "metadata": {},
   "source": [
    "### Grouping data with object attributes :"
   ]
  },
  {
   "cell_type": "markdown",
   "id": "77f6d7e7",
   "metadata": {},
   "source": [
    "Groups attribute is like dictionary whose keys are the computed unique groups and corresponding values being the axis labels belonging to each group."
   ]
  },
  {
   "cell_type": "code",
   "execution_count": 17,
   "id": "f3f4af78",
   "metadata": {},
   "outputs": [
    {
     "name": "stdout",
     "output_type": "stream",
     "text": [
      "     Name  Age    Address Qualification\n",
      "0     Jai   27     Nagpur           Msc\n",
      "1    Anuj   24     Kanpur            MA\n",
      "2     Jai   22  Allahabad           MCA\n",
      "3  Princi   32    Kannuaj           Phd\n",
      "4  Gaurav   33    Jaunpur        B.Tech\n",
      "5    Anuj   36     Kanpur         B.com\n",
      "6  Princi   27  Allahabad           Msc\n",
      "7    Abhi   32    Aligarh            MA\n"
     ]
    }
   ],
   "source": [
    "# importing pandas module\n",
    "import pandas as pd \n",
    "   \n",
    "# Define a dictionary containing employee data \n",
    "data1 = {'Name':['Jai', 'Anuj', 'Jai', 'Princi', \n",
    "                 'Gaurav', 'Anuj', 'Princi', 'Abhi'], \n",
    "        'Age':[27, 24, 22, 32, \n",
    "               33, 36, 27, 32], \n",
    "        'Address':['Nagpur', 'Kanpur', 'Allahabad', 'Kannuaj',\n",
    "                   'Jaunpur', 'Kanpur', 'Allahabad', 'Aligarh'], \n",
    "        'Qualification':['Msc', 'MA', 'MCA', 'Phd',\n",
    "                         'B.Tech', 'B.com', 'Msc', 'MA']} \n",
    "     \n",
    "   \n",
    "# Convert the dictionary into DataFrame  \n",
    "df = pd.DataFrame(data1)\n",
    "   \n",
    "print(df) "
   ]
  },
  {
   "cell_type": "markdown",
   "id": "3c4439af",
   "metadata": {},
   "source": [
    "Now we group data like we do in a dictionary using keys."
   ]
  },
  {
   "cell_type": "code",
   "execution_count": 18,
   "id": "b8bd8a1a",
   "metadata": {},
   "outputs": [
    {
     "data": {
      "text/plain": [
       "{'Abhi': [7], 'Anuj': [1, 5], 'Gaurav': [4], 'Jai': [0, 2], 'Princi': [3, 6]}"
      ]
     },
     "execution_count": 18,
     "metadata": {},
     "output_type": "execute_result"
    }
   ],
   "source": [
    "# using keys for grouping\n",
    "# data\n",
    "  \n",
    "df.groupby('Name').groups"
   ]
  },
  {
   "cell_type": "markdown",
   "id": "9958589c",
   "metadata": {},
   "source": [
    "### Iterating through groups"
   ]
  },
  {
   "cell_type": "markdown",
   "id": "e25e779d",
   "metadata": {},
   "source": [
    "In order to iterate an element of groups, we can iterate through the object similar to `itertools.obj`."
   ]
  },
  {
   "cell_type": "code",
   "execution_count": 19,
   "id": "da4e3055",
   "metadata": {},
   "outputs": [
    {
     "name": "stdout",
     "output_type": "stream",
     "text": [
      "     Name  Age    Address Qualification\n",
      "0     Jai   27     Nagpur           Msc\n",
      "1    Anuj   24     Kanpur            MA\n",
      "2     Jai   22  Allahabad           MCA\n",
      "3  Princi   32    Kannuaj           Phd\n",
      "4  Gaurav   33    Jaunpur        B.Tech\n",
      "5    Anuj   36     Kanpur         B.com\n",
      "6  Princi   27  Allahabad           Msc\n",
      "7    Abhi   32    Aligarh            MA\n"
     ]
    }
   ],
   "source": [
    "# importing pandas module\n",
    "import pandas as pd \n",
    "   \n",
    "# Define a dictionary containing employee data \n",
    "data1 = {'Name':['Jai', 'Anuj', 'Jai', 'Princi', \n",
    "                 'Gaurav', 'Anuj', 'Princi', 'Abhi'], \n",
    "        'Age':[27, 24, 22, 32, \n",
    "               33, 36, 27, 32], \n",
    "        'Address':['Nagpur', 'Kanpur', 'Allahabad', 'Kannuaj',\n",
    "                   'Jaunpur', 'Kanpur', 'Allahabad', 'Aligarh'], \n",
    "        'Qualification':['Msc', 'MA', 'MCA', 'Phd',\n",
    "                         'B.Tech', 'B.com', 'Msc', 'MA']} \n",
    "     \n",
    "   \n",
    "# Convert the dictionary into DataFrame  \n",
    "df = pd.DataFrame(data1)\n",
    "   \n",
    "print(df) "
   ]
  },
  {
   "cell_type": "markdown",
   "id": "f41601af",
   "metadata": {},
   "source": [
    "Now we iterate an element of group in a similar way we do in itertools.obj."
   ]
  },
  {
   "cell_type": "code",
   "execution_count": 20,
   "id": "3500304a",
   "metadata": {},
   "outputs": [
    {
     "name": "stdout",
     "output_type": "stream",
     "text": [
      "Abhi\n",
      "   Name  Age  Address Qualification\n",
      "7  Abhi   32  Aligarh            MA\n",
      "\n",
      "Anuj\n",
      "   Name  Age Address Qualification\n",
      "1  Anuj   24  Kanpur            MA\n",
      "5  Anuj   36  Kanpur         B.com\n",
      "\n",
      "Gaurav\n",
      "     Name  Age  Address Qualification\n",
      "4  Gaurav   33  Jaunpur        B.Tech\n",
      "\n",
      "Jai\n",
      "  Name  Age    Address Qualification\n",
      "0  Jai   27     Nagpur           Msc\n",
      "2  Jai   22  Allahabad           MCA\n",
      "\n",
      "Princi\n",
      "     Name  Age    Address Qualification\n",
      "3  Princi   32    Kannuaj           Phd\n",
      "6  Princi   27  Allahabad           Msc\n",
      "\n"
     ]
    }
   ],
   "source": [
    "# iterating an element\n",
    "# of group\n",
    "  \n",
    "grp = df.groupby('Name')\n",
    "for name, group in grp:\n",
    "    print(name)\n",
    "    print(group)\n",
    "    print()"
   ]
  },
  {
   "cell_type": "markdown",
   "id": "2651aceb",
   "metadata": {},
   "source": [
    "Now we iterate an element of group containing multiple keys"
   ]
  },
  {
   "cell_type": "code",
   "execution_count": 22,
   "id": "b3a2e647",
   "metadata": {},
   "outputs": [
    {
     "name": "stdout",
     "output_type": "stream",
     "text": [
      "('Abhi', 'MA')\n",
      "   Name  Age  Address Qualification\n",
      "7  Abhi   32  Aligarh            MA\n",
      "\n",
      "('Anuj', 'B.com')\n",
      "   Name  Age Address Qualification\n",
      "5  Anuj   36  Kanpur         B.com\n",
      "\n",
      "('Anuj', 'MA')\n",
      "   Name  Age Address Qualification\n",
      "1  Anuj   24  Kanpur            MA\n",
      "\n",
      "('Gaurav', 'B.Tech')\n",
      "     Name  Age  Address Qualification\n",
      "4  Gaurav   33  Jaunpur        B.Tech\n",
      "\n",
      "('Jai', 'MCA')\n",
      "  Name  Age    Address Qualification\n",
      "2  Jai   22  Allahabad           MCA\n",
      "\n",
      "('Jai', 'Msc')\n",
      "  Name  Age Address Qualification\n",
      "0  Jai   27  Nagpur           Msc\n",
      "\n",
      "('Princi', 'Msc')\n",
      "     Name  Age    Address Qualification\n",
      "6  Princi   27  Allahabad           Msc\n",
      "\n",
      "('Princi', 'Phd')\n",
      "     Name  Age  Address Qualification\n",
      "3  Princi   32  Kannuaj           Phd\n",
      "\n"
     ]
    }
   ],
   "source": [
    "# iterating an element\n",
    "# of group containing \n",
    "# multiple keys\n",
    "  \n",
    "grp = df.groupby(['Name', 'Qualification'])\n",
    "for name, group in grp:\n",
    "    print(name)\n",
    "    print(group)\n",
    "    print()"
   ]
  },
  {
   "cell_type": "markdown",
   "id": "03ceacdd",
   "metadata": {},
   "source": [
    "### Selecting a groups"
   ]
  },
  {
   "cell_type": "markdown",
   "id": "4703284f",
   "metadata": {},
   "source": [
    "In order to select a group, we can select group using `GroupBy.get_group()`. We can select a group by applying a function `GroupBy.get_group` this function select a single group."
   ]
  },
  {
   "cell_type": "code",
   "execution_count": 23,
   "id": "b5abdc86",
   "metadata": {},
   "outputs": [
    {
     "name": "stdout",
     "output_type": "stream",
     "text": [
      "     Name  Age    Address Qualification\n",
      "0     Jai   27     Nagpur           Msc\n",
      "1    Anuj   24     Kanpur            MA\n",
      "2     Jai   22  Allahabad           MCA\n",
      "3  Princi   32    Kannuaj           Phd\n",
      "4  Gaurav   33    Jaunpur        B.Tech\n",
      "5    Anuj   36     Kanpur         B.com\n",
      "6  Princi   27  Allahabad           Msc\n",
      "7    Abhi   32    Aligarh            MA\n"
     ]
    }
   ],
   "source": [
    "# importing pandas module\n",
    "import pandas as pd \n",
    "   \n",
    "# Define a dictionary containing employee data \n",
    "data1 = {'Name':['Jai', 'Anuj', 'Jai', 'Princi', \n",
    "                 'Gaurav', 'Anuj', 'Princi', 'Abhi'], \n",
    "        'Age':[27, 24, 22, 32, \n",
    "               33, 36, 27, 32], \n",
    "        'Address':['Nagpur', 'Kanpur', 'Allahabad', 'Kannuaj',\n",
    "                   'Jaunpur', 'Kanpur', 'Allahabad', 'Aligarh'], \n",
    "        'Qualification':['Msc', 'MA', 'MCA', 'Phd',\n",
    "                         'B.Tech', 'B.com', 'Msc', 'MA']} \n",
    "     \n",
    "   \n",
    "# Convert the dictionary into DataFrame  \n",
    "df = pd.DataFrame(data1)\n",
    "   \n",
    "print(df)"
   ]
  },
  {
   "cell_type": "markdown",
   "id": "568384bb",
   "metadata": {},
   "source": [
    "Now we select a single group using `Groupby.get_group`."
   ]
  },
  {
   "cell_type": "code",
   "execution_count": 24,
   "id": "883597e3",
   "metadata": {},
   "outputs": [
    {
     "data": {
      "text/html": [
       "<div>\n",
       "<style scoped>\n",
       "    .dataframe tbody tr th:only-of-type {\n",
       "        vertical-align: middle;\n",
       "    }\n",
       "\n",
       "    .dataframe tbody tr th {\n",
       "        vertical-align: top;\n",
       "    }\n",
       "\n",
       "    .dataframe thead th {\n",
       "        text-align: right;\n",
       "    }\n",
       "</style>\n",
       "<table border=\"1\" class=\"dataframe\">\n",
       "  <thead>\n",
       "    <tr style=\"text-align: right;\">\n",
       "      <th></th>\n",
       "      <th>Name</th>\n",
       "      <th>Age</th>\n",
       "      <th>Address</th>\n",
       "      <th>Qualification</th>\n",
       "    </tr>\n",
       "  </thead>\n",
       "  <tbody>\n",
       "    <tr>\n",
       "      <th>0</th>\n",
       "      <td>Jai</td>\n",
       "      <td>27</td>\n",
       "      <td>Nagpur</td>\n",
       "      <td>Msc</td>\n",
       "    </tr>\n",
       "    <tr>\n",
       "      <th>2</th>\n",
       "      <td>Jai</td>\n",
       "      <td>22</td>\n",
       "      <td>Allahabad</td>\n",
       "      <td>MCA</td>\n",
       "    </tr>\n",
       "  </tbody>\n",
       "</table>\n",
       "</div>"
      ],
      "text/plain": [
       "  Name  Age    Address Qualification\n",
       "0  Jai   27     Nagpur           Msc\n",
       "2  Jai   22  Allahabad           MCA"
      ]
     },
     "execution_count": 24,
     "metadata": {},
     "output_type": "execute_result"
    }
   ],
   "source": [
    "# selecting a single group\n",
    "  \n",
    "grp = df.groupby('Name')\n",
    "grp.get_group('Jai')"
   ]
  },
  {
   "cell_type": "markdown",
   "id": "85a4e190",
   "metadata": {},
   "source": [
    "Now we select an object grouped on multiple columns"
   ]
  },
  {
   "cell_type": "code",
   "execution_count": 25,
   "id": "1ce52f31",
   "metadata": {},
   "outputs": [
    {
     "data": {
      "text/html": [
       "<div>\n",
       "<style scoped>\n",
       "    .dataframe tbody tr th:only-of-type {\n",
       "        vertical-align: middle;\n",
       "    }\n",
       "\n",
       "    .dataframe tbody tr th {\n",
       "        vertical-align: top;\n",
       "    }\n",
       "\n",
       "    .dataframe thead th {\n",
       "        text-align: right;\n",
       "    }\n",
       "</style>\n",
       "<table border=\"1\" class=\"dataframe\">\n",
       "  <thead>\n",
       "    <tr style=\"text-align: right;\">\n",
       "      <th></th>\n",
       "      <th>Name</th>\n",
       "      <th>Age</th>\n",
       "      <th>Address</th>\n",
       "      <th>Qualification</th>\n",
       "    </tr>\n",
       "  </thead>\n",
       "  <tbody>\n",
       "    <tr>\n",
       "      <th>0</th>\n",
       "      <td>Jai</td>\n",
       "      <td>27</td>\n",
       "      <td>Nagpur</td>\n",
       "      <td>Msc</td>\n",
       "    </tr>\n",
       "  </tbody>\n",
       "</table>\n",
       "</div>"
      ],
      "text/plain": [
       "  Name  Age Address Qualification\n",
       "0  Jai   27  Nagpur           Msc"
      ]
     },
     "execution_count": 25,
     "metadata": {},
     "output_type": "execute_result"
    }
   ],
   "source": [
    "# selecting object grouped\n",
    "# on multiple columns\n",
    "  \n",
    "grp = df.groupby(['Name', 'Qualification'])\n",
    "grp.get_group(('Jai', 'Msc'))"
   ]
  },
  {
   "cell_type": "markdown",
   "id": "e7b27641",
   "metadata": {},
   "source": [
    "### Applying function to group"
   ]
  },
  {
   "cell_type": "markdown",
   "id": "591a65f1",
   "metadata": {},
   "source": [
    "After splitting a data into a group, we apply a function to each group in order to do that we perform some operation they are:\n",
    "\n",
    "* **Aggregation :** It is a process in which we compute a summary statistic (or statistics) about each group. For Example, Compute group sums ormeans\n",
    "* **Transformation :** It is a process in which we perform some group-specific computations and return a like-indexed. For Example, Filling NAs within groups with a value derived from each group\n",
    "* **Filtration :** It is a process in which we discard some groups, according to a group-wise computation that evaluates True or False. For Example, Filtering out data based on the group sum or mean"
   ]
  },
  {
   "cell_type": "markdown",
   "id": "f856afef",
   "metadata": {},
   "source": [
    "**Aggregation :**\n",
    "\n",
    "Aggregation is a process in which we compute a summary statistic about each group. Aggregated function returns a single aggregated value for each group. After splitting a data into groups using `groupby` function, several aggregation operations can be performed on the grouped data.\n",
    "\n",
    "**Code #1:** Using aggregation via the aggregate method"
   ]
  },
  {
   "cell_type": "code",
   "execution_count": 26,
   "id": "72249794",
   "metadata": {},
   "outputs": [
    {
     "name": "stdout",
     "output_type": "stream",
     "text": [
      "     Name  Age    Address Qualification\n",
      "0     Jai   27     Nagpur           Msc\n",
      "1    Anuj   24     Kanpur            MA\n",
      "2     Jai   22  Allahabad           MCA\n",
      "3  Princi   32    Kannuaj           Phd\n",
      "4  Gaurav   33    Jaunpur        B.Tech\n",
      "5    Anuj   36     Kanpur         B.com\n",
      "6  Princi   27  Allahabad           Msc\n",
      "7    Abhi   32    Aligarh            MA\n"
     ]
    }
   ],
   "source": [
    "# importing pandas module\n",
    "import pandas as pd \n",
    "  \n",
    "# importing numpy as np\n",
    "import numpy as np\n",
    "   \n",
    "# Define a dictionary containing employee data \n",
    "data1 = {'Name':['Jai', 'Anuj', 'Jai', 'Princi', \n",
    "                 'Gaurav', 'Anuj', 'Princi', 'Abhi'], \n",
    "        'Age':[27, 24, 22, 32, \n",
    "               33, 36, 27, 32], \n",
    "        'Address':['Nagpur', 'Kanpur', 'Allahabad', 'Kannuaj',\n",
    "                   'Jaunpur', 'Kanpur', 'Allahabad', 'Aligarh'], \n",
    "        'Qualification':['Msc', 'MA', 'MCA', 'Phd',\n",
    "                         'B.Tech', 'B.com', 'Msc', 'MA']} \n",
    "     \n",
    "   \n",
    "# Convert the dictionary into DataFrame  \n",
    "df = pd.DataFrame(data1)\n",
    "   \n",
    "print(df) "
   ]
  },
  {
   "cell_type": "markdown",
   "id": "4a5192fe",
   "metadata": {},
   "source": [
    "Now we perform aggregation using aggregate method"
   ]
  },
  {
   "cell_type": "code",
   "execution_count": 27,
   "id": "45a5584f",
   "metadata": {},
   "outputs": [
    {
     "data": {
      "text/html": [
       "<div>\n",
       "<style scoped>\n",
       "    .dataframe tbody tr th:only-of-type {\n",
       "        vertical-align: middle;\n",
       "    }\n",
       "\n",
       "    .dataframe tbody tr th {\n",
       "        vertical-align: top;\n",
       "    }\n",
       "\n",
       "    .dataframe thead th {\n",
       "        text-align: right;\n",
       "    }\n",
       "</style>\n",
       "<table border=\"1\" class=\"dataframe\">\n",
       "  <thead>\n",
       "    <tr style=\"text-align: right;\">\n",
       "      <th></th>\n",
       "      <th>Age</th>\n",
       "    </tr>\n",
       "    <tr>\n",
       "      <th>Name</th>\n",
       "      <th></th>\n",
       "    </tr>\n",
       "  </thead>\n",
       "  <tbody>\n",
       "    <tr>\n",
       "      <th>Abhi</th>\n",
       "      <td>32</td>\n",
       "    </tr>\n",
       "    <tr>\n",
       "      <th>Anuj</th>\n",
       "      <td>60</td>\n",
       "    </tr>\n",
       "    <tr>\n",
       "      <th>Gaurav</th>\n",
       "      <td>33</td>\n",
       "    </tr>\n",
       "    <tr>\n",
       "      <th>Jai</th>\n",
       "      <td>49</td>\n",
       "    </tr>\n",
       "    <tr>\n",
       "      <th>Princi</th>\n",
       "      <td>59</td>\n",
       "    </tr>\n",
       "  </tbody>\n",
       "</table>\n",
       "</div>"
      ],
      "text/plain": [
       "        Age\n",
       "Name       \n",
       "Abhi     32\n",
       "Anuj     60\n",
       "Gaurav   33\n",
       "Jai      49\n",
       "Princi   59"
      ]
     },
     "execution_count": 27,
     "metadata": {},
     "output_type": "execute_result"
    }
   ],
   "source": [
    "# performing aggregation using\n",
    "# aggregate method\n",
    "  \n",
    "grp1 = df.groupby('Name')\n",
    "  \n",
    "grp1.aggregate(np.sum)"
   ]
  },
  {
   "cell_type": "markdown",
   "id": "1207da36",
   "metadata": {},
   "source": [
    "Now we perform aggregation on agroup containing multiple keys"
   ]
  },
  {
   "cell_type": "code",
   "execution_count": 28,
   "id": "0630d850",
   "metadata": {},
   "outputs": [
    {
     "data": {
      "text/html": [
       "<div>\n",
       "<style scoped>\n",
       "    .dataframe tbody tr th:only-of-type {\n",
       "        vertical-align: middle;\n",
       "    }\n",
       "\n",
       "    .dataframe tbody tr th {\n",
       "        vertical-align: top;\n",
       "    }\n",
       "\n",
       "    .dataframe thead th {\n",
       "        text-align: right;\n",
       "    }\n",
       "</style>\n",
       "<table border=\"1\" class=\"dataframe\">\n",
       "  <thead>\n",
       "    <tr style=\"text-align: right;\">\n",
       "      <th></th>\n",
       "      <th></th>\n",
       "      <th>Age</th>\n",
       "    </tr>\n",
       "    <tr>\n",
       "      <th>Name</th>\n",
       "      <th>Qualification</th>\n",
       "      <th></th>\n",
       "    </tr>\n",
       "  </thead>\n",
       "  <tbody>\n",
       "    <tr>\n",
       "      <th>Abhi</th>\n",
       "      <th>MA</th>\n",
       "      <td>32</td>\n",
       "    </tr>\n",
       "    <tr>\n",
       "      <th rowspan=\"2\" valign=\"top\">Anuj</th>\n",
       "      <th>B.com</th>\n",
       "      <td>36</td>\n",
       "    </tr>\n",
       "    <tr>\n",
       "      <th>MA</th>\n",
       "      <td>24</td>\n",
       "    </tr>\n",
       "    <tr>\n",
       "      <th>Gaurav</th>\n",
       "      <th>B.Tech</th>\n",
       "      <td>33</td>\n",
       "    </tr>\n",
       "    <tr>\n",
       "      <th rowspan=\"2\" valign=\"top\">Jai</th>\n",
       "      <th>MCA</th>\n",
       "      <td>22</td>\n",
       "    </tr>\n",
       "    <tr>\n",
       "      <th>Msc</th>\n",
       "      <td>27</td>\n",
       "    </tr>\n",
       "    <tr>\n",
       "      <th rowspan=\"2\" valign=\"top\">Princi</th>\n",
       "      <th>Msc</th>\n",
       "      <td>27</td>\n",
       "    </tr>\n",
       "    <tr>\n",
       "      <th>Phd</th>\n",
       "      <td>32</td>\n",
       "    </tr>\n",
       "  </tbody>\n",
       "</table>\n",
       "</div>"
      ],
      "text/plain": [
       "                      Age\n",
       "Name   Qualification     \n",
       "Abhi   MA              32\n",
       "Anuj   B.com           36\n",
       "       MA              24\n",
       "Gaurav B.Tech          33\n",
       "Jai    MCA             22\n",
       "       Msc             27\n",
       "Princi Msc             27\n",
       "       Phd             32"
      ]
     },
     "execution_count": 28,
     "metadata": {},
     "output_type": "execute_result"
    }
   ],
   "source": [
    "# performing aggregation on\n",
    "# group containing multiple\n",
    "# keys\n",
    "grp1 = df.groupby(['Name', 'Qualification'])\n",
    "  \n",
    "grp1.aggregate(np.sum)"
   ]
  },
  {
   "cell_type": "markdown",
   "id": "d7859bdd",
   "metadata": {},
   "source": [
    "### Applying multiple functions at once :"
   ]
  },
  {
   "cell_type": "markdown",
   "id": "266318ad",
   "metadata": {},
   "source": [
    "We can apply a multiple functions at once by passing a list or dictionary of functions to do aggregation with, outputting a DataFrame."
   ]
  },
  {
   "cell_type": "code",
   "execution_count": 29,
   "id": "cfd3e617",
   "metadata": {},
   "outputs": [
    {
     "name": "stdout",
     "output_type": "stream",
     "text": [
      "     Name  Age    Address Qualification\n",
      "0     Jai   27     Nagpur           Msc\n",
      "1    Anuj   24     Kanpur            MA\n",
      "2     Jai   22  Allahabad           MCA\n",
      "3  Princi   32    Kannuaj           Phd\n",
      "4  Gaurav   33    Jaunpur        B.Tech\n",
      "5    Anuj   36     Kanpur         B.com\n",
      "6  Princi   27  Allahabad           Msc\n",
      "7    Abhi   32    Aligarh            MA\n"
     ]
    }
   ],
   "source": [
    "\n",
    "# importing pandas module\n",
    "import pandas as pd \n",
    "  \n",
    "# importing numpy as np\n",
    "import numpy as np\n",
    "   \n",
    "# Define a dictionary containing employee data \n",
    "data1 = {'Name':['Jai', 'Anuj', 'Jai', 'Princi', \n",
    "                 'Gaurav', 'Anuj', 'Princi', 'Abhi'], \n",
    "        'Age':[27, 24, 22, 32, \n",
    "               33, 36, 27, 32], \n",
    "        'Address':['Nagpur', 'Kanpur', 'Allahabad', 'Kannuaj',\n",
    "                   'Jaunpur', 'Kanpur', 'Allahabad', 'Aligarh'], \n",
    "        'Qualification':['Msc', 'MA', 'MCA', 'Phd',\n",
    "                         'B.Tech', 'B.com', 'Msc', 'MA']} \n",
    "     \n",
    "   \n",
    "# Convert the dictionary into DataFrame  \n",
    "df = pd.DataFrame(data1)\n",
    "   \n",
    "print(df) "
   ]
  },
  {
   "cell_type": "markdown",
   "id": "f95996e6",
   "metadata": {},
   "source": [
    "Now we apply a multiple functions by passing a list of functions."
   ]
  },
  {
   "cell_type": "code",
   "execution_count": 30,
   "id": "3b144fe8",
   "metadata": {},
   "outputs": [
    {
     "data": {
      "text/html": [
       "<div>\n",
       "<style scoped>\n",
       "    .dataframe tbody tr th:only-of-type {\n",
       "        vertical-align: middle;\n",
       "    }\n",
       "\n",
       "    .dataframe tbody tr th {\n",
       "        vertical-align: top;\n",
       "    }\n",
       "\n",
       "    .dataframe thead th {\n",
       "        text-align: right;\n",
       "    }\n",
       "</style>\n",
       "<table border=\"1\" class=\"dataframe\">\n",
       "  <thead>\n",
       "    <tr style=\"text-align: right;\">\n",
       "      <th></th>\n",
       "      <th>sum</th>\n",
       "      <th>mean</th>\n",
       "      <th>std</th>\n",
       "    </tr>\n",
       "    <tr>\n",
       "      <th>Name</th>\n",
       "      <th></th>\n",
       "      <th></th>\n",
       "      <th></th>\n",
       "    </tr>\n",
       "  </thead>\n",
       "  <tbody>\n",
       "    <tr>\n",
       "      <th>Abhi</th>\n",
       "      <td>32</td>\n",
       "      <td>32.0</td>\n",
       "      <td>NaN</td>\n",
       "    </tr>\n",
       "    <tr>\n",
       "      <th>Anuj</th>\n",
       "      <td>60</td>\n",
       "      <td>30.0</td>\n",
       "      <td>8.485281</td>\n",
       "    </tr>\n",
       "    <tr>\n",
       "      <th>Gaurav</th>\n",
       "      <td>33</td>\n",
       "      <td>33.0</td>\n",
       "      <td>NaN</td>\n",
       "    </tr>\n",
       "    <tr>\n",
       "      <th>Jai</th>\n",
       "      <td>49</td>\n",
       "      <td>24.5</td>\n",
       "      <td>3.535534</td>\n",
       "    </tr>\n",
       "    <tr>\n",
       "      <th>Princi</th>\n",
       "      <td>59</td>\n",
       "      <td>29.5</td>\n",
       "      <td>3.535534</td>\n",
       "    </tr>\n",
       "  </tbody>\n",
       "</table>\n",
       "</div>"
      ],
      "text/plain": [
       "        sum  mean       std\n",
       "Name                       \n",
       "Abhi     32  32.0       NaN\n",
       "Anuj     60  30.0  8.485281\n",
       "Gaurav   33  33.0       NaN\n",
       "Jai      49  24.5  3.535534\n",
       "Princi   59  29.5  3.535534"
      ]
     },
     "execution_count": 30,
     "metadata": {},
     "output_type": "execute_result"
    }
   ],
   "source": [
    "# applying a function by passing\n",
    "# a list of functions\n",
    "  \n",
    "grp = df.groupby('Name')\n",
    "  \n",
    "grp['Age'].agg([np.sum, np.mean, np.std])"
   ]
  },
  {
   "cell_type": "markdown",
   "id": "03a59e34",
   "metadata": {},
   "source": [
    "### Applying different functions to DataFrame columns :"
   ]
  },
  {
   "cell_type": "markdown",
   "id": "7b0602f5",
   "metadata": {},
   "source": [
    "In order to apply a different aggregation to the columns of a DataFrame, we can pass a dictionary to aggregate ."
   ]
  },
  {
   "cell_type": "code",
   "execution_count": 31,
   "id": "15483261",
   "metadata": {},
   "outputs": [
    {
     "name": "stdout",
     "output_type": "stream",
     "text": [
      "     Name  Age    Address Qualification  Score\n",
      "0     Jai   27     Nagpur           Msc     23\n",
      "1    Anuj   24     Kanpur            MA     34\n",
      "2     Jai   22  Allahabad           MCA     35\n",
      "3  Princi   32    Kannuaj           Phd     45\n",
      "4  Gaurav   33    Jaunpur        B.Tech     47\n",
      "5    Anuj   36     Kanpur         B.com     50\n",
      "6  Princi   27  Allahabad           Msc     52\n",
      "7    Abhi   32    Aligarh            MA     53\n"
     ]
    }
   ],
   "source": [
    "# importing pandas module\n",
    "import pandas as pd \n",
    "  \n",
    "# importing numpy as np\n",
    "import numpy as np\n",
    "   \n",
    "# Define a dictionary containing employee data \n",
    "data1 = {'Name':['Jai', 'Anuj', 'Jai', 'Princi', \n",
    "                 'Gaurav', 'Anuj', 'Princi', 'Abhi'], \n",
    "        'Age':[27, 24, 22, 32, \n",
    "               33, 36, 27, 32], \n",
    "        'Address':['Nagpur', 'Kanpur', 'Allahabad', 'Kannuaj',\n",
    "                   'Jaunpur', 'Kanpur', 'Allahabad', 'Aligarh'], \n",
    "        'Qualification':['Msc', 'MA', 'MCA', 'Phd',\n",
    "                         'B.Tech', 'B.com', 'Msc', 'MA'],\n",
    "        'Score': [23, 34, 35, 45, 47, 50, 52, 53]} \n",
    "     \n",
    "   \n",
    "# Convert the dictionary into DataFrame  \n",
    "df = pd.DataFrame(data1)\n",
    "   \n",
    "print(df) "
   ]
  },
  {
   "cell_type": "markdown",
   "id": "093e146a",
   "metadata": {},
   "source": [
    "Now we apply a different aggregation to the columns of a dataframe."
   ]
  },
  {
   "cell_type": "code",
   "execution_count": 32,
   "id": "96823100",
   "metadata": {},
   "outputs": [
    {
     "data": {
      "text/html": [
       "<div>\n",
       "<style scoped>\n",
       "    .dataframe tbody tr th:only-of-type {\n",
       "        vertical-align: middle;\n",
       "    }\n",
       "\n",
       "    .dataframe tbody tr th {\n",
       "        vertical-align: top;\n",
       "    }\n",
       "\n",
       "    .dataframe thead th {\n",
       "        text-align: right;\n",
       "    }\n",
       "</style>\n",
       "<table border=\"1\" class=\"dataframe\">\n",
       "  <thead>\n",
       "    <tr style=\"text-align: right;\">\n",
       "      <th></th>\n",
       "      <th>Age</th>\n",
       "      <th>Score</th>\n",
       "    </tr>\n",
       "    <tr>\n",
       "      <th>Name</th>\n",
       "      <th></th>\n",
       "      <th></th>\n",
       "    </tr>\n",
       "  </thead>\n",
       "  <tbody>\n",
       "    <tr>\n",
       "      <th>Abhi</th>\n",
       "      <td>32</td>\n",
       "      <td>NaN</td>\n",
       "    </tr>\n",
       "    <tr>\n",
       "      <th>Anuj</th>\n",
       "      <td>60</td>\n",
       "      <td>11.313708</td>\n",
       "    </tr>\n",
       "    <tr>\n",
       "      <th>Gaurav</th>\n",
       "      <td>33</td>\n",
       "      <td>NaN</td>\n",
       "    </tr>\n",
       "    <tr>\n",
       "      <th>Jai</th>\n",
       "      <td>49</td>\n",
       "      <td>8.485281</td>\n",
       "    </tr>\n",
       "    <tr>\n",
       "      <th>Princi</th>\n",
       "      <td>59</td>\n",
       "      <td>4.949747</td>\n",
       "    </tr>\n",
       "  </tbody>\n",
       "</table>\n",
       "</div>"
      ],
      "text/plain": [
       "        Age      Score\n",
       "Name                  \n",
       "Abhi     32        NaN\n",
       "Anuj     60  11.313708\n",
       "Gaurav   33        NaN\n",
       "Jai      49   8.485281\n",
       "Princi   59   4.949747"
      ]
     },
     "execution_count": 32,
     "metadata": {},
     "output_type": "execute_result"
    }
   ],
   "source": [
    "# using different aggregation\n",
    "# function by passing dictionary\n",
    "# to aggregate\n",
    "grp = df.groupby('Name')\n",
    "  \n",
    "grp.agg({'Age' : 'sum', 'Score' : 'std'})"
   ]
  },
  {
   "cell_type": "markdown",
   "id": "de5367ef",
   "metadata": {},
   "source": [
    "### Transformation :"
   ]
  },
  {
   "cell_type": "markdown",
   "id": "f22358cd",
   "metadata": {},
   "source": [
    "Transformation is a process in which we perform some group-specific computations and return a like-indexed. Transform method returns an object that is indexed the same (same size) as the one being grouped. The transform function must:\n",
    "\n",
    "* Return a result that is either the same size as the group chunk\n",
    "* Operate column-by-column on the group chunk\n",
    "* Not perform in-place operations on the group chunk."
   ]
  },
  {
   "cell_type": "code",
   "execution_count": 33,
   "id": "88859214",
   "metadata": {},
   "outputs": [
    {
     "name": "stdout",
     "output_type": "stream",
     "text": [
      "     Name  Age    Address Qualification  Score\n",
      "0     Jai   27     Nagpur           Msc     23\n",
      "1    Anuj   24     Kanpur            MA     34\n",
      "2     Jai   22  Allahabad           MCA     35\n",
      "3  Princi   32    Kannuaj           Phd     45\n",
      "4  Gaurav   33    Jaunpur        B.Tech     47\n",
      "5    Anuj   36     Kanpur         B.com     50\n",
      "6  Princi   27  Allahabad           Msc     52\n",
      "7    Abhi   32    Aligarh            MA     53\n"
     ]
    }
   ],
   "source": [
    "\n",
    "# importing pandas module\n",
    "import pandas as pd \n",
    "  \n",
    "# importing numpy as np\n",
    "import numpy as np\n",
    "   \n",
    "# Define a dictionary containing employee data \n",
    "data1 = {'Name':['Jai', 'Anuj', 'Jai', 'Princi', \n",
    "                 'Gaurav', 'Anuj', 'Princi', 'Abhi'], \n",
    "        'Age':[27, 24, 22, 32, \n",
    "               33, 36, 27, 32], \n",
    "        'Address':['Nagpur', 'Kanpur', 'Allahabad', 'Kannuaj',\n",
    "                   'Jaunpur', 'Kanpur', 'Allahabad', 'Aligarh'], \n",
    "        'Qualification':['Msc', 'MA', 'MCA', 'Phd',\n",
    "                         'B.Tech', 'B.com', 'Msc', 'MA'],\n",
    "        'Score': [23, 34, 35, 45, 47, 50, 52, 53]} \n",
    "     \n",
    "   \n",
    "# Convert the dictionary into DataFrame  \n",
    "df = pd.DataFrame(data1)\n",
    "   \n",
    "print(df) "
   ]
  },
  {
   "cell_type": "markdown",
   "id": "7542487c",
   "metadata": {},
   "source": [
    "Now we perform some group-specific computations and return a like-indexed."
   ]
  },
  {
   "cell_type": "code",
   "execution_count": 34,
   "id": "a8940a95",
   "metadata": {},
   "outputs": [
    {
     "data": {
      "text/html": [
       "<div>\n",
       "<style scoped>\n",
       "    .dataframe tbody tr th:only-of-type {\n",
       "        vertical-align: middle;\n",
       "    }\n",
       "\n",
       "    .dataframe tbody tr th {\n",
       "        vertical-align: top;\n",
       "    }\n",
       "\n",
       "    .dataframe thead th {\n",
       "        text-align: right;\n",
       "    }\n",
       "</style>\n",
       "<table border=\"1\" class=\"dataframe\">\n",
       "  <thead>\n",
       "    <tr style=\"text-align: right;\">\n",
       "      <th></th>\n",
       "      <th>Age</th>\n",
       "      <th>Score</th>\n",
       "    </tr>\n",
       "  </thead>\n",
       "  <tbody>\n",
       "    <tr>\n",
       "      <th>0</th>\n",
       "      <td>7.071068</td>\n",
       "      <td>-7.071068</td>\n",
       "    </tr>\n",
       "    <tr>\n",
       "      <th>1</th>\n",
       "      <td>-7.071068</td>\n",
       "      <td>-7.071068</td>\n",
       "    </tr>\n",
       "    <tr>\n",
       "      <th>2</th>\n",
       "      <td>-7.071068</td>\n",
       "      <td>7.071068</td>\n",
       "    </tr>\n",
       "    <tr>\n",
       "      <th>3</th>\n",
       "      <td>7.071068</td>\n",
       "      <td>-7.071068</td>\n",
       "    </tr>\n",
       "    <tr>\n",
       "      <th>4</th>\n",
       "      <td>NaN</td>\n",
       "      <td>NaN</td>\n",
       "    </tr>\n",
       "    <tr>\n",
       "      <th>5</th>\n",
       "      <td>7.071068</td>\n",
       "      <td>7.071068</td>\n",
       "    </tr>\n",
       "    <tr>\n",
       "      <th>6</th>\n",
       "      <td>-7.071068</td>\n",
       "      <td>7.071068</td>\n",
       "    </tr>\n",
       "    <tr>\n",
       "      <th>7</th>\n",
       "      <td>NaN</td>\n",
       "      <td>NaN</td>\n",
       "    </tr>\n",
       "  </tbody>\n",
       "</table>\n",
       "</div>"
      ],
      "text/plain": [
       "        Age     Score\n",
       "0  7.071068 -7.071068\n",
       "1 -7.071068 -7.071068\n",
       "2 -7.071068  7.071068\n",
       "3  7.071068 -7.071068\n",
       "4       NaN       NaN\n",
       "5  7.071068  7.071068\n",
       "6 -7.071068  7.071068\n",
       "7       NaN       NaN"
      ]
     },
     "execution_count": 34,
     "metadata": {},
     "output_type": "execute_result"
    }
   ],
   "source": [
    "## using transform function\n",
    "grp = df.groupby('Name')\n",
    "sc = lambda x: (x - x.mean()) / x.std()*10\n",
    "grp.transform(sc)"
   ]
  },
  {
   "cell_type": "markdown",
   "id": "a400bac2",
   "metadata": {},
   "source": [
    "### Filtration :"
   ]
  },
  {
   "cell_type": "markdown",
   "id": "cd211874",
   "metadata": {},
   "source": [
    "Filtration is a process in which we discard some groups, according to a group-wise computation that evaluates `True` or `False`. In order to filter a group, we use filter method and apply some condition by which we filter group."
   ]
  },
  {
   "cell_type": "code",
   "execution_count": 35,
   "id": "798ae7dc",
   "metadata": {},
   "outputs": [
    {
     "name": "stdout",
     "output_type": "stream",
     "text": [
      "     Name  Age    Address Qualification  Score\n",
      "0     Jai   27     Nagpur           Msc     23\n",
      "1    Anuj   24     Kanpur            MA     34\n",
      "2     Jai   22  Allahabad           MCA     35\n",
      "3  Princi   32    Kannuaj           Phd     45\n",
      "4  Gaurav   33    Jaunpur        B.Tech     47\n",
      "5    Anuj   36     Kanpur         B.com     50\n",
      "6  Princi   27  Allahabad           Msc     52\n",
      "7    Abhi   32    Aligarh            MA     53\n"
     ]
    }
   ],
   "source": [
    "# importing pandas module\n",
    "import pandas as pd \n",
    "  \n",
    "# importing numpy as np\n",
    "import numpy as np\n",
    "   \n",
    "# Define a dictionary containing employee data \n",
    "data1 = {'Name':['Jai', 'Anuj', 'Jai', 'Princi', \n",
    "                 'Gaurav', 'Anuj', 'Princi', 'Abhi'], \n",
    "        'Age':[27, 24, 22, 32, \n",
    "               33, 36, 27, 32], \n",
    "        'Address':['Nagpur', 'Kanpur', 'Allahabad', 'Kannuaj',\n",
    "                   'Jaunpur', 'Kanpur', 'Allahabad', 'Aligarh'], \n",
    "        'Qualification':['Msc', 'MA', 'MCA', 'Phd',\n",
    "                         'B.Tech', 'B.com', 'Msc', 'MA'],\n",
    "        'Score': [23, 34, 35, 45, 47, 50, 52, 53]} \n",
    "     \n",
    "   \n",
    "# Convert the dictionary into DataFrame  \n",
    "df = pd.DataFrame(data1)\n",
    "   \n",
    "print(df) "
   ]
  },
  {
   "cell_type": "markdown",
   "id": "8bf79e68",
   "metadata": {},
   "source": [
    "Now we filter data that to return the Name which have lived two or more times ."
   ]
  },
  {
   "cell_type": "code",
   "execution_count": 37,
   "id": "fe8699f8",
   "metadata": {},
   "outputs": [
    {
     "data": {
      "text/html": [
       "<div>\n",
       "<style scoped>\n",
       "    .dataframe tbody tr th:only-of-type {\n",
       "        vertical-align: middle;\n",
       "    }\n",
       "\n",
       "    .dataframe tbody tr th {\n",
       "        vertical-align: top;\n",
       "    }\n",
       "\n",
       "    .dataframe thead th {\n",
       "        text-align: right;\n",
       "    }\n",
       "</style>\n",
       "<table border=\"1\" class=\"dataframe\">\n",
       "  <thead>\n",
       "    <tr style=\"text-align: right;\">\n",
       "      <th></th>\n",
       "      <th>Name</th>\n",
       "      <th>Age</th>\n",
       "      <th>Address</th>\n",
       "      <th>Qualification</th>\n",
       "      <th>Score</th>\n",
       "    </tr>\n",
       "  </thead>\n",
       "  <tbody>\n",
       "    <tr>\n",
       "      <th>0</th>\n",
       "      <td>Jai</td>\n",
       "      <td>27</td>\n",
       "      <td>Nagpur</td>\n",
       "      <td>Msc</td>\n",
       "      <td>23</td>\n",
       "    </tr>\n",
       "    <tr>\n",
       "      <th>1</th>\n",
       "      <td>Anuj</td>\n",
       "      <td>24</td>\n",
       "      <td>Kanpur</td>\n",
       "      <td>MA</td>\n",
       "      <td>34</td>\n",
       "    </tr>\n",
       "    <tr>\n",
       "      <th>2</th>\n",
       "      <td>Jai</td>\n",
       "      <td>22</td>\n",
       "      <td>Allahabad</td>\n",
       "      <td>MCA</td>\n",
       "      <td>35</td>\n",
       "    </tr>\n",
       "    <tr>\n",
       "      <th>3</th>\n",
       "      <td>Princi</td>\n",
       "      <td>32</td>\n",
       "      <td>Kannuaj</td>\n",
       "      <td>Phd</td>\n",
       "      <td>45</td>\n",
       "    </tr>\n",
       "    <tr>\n",
       "      <th>5</th>\n",
       "      <td>Anuj</td>\n",
       "      <td>36</td>\n",
       "      <td>Kanpur</td>\n",
       "      <td>B.com</td>\n",
       "      <td>50</td>\n",
       "    </tr>\n",
       "    <tr>\n",
       "      <th>6</th>\n",
       "      <td>Princi</td>\n",
       "      <td>27</td>\n",
       "      <td>Allahabad</td>\n",
       "      <td>Msc</td>\n",
       "      <td>52</td>\n",
       "    </tr>\n",
       "  </tbody>\n",
       "</table>\n",
       "</div>"
      ],
      "text/plain": [
       "     Name  Age    Address Qualification  Score\n",
       "0     Jai   27     Nagpur           Msc     23\n",
       "1    Anuj   24     Kanpur            MA     34\n",
       "2     Jai   22  Allahabad           MCA     35\n",
       "3  Princi   32    Kannuaj           Phd     45\n",
       "5    Anuj   36     Kanpur         B.com     50\n",
       "6  Princi   27  Allahabad           Msc     52"
      ]
     },
     "execution_count": 37,
     "metadata": {},
     "output_type": "execute_result"
    }
   ],
   "source": [
    "# filtering data using\n",
    "# filter data\n",
    "grp = df.groupby('Name')\n",
    "grp.filter(lambda x: len(x) >= 2)\n"
   ]
  },
  {
   "cell_type": "markdown",
   "id": "ddfc8443",
   "metadata": {},
   "source": [
    "<a id='section2'></a>\n",
    "## 2. [Combining multiple columns in Pandas groupby with dictionary](https://www.geeksforgeeks.org/combining-multiple-columns-in-pandas-groupby-with-dictionary/?ref=lbp)"
   ]
  },
  {
   "cell_type": "markdown",
   "id": "02dc45a4",
   "metadata": {},
   "source": [
    "<a id='section3'></a>\n",
    "## 3. [How to combine Groupby and Multiple Aggregate Functions in Pandas?](https://www.geeksforgeeks.org/how-to-combine-groupby-and-multiple-aggregate-functions-in-pandas/?ref=lbp)"
   ]
  },
  {
   "cell_type": "markdown",
   "id": "726116ee",
   "metadata": {},
   "source": [
    "<a id='section4'></a>\n",
    "## 4. [Pandas – Groupby multiple values and plotting results](https://www.geeksforgeeks.org/pandas-groupby-multiple-values-and-plotting-results/?ref=lbp)"
   ]
  },
  {
   "cell_type": "markdown",
   "id": "74386b13",
   "metadata": {},
   "source": [
    "<a id='section5'></a>\n",
    "## 5. [Pandas – GroupBy One Column and Get Mean, Min, and Max values](https://www.geeksforgeeks.org/pandas-groupby-one-column-and-get-mean-min-and-max-values/?ref=lbp)"
   ]
  },
  {
   "cell_type": "markdown",
   "id": "18f44078",
   "metadata": {},
   "source": [
    "<a id='section6'></a>\n",
    "## 6. [Select row with maximum and minimum value in Pandas dataframe](https://www.geeksforgeeks.org/select-row-with-maximum-and-minimum-value-in-pandas-dataframe/?ref=lbp)"
   ]
  },
  {
   "cell_type": "markdown",
   "id": "dee6ade3",
   "metadata": {},
   "source": [
    "<a id='section7'></a>\n",
    "## 7. [Find maximum values & position in columns and rows of a Dataframe in Pandas](https://www.geeksforgeeks.org/find-maximum-values-position-in-columns-and-rows-of-a-dataframe-in-pandas/)"
   ]
  },
  {
   "cell_type": "markdown",
   "id": "8b0d4520",
   "metadata": {},
   "source": [
    "In this article, we are going to discuss how to find maximum value and its index position in columns and rows of a Dataframe.\n",
    "\n",
    "**DataFrame.max()**\n",
    "\n",
    "Pandas `dataframe.max()` method finds the maximum of the values in the object and returns it. If the input is a series, the method will return a scalar which will be the maximum of the values in the series. If the input is a dataframe, then the method will return a series with maximum of values over the specified axis in the dataframe. The index axis is the default axis taken by this method.\n",
    "\n",
    "| **Syntax:** | `DataFrame.max(axis=None, skipna=None, level=None, numeric_only=None, **kwargs)`  |\n",
    "| --- | --- |\n",
    "| **Parameters :** | |\n",
    "| **axis :** | { index (0), columns (1) }  |\n",
    "| **skipna :** | Exclude NA/null values when computing the result  |\n",
    "| **level :** | If the axis is a MultiIndex (hierarchical), count along a particular level, collapsing into a Series  |\n",
    "| **numeric_only :** | Include only float, int, boolean columns. If None, will attempt to use everything, then use only numeric data. Not implemented for Series. |\n",
    "| **Returns :** | max : Series or DataFrame (if level specified) |\n",
    "\n",
    "\n",
    "Let’s take an example of how to use this function. Let’s suppose we have a Dataframe "
   ]
  },
  {
   "cell_type": "code",
   "execution_count": 38,
   "id": "232266d3",
   "metadata": {},
   "outputs": [
    {
     "data": {
      "text/html": [
       "<div>\n",
       "<style scoped>\n",
       "    .dataframe tbody tr th:only-of-type {\n",
       "        vertical-align: middle;\n",
       "    }\n",
       "\n",
       "    .dataframe tbody tr th {\n",
       "        vertical-align: top;\n",
       "    }\n",
       "\n",
       "    .dataframe thead th {\n",
       "        text-align: right;\n",
       "    }\n",
       "</style>\n",
       "<table border=\"1\" class=\"dataframe\">\n",
       "  <thead>\n",
       "    <tr style=\"text-align: right;\">\n",
       "      <th></th>\n",
       "      <th>x</th>\n",
       "      <th>y</th>\n",
       "      <th>z</th>\n",
       "    </tr>\n",
       "  </thead>\n",
       "  <tbody>\n",
       "    <tr>\n",
       "      <th>a</th>\n",
       "      <td>10.0</td>\n",
       "      <td>56.0</td>\n",
       "      <td>17</td>\n",
       "    </tr>\n",
       "    <tr>\n",
       "      <th>b</th>\n",
       "      <td>NaN</td>\n",
       "      <td>23.0</td>\n",
       "      <td>11</td>\n",
       "    </tr>\n",
       "    <tr>\n",
       "      <th>c</th>\n",
       "      <td>49.0</td>\n",
       "      <td>36.0</td>\n",
       "      <td>55</td>\n",
       "    </tr>\n",
       "    <tr>\n",
       "      <th>d</th>\n",
       "      <td>75.0</td>\n",
       "      <td>NaN</td>\n",
       "      <td>34</td>\n",
       "    </tr>\n",
       "    <tr>\n",
       "      <th>e</th>\n",
       "      <td>89.0</td>\n",
       "      <td>21.0</td>\n",
       "      <td>44</td>\n",
       "    </tr>\n",
       "  </tbody>\n",
       "</table>\n",
       "</div>"
      ],
      "text/plain": [
       "      x     y   z\n",
       "a  10.0  56.0  17\n",
       "b   NaN  23.0  11\n",
       "c  49.0  36.0  55\n",
       "d  75.0   NaN  34\n",
       "e  89.0  21.0  44"
      ]
     },
     "execution_count": 38,
     "metadata": {},
     "output_type": "execute_result"
    }
   ],
   "source": [
    "import numpy as np\n",
    "import pandas as pd\n",
    "\n",
    "# List of Tuples\n",
    "matrix = [(10, 56, 17),\n",
    "          (np.NaN, 23, 11),\n",
    "          (49, 36, 55),\n",
    "          (75, np.NaN, 34),\n",
    "          (89, 21, 44)\n",
    "          ]\n",
    "\n",
    "# Create a DataFrame\n",
    "abc = pd.DataFrame(matrix, index = list('abcde'), columns = list('xyz'))\n",
    " \n",
    "# output\n",
    "abc"
   ]
  },
  {
   "cell_type": "markdown",
   "id": "1d3e3f60",
   "metadata": {},
   "source": [
    "### How to find Maximum values of every column?"
   ]
  },
  {
   "cell_type": "markdown",
   "id": "e41b8441",
   "metadata": {},
   "source": [
    "To find the maximum value of each column, call max() method on the Dataframe object without taking any argument. "
   ]
  },
  {
   "cell_type": "code",
   "execution_count": 39,
   "id": "88906d5e",
   "metadata": {},
   "outputs": [
    {
     "name": "stdout",
     "output_type": "stream",
     "text": [
      "x    89.0\n",
      "y    56.0\n",
      "z    55.0\n",
      "dtype: float64\n"
     ]
    }
   ],
   "source": [
    "# find the maximum of each column\n",
    "maxValues = abc.max()\n",
    " \n",
    "print(maxValues)"
   ]
  },
  {
   "cell_type": "markdown",
   "id": "085ec5b2",
   "metadata": {},
   "source": [
    "We can see that it returned a series of maximum values where the index is column name and values are the maxima from each column."
   ]
  },
  {
   "cell_type": "markdown",
   "id": "4c82f2b0",
   "metadata": {},
   "source": [
    "### How to find maximum values of every row? "
   ]
  },
  {
   "cell_type": "markdown",
   "id": "853e488c",
   "metadata": {},
   "source": [
    "To find the maximum value of each row, call max() method on the Dataframe object with an argument axis = 1.  "
   ]
  },
  {
   "cell_type": "code",
   "execution_count": 40,
   "id": "a81a1da5",
   "metadata": {},
   "outputs": [
    {
     "name": "stdout",
     "output_type": "stream",
     "text": [
      "a    56.0\n",
      "b    23.0\n",
      "c    55.0\n",
      "d    75.0\n",
      "e    89.0\n",
      "dtype: float64\n"
     ]
    }
   ],
   "source": [
    "# find the maximum values of each row\n",
    "maxValues = abc.max(axis = 1)\n",
    "print(maxValues)"
   ]
  },
  {
   "cell_type": "markdown",
   "id": "79844fa3",
   "metadata": {},
   "source": [
    "We can see that it returned a series of maximum values where the index is row name and values are the maxima from each row. We can see that in the above examples NaN values are skipped while finding the maximum values in any axis. We can include NaN values as well if we want.\n",
    "\n"
   ]
  },
  {
   "cell_type": "markdown",
   "id": "8e9d36b6",
   "metadata": {},
   "source": [
    "###  How to find maximum values of every column without skipping NaN?"
   ]
  },
  {
   "cell_type": "code",
   "execution_count": 41,
   "id": "9c3a4921",
   "metadata": {},
   "outputs": [
    {
     "name": "stdout",
     "output_type": "stream",
     "text": [
      "x     NaN\n",
      "y     NaN\n",
      "z    55.0\n",
      "dtype: float64\n"
     ]
    }
   ],
   "source": [
    "# find maximum value of each\n",
    "# column without skipping NaN\n",
    "maxValues = abc.max(skipna = False)\n",
    " \n",
    "print(maxValues)"
   ]
  },
  {
   "cell_type": "markdown",
   "id": "e41e0d57",
   "metadata": {},
   "source": [
    "By putting skipna=False we can include NaN values also. If any NaN value exists it will be considered as the maximum value."
   ]
  },
  {
   "cell_type": "markdown",
   "id": "643d0c7e",
   "metadata": {},
   "source": [
    "### How to find maximum values of a single column or selected columns?"
   ]
  },
  {
   "cell_type": "markdown",
   "id": "8a3aaf2e",
   "metadata": {},
   "source": [
    "To get the maximum value of a single column see the following example "
   ]
  },
  {
   "cell_type": "code",
   "execution_count": 42,
   "id": "5bec3d4b",
   "metadata": {},
   "outputs": [
    {
     "name": "stdout",
     "output_type": "stream",
     "text": [
      "Maximum value in column 'x': \n",
      "89.0\n"
     ]
    }
   ],
   "source": [
    "# find maximum value of a\n",
    "# single column 'x'\n",
    "maxClm = abc['x'].max()\n",
    " \n",
    "print(\"Maximum value in column 'x': \" )\n",
    "print(maxClm)"
   ]
  },
  {
   "cell_type": "markdown",
   "id": "99ad52ff",
   "metadata": {},
   "source": [
    "We have another way to find maximum value of a column : "
   ]
  },
  {
   "cell_type": "code",
   "execution_count": 43,
   "id": "d1685e7d",
   "metadata": {},
   "outputs": [
    {
     "data": {
      "text/plain": [
       "89.0"
      ]
     },
     "execution_count": 43,
     "metadata": {},
     "output_type": "execute_result"
    }
   ],
   "source": [
    "# find maximum value of a\n",
    "# single column 'x'\n",
    "maxClm = abc.max()['x']\n",
    "maxClm"
   ]
  },
  {
   "cell_type": "markdown",
   "id": "fe8e3ccc",
   "metadata": {},
   "source": [
    "The result will be same as above. "
   ]
  },
  {
   "cell_type": "markdown",
   "id": "062fbdc4",
   "metadata": {},
   "source": [
    "A list of columns can also be passed instead of a single column to find the maximum values of specified columns "
   ]
  },
  {
   "cell_type": "code",
   "execution_count": 44,
   "id": "6214dc0e",
   "metadata": {},
   "outputs": [
    {
     "name": "stdout",
     "output_type": "stream",
     "text": [
      "Maximum value in column 'x' & 'z': \n",
      "x    89.0\n",
      "z    55.0\n",
      "dtype: float64\n"
     ]
    }
   ],
   "source": [
    "maxValues = abc[['x', 'z']].max()\n",
    " \n",
    "print(\"Maximum value in column 'x' & 'z': \")\n",
    "print(maxValues)"
   ]
  },
  {
   "cell_type": "markdown",
   "id": "471d7394",
   "metadata": {},
   "source": [
    "### How to get position of maximum values of every column?"
   ]
  },
  {
   "cell_type": "markdown",
   "id": "2d46b1c8",
   "metadata": {},
   "source": [
    "**DataFrame.idxmax()**: Pandas **dataframe.idxmax()** method returns index of first occurrence of maximum over requested axis. While finding the index of the maximum value across any index, all NA/null values are excluded. \n",
    "\n",
    "| Syntax | DataFrame.idxmax(axis=0, skipna=True) |\n",
    "| --- | --- |\n",
    "| **Parameters :** |  |\n",
    "| **axis :** | **0** or `‘index’` for **row-wise**, **1** or `‘columns’` for **column-wise**  |\n",
    "| **skipna :** | Exclude NA/null values. If an entire row/column is NA, the result will be NA |\n",
    "| **Returns :** | idxmax : Series |\n",
    " \n",
    "\n",
    "Let’s take some examples to understand how to use it :"
   ]
  },
  {
   "cell_type": "markdown",
   "id": "61adac5a",
   "metadata": {},
   "source": [
    "### How to get row index label of Maximum value in every column "
   ]
  },
  {
   "cell_type": "code",
   "execution_count": 45,
   "id": "755a7304",
   "metadata": {},
   "outputs": [
    {
     "name": "stdout",
     "output_type": "stream",
     "text": [
      "Maximum values of columns are at row index position :\n",
      "x    e\n",
      "y    a\n",
      "z    c\n",
      "dtype: object\n"
     ]
    }
   ],
   "source": [
    "# find the index position of maximum\n",
    "# values in every column\n",
    "maxValueIndex = abc.idxmax()\n",
    " \n",
    "print(\"Maximum values of columns are at row index position :\")\n",
    "print(maxValueIndex)"
   ]
  },
  {
   "cell_type": "markdown",
   "id": "93216072",
   "metadata": {},
   "source": [
    "It returns a series containing the column names as index and row as index labels where the maximum value exists in that column."
   ]
  },
  {
   "cell_type": "markdown",
   "id": "0759be17",
   "metadata": {},
   "source": [
    "### How to find Column names of Maximum value in every row?"
   ]
  },
  {
   "cell_type": "code",
   "execution_count": 46,
   "id": "76eceb3c",
   "metadata": {},
   "outputs": [
    {
     "name": "stdout",
     "output_type": "stream",
     "text": [
      "Max values of row are at following columns :\n",
      "a    y\n",
      "b    y\n",
      "c    z\n",
      "d    x\n",
      "e    x\n",
      "dtype: object\n"
     ]
    }
   ],
   "source": [
    "# find the column name of maximum\n",
    "# values in every row\n",
    "maxValueIndex = abc.idxmax(axis = 1)\n",
    " \n",
    "print(\"Max values of row are at following columns :\")\n",
    "print(maxValueIndex)"
   ]
  },
  {
   "cell_type": "markdown",
   "id": "7a95ce48",
   "metadata": {},
   "source": [
    "It returns a series containing the rows index labels as index and column names as values where the maximum value exists in that row."
   ]
  },
  {
   "cell_type": "markdown",
   "id": "c6b494af",
   "metadata": {},
   "source": [
    "<a id='section8'></a>\n",
    "## 8. [Python | Pandas dataframe.max()](https://www.geeksforgeeks.org/python-pandas-dataframe-max/?ref=lbp)"
   ]
  },
  {
   "cell_type": "markdown",
   "id": "c88b35b2",
   "metadata": {},
   "source": [
    "<a id='section9'></a>\n",
    "## 9. [Python | Pandas dataframe.idxmax()](https://www.geeksforgeeks.org/python-pandas-dataframe-idxmax/?ref=lbp)"
   ]
  },
  {
   "cell_type": "markdown",
   "id": "58d1fe38",
   "metadata": {},
   "source": [
    "<a id='section10'></a>\n",
    "## 10. [Get the index of maximum value in DataFrame column](https://www.geeksforgeeks.org/get-the-index-of-maximum-value-in-dataframe-column/?ref=lbp)"
   ]
  },
  {
   "cell_type": "markdown",
   "id": "6dbbe7e3",
   "metadata": {},
   "source": [
    "<a id='section11'></a>\n",
    "## 11. [How to get rows/index names in Pandas dataframe](https://www.geeksforgeeks.org/how-to-get-rows-index-names-in-pandas-dataframe/?ref=lbp)"
   ]
  },
  {
   "cell_type": "markdown",
   "id": "99c35945",
   "metadata": {},
   "source": [
    "<a id='section12'></a>\n",
    "## 12. [Decimal Functions in Python | Set 2 (logical_and(), normalize(), quantize(), rotate() … )](https://www.geeksforgeeks.org/decimal-functions-in-python-set-2-logical_and-normalize-quantize-rotate/?ref=lbp)"
   ]
  },
  {
   "cell_type": "markdown",
   "id": "30c9618d",
   "metadata": {},
   "source": [
    "<a id='section13'></a>\n",
    "## 13. [NetworkX : Python software package for study of complex networks](https://www.geeksforgeeks.org/networkx-python-software-package-study-complex-networks/?ref=lbp)"
   ]
  },
  {
   "cell_type": "markdown",
   "id": "f264aade",
   "metadata": {},
   "source": [
    "<a id='section14'></a>\n",
    "## 14. [Directed Graphs, Multigraphs and Visualization in Networkx](https://www.geeksforgeeks.org/directed-graphs-multigraphs-and-visualization-in-networkx/?ref=lbp)"
   ]
  },
  {
   "cell_type": "markdown",
   "id": "2cb159a7",
   "metadata": {},
   "source": [
    "<a id='section15'></a>\n",
    "## 15. [Python | Visualize graphs generated in NetworkX using Matplotlib](https://www.geeksforgeeks.org/python-visualize-graphs-generated-in-networkx-using-matplotlib/?ref=lbp)"
   ]
  },
  {
   "cell_type": "markdown",
   "id": "51ebde1b",
   "metadata": {},
   "source": [
    "<a id='section16'></a>\n",
    "## 16. [Visualize Graphs in Python](https://www.geeksforgeeks.org/visualize-graphs-in-python/?ref=lbp)"
   ]
  },
  {
   "cell_type": "markdown",
   "id": "a715514f",
   "metadata": {},
   "source": [
    "<a id='section17'></a>\n",
    "## 17. [Graph Plotting in Python | Set 1](https://www.geeksforgeeks.org/graph-plotting-in-python-set-1/?ref=lbp)"
   ]
  },
  {
   "cell_type": "markdown",
   "id": "9e0c306d",
   "metadata": {},
   "source": [
    "<a id='section18'></a>\n",
    "## 18. [Graph Plotting in Python | Set 2](https://www.geeksforgeeks.org/graph-plotting-python-set-2/?ref=lbp)"
   ]
  },
  {
   "cell_type": "markdown",
   "id": "28d425f1",
   "metadata": {},
   "source": [
    "<a id='section19'></a>\n",
    "## 19. [Graph Plotting in Python | Set 3](https://www.geeksforgeeks.org/graph-plotting-python-set-3/?ref=lbp)"
   ]
  },
  {
   "cell_type": "markdown",
   "id": "a1b41ac9",
   "metadata": {},
   "source": [
    "<a id='section20'></a>\n",
    "## 20. [Plotting graph using Seaborn | Python](https://www.geeksforgeeks.org/plotting-graph-using-seaborn-python/?ref=lbp)"
   ]
  },
  {
   "cell_type": "markdown",
   "id": "cb33761f",
   "metadata": {},
   "source": [
    "<a id='section21'></a>\n",
    "## 21. [Box plot visualization with Pandas and Seaborn](https://www.geeksforgeeks.org/box-plot-visualization-with-pandas-and-seaborn/?ref=lbp)"
   ]
  },
  {
   "cell_type": "markdown",
   "id": "7e8143c8",
   "metadata": {},
   "source": [
    "<a id='section22'></a>\n",
    "## 22. [Box Plot in Python using Matplotlib](https://www.geeksforgeeks.org/box-plot-in-python-using-matplotlib/?ref=lbp)"
   ]
  },
  {
   "cell_type": "markdown",
   "id": "b9cad81b",
   "metadata": {},
   "source": [
    "<a id='section23'></a>\n",
    "## 23. [How to get column names in Pandas dataframe](https://www.geeksforgeeks.org/how-to-get-column-names-in-pandas-dataframe/?ref=lbp)"
   ]
  },
  {
   "cell_type": "markdown",
   "id": "35dfac52",
   "metadata": {},
   "source": [
    "<a id='section24'></a>\n",
    "## 24. [Python | Pandas dataframe.groupby()](https://www.geeksforgeeks.org/python-pandas-dataframe-groupby/?ref=lbp)"
   ]
  },
  {
   "cell_type": "markdown",
   "id": "bd5a68b0",
   "metadata": {},
   "source": [
    "<a id='section25'></a>\n",
    "## 25. [Adding new column to existing DataFrame in Pandas](https://www.geeksforgeeks.org/adding-new-column-to-existing-dataframe-in-pandas/?ref=leftbar-rightbar)"
   ]
  },
  {
   "cell_type": "markdown",
   "id": "4470bbcd",
   "metadata": {},
   "source": [
    "<a id='section26'></a>\n",
    "## 26. [Python map() function](https://www.geeksforgeeks.org/python-map-function/?ref=leftbar-rightbar)"
   ]
  },
  {
   "cell_type": "markdown",
   "id": "76524814",
   "metadata": {},
   "source": [
    "<a id='section27'></a>\n",
    "## 27. [Taking input in Python](https://www.geeksforgeeks.org/taking-input-in-python/?ref=leftbar-rightbar)"
   ]
  },
  {
   "cell_type": "markdown",
   "id": "010533cb",
   "metadata": {},
   "source": [
    "<a id='section28'></a>\n",
    "## 28. [Iterate over a list in Python](https://www.geeksforgeeks.org/iterate-over-a-list-in-python/?ref=leftbar-rightbar)"
   ]
  },
  {
   "cell_type": "markdown",
   "id": "8549dd6c",
   "metadata": {},
   "source": [
    "<a id='section29'></a>\n",
    "## 29. [Python program to convert a list to string](https://www.geeksforgeeks.org/python-program-to-convert-a-list-to-string/?ref=leftbar-rightbar)"
   ]
  }
 ],
 "metadata": {
  "kernelspec": {
   "display_name": "Python 3",
   "language": "python",
   "name": "python3"
  },
  "language_info": {
   "codemirror_mode": {
    "name": "ipython",
    "version": 3
   },
   "file_extension": ".py",
   "mimetype": "text/x-python",
   "name": "python",
   "nbconvert_exporter": "python",
   "pygments_lexer": "ipython3",
   "version": "3.8.8"
  }
 },
 "nbformat": 4,
 "nbformat_minor": 5
}
